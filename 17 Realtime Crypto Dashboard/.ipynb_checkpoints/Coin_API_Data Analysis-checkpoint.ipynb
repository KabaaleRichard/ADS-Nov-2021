{
 "cells": [
  {
   "cell_type": "code",
   "execution_count": 1,
   "metadata": {},
   "outputs": [],
   "source": [
    "import requests\n",
    "import json\n",
    "import pandas as pd\n",
    "import plotly.graph_objects as go"
   ]
  },
  {
   "cell_type": "markdown",
   "metadata": {},
   "source": [
    "## Coin API\n",
    "- Coin API is a high-quality, one-stop-solution market data provider for cryptocurrency markets.\n",
    "- https://docs.coinapi.io/?python#timeseries-data-get"
   ]
  },
  {
   "cell_type": "code",
   "execution_count": 2,
   "metadata": {},
   "outputs": [],
   "source": [
    "#url = 'https://rest.coinapi.io/v1/ohlcv/BTC/USD/latest?period_id=1DAY'\n",
    "url = 'https://rest.coinapi.io/v1/ohlcv/BITSTAMP_SPOT_BTC_USD/latest?period_id=1DAY'\n",
    "apikey='88BF8257-E755-46D1-B79B-231FA32B11C9'\n",
    "headers = {'X-CoinAPI-Key': apikey}"
   ]
  },
  {
   "cell_type": "code",
   "execution_count": 3,
   "metadata": {},
   "outputs": [
    {
     "data": {
      "text/plain": [
       "<Response [200]>"
      ]
     },
     "execution_count": 3,
     "metadata": {},
     "output_type": "execute_result"
    }
   ],
   "source": [
    "response = requests.get(url, headers=headers)\n",
    "response"
   ]
  },
  {
   "cell_type": "code",
   "execution_count": 4,
   "metadata": {},
   "outputs": [
    {
     "data": {
      "text/plain": [
       "'[\\n  {\\n    \"time_period_start\": \"2021-11-24T00:00:00.0000000Z\",\\n    \"time_period_end\": \"2021-11-25T00:00:00.0000000Z\",\\n    \"time_open\": \"2021-11-24T00:00:08.5660000Z\",\\n    \"time_close\": \"2021-11-24T07:59:16.4830000Z\",\\n    \"price_open\": 57583.910000000,\\n    \"price_high\": 57750.200000000,\\n    \"price_low\": 56162.950000000,\\n    \"price_close\": 56535.790000000,\\n    \"volume_traded\": 585.907839090,\\n    \"trades_count\": 6194\\n  },\\n  {\\n    \"time_period_start\": \"2021-11-23T00:00:00.0000000Z\",\\n    \"time_period_end\": \"2021-11-24T00:00:00.0000000Z\",\\n    \"time_open\": \"2021-11-23T00:00:06.1610000Z\",\\n    \"time_close\": \"2021-11-23T23:59:50.6970000Z\",\\n    \"price_open\": 56283.800000000,\\n    \"price_high\": 57897.540000000,\\n    \"price_low\": 55128.600000000,\\n    \"price_close\": 57579.990000000,\\n    \"volume_traded\": 2732.084800610,\\n    \"trades_count\": 37441\\n  },\\n  {\\n    \"time_period_start\": \"2021-11-22T00:00:00.0000000Z\",\\n    \"time_period_end\": \"2021-11-23T00:00:00.0000000Z\",\\n    \"time_open\": \"2021-11-22T00:00:00.2350000Z\",\\n    \"time_close\": \"2021-11-22T23:59:55.9260000Z\",\\n    \"price_open\": 58679.270000000,\\n    \"price_high\": 59516.780000000,\\n    \"price_low\": 55628.570000000,\\n    \"price_close\": 56294.110000000,\\n    \"volume_traded\": 2943.101062710,\\n    \"trades_count\": 28762\\n  },\\n  {\\n    \"time_period_start\": \"2021-11-21T00:00:00.0000000Z\",\\n    \"time_period_end\": \"2021-11-22T00:00:00.0000000Z\",\\n    \"time_open\": \"2021-11-21T00:00:05.4950000Z\",\\n    \"time_close\": \"2021-11-21T23:59:54.2040000Z\",\\n    \"price_open\": 59785.850000000,\\n    \"price_high\": 60090.550000000,\\n    \"price_low\": 58525.840000000,\\n    \"price_close\": 58678.470000000,\\n    \"volume_traded\": 895.675094800,\\n    \"trades_count\": 11328\\n  },\\n  {\\n    \"time_period_start\": \"2021-11-20T00:00:00.0000000Z\",\\n    \"time_period_end\": \"2021-11-21T00:00:00.0000000Z\",\\n    \"time_open\": \"2021-11-20T00:00:08.2290000Z\",\\n    \"time_close\": \"2021-11-20T23:59:59.3440000Z\",\\n    \"price_open\": 58126.460000000,\\n    \"price_high\": 59896.540000000,\\n    \"price_low\": 57424.270000000,\\n    \"price_close\": 59768.540000000,\\n    \"volume_traded\": 1171.282419080,\\n    \"trades_count\": 17581\\n  },\\n  {\\n    \"time_period_start\": \"2021-11-19T00:00:00.0000000Z\",\\n    \"time_period_end\": \"2021-11-20T00:00:00.0000000Z\",\\n    \"time_open\": \"2021-11-19T00:00:04.7080000Z\",\\n    \"time_close\": \"2021-11-19T23:59:40.7550000Z\",\\n    \"price_open\": 56924.940000000,\\n    \"price_high\": 58402.050000000,\\n    \"price_low\": 55640.000000000,\\n    \"price_close\": 58128.550000000,\\n    \"volume_traded\": 3277.025859270,\\n    \"trades_count\": 44861\\n  },\\n  {\\n    \"time_period_start\": \"2021-11-18T00:00:00.0000000Z\",\\n    \"time_period_end\": \"2021-11-19T00:00:00.0000000Z\",\\n    \"time_open\": \"2021-11-18T00:00:18.0460000Z\",\\n    \"time_close\": \"2021-11-18T23:59:55.8800000Z\",\\n    \"price_open\": 60376.940000000,\\n    \"price_high\": 60978.390000000,\\n    \"price_low\": 56516.440000000,\\n    \"price_close\": 56917.660000000,\\n    \"volume_traded\": 6160.709757520,\\n    \"trades_count\": 88379\\n  },\\n  {\\n    \"time_period_start\": \"2021-11-17T00:00:00.0000000Z\",\\n    \"time_period_end\": \"2021-11-18T00:00:00.0000000Z\",\\n    \"time_open\": \"2021-11-17T00:00:04.6180000Z\",\\n    \"time_close\": \"2021-11-17T23:59:52.9510000Z\",\\n    \"price_open\": 60115.120000000,\\n    \"price_high\": 60888.500000000,\\n    \"price_low\": 58400.000000000,\\n    \"price_close\": 60373.650000000,\\n    \"volume_traded\": 3716.810559110,\\n    \"trades_count\": 37638\\n  },\\n  {\\n    \"time_period_start\": \"2021-11-16T00:00:00.0000000Z\",\\n    \"time_period_end\": \"2021-11-17T00:00:00.0000000Z\",\\n    \"time_open\": \"2021-11-16T00:00:14.6180000Z\",\\n    \"time_close\": \"2021-11-16T23:59:56.2180000Z\",\\n    \"price_open\": 63621.610000000,\\n    \"price_high\": 63628.000000000,\\n    \"price_low\": 58563.000000000,\\n    \"price_close\": 60142.310000000,\\n    \"volume_traded\": 4632.773317080,\\n    \"trades_count\": 41324\\n  },\\n  {\\n    \"time_period_start\": \"2021-11-15T00:00:00.0000000Z\",\\n    \"time_period_end\": \"2021-11-16T00:00:00.0000000Z\",\\n    \"time_open\": \"2021-11-15T00:00:00.2610000Z\",\\n    \"time_close\": \"2021-11-15T23:59:59.7920000Z\",\\n    \"price_open\": 65509.870000000,\\n    \"price_high\": 66387.400000000,\\n    \"price_low\": 63348.910000000,\\n    \"price_close\": 63606.090000000,\\n    \"volume_traded\": 2000.823622400,\\n    \"trades_count\": 23987\\n  },\\n  {\\n    \"time_period_start\": \"2021-11-14T00:00:00.0000000Z\",\\n    \"time_period_end\": \"2021-11-15T00:00:00.0000000Z\",\\n    \"time_open\": \"2021-11-14T00:00:00.9060000Z\",\\n    \"time_close\": \"2021-11-14T23:59:48.6090000Z\",\\n    \"price_open\": 64403.430000000,\\n    \"price_high\": 65509.870000000,\\n    \"price_low\": 63595.760000000,\\n    \"price_close\": 65509.870000000,\\n    \"volume_traded\": 1247.884517240,\\n    \"trades_count\": 15042\\n  },\\n  {\\n    \"time_period_start\": \"2021-11-13T00:00:00.0000000Z\",\\n    \"time_period_end\": \"2021-11-14T00:00:00.0000000Z\",\\n    \"time_open\": \"2021-11-13T00:00:04.9160000Z\",\\n    \"time_close\": \"2021-11-13T23:59:28.1770000Z\",\\n    \"price_open\": 64140.230000000,\\n    \"price_high\": 64980.000000000,\\n    \"price_low\": 63400.000000000,\\n    \"price_close\": 64417.520000000,\\n    \"volume_traded\": 830.131018070,\\n    \"trades_count\": 14446\\n  },\\n  {\\n    \"time_period_start\": \"2021-11-12T00:00:00.0000000Z\",\\n    \"time_period_end\": \"2021-11-13T00:00:00.0000000Z\",\\n    \"time_open\": \"2021-11-12T00:00:05.6670000Z\",\\n    \"time_close\": \"2021-11-12T23:59:56.9870000Z\",\\n    \"price_open\": 64783.130000000,\\n    \"price_high\": 65497.530000000,\\n    \"price_low\": 62294.840000000,\\n    \"price_close\": 64158.410000000,\\n    \"volume_traded\": 2519.307305630,\\n    \"trades_count\": 29770\\n  },\\n  {\\n    \"time_period_start\": \"2021-11-11T00:00:00.0000000Z\",\\n    \"time_period_end\": \"2021-11-12T00:00:00.0000000Z\",\\n    \"time_open\": \"2021-11-11T00:00:00.6560000Z\",\\n    \"time_close\": \"2021-11-11T23:59:26.5440000Z\",\\n    \"price_open\": 64919.180000000,\\n    \"price_high\": 65625.440000000,\\n    \"price_low\": 64140.000000000,\\n    \"price_close\": 64821.330000000,\\n    \"volume_traded\": 1583.283799770,\\n    \"trades_count\": 21518\\n  },\\n  {\\n    \"time_period_start\": \"2021-11-10T00:00:00.0000000Z\",\\n    \"time_period_end\": \"2021-11-11T00:00:00.0000000Z\",\\n    \"time_open\": \"2021-11-10T00:00:00.8070000Z\",\\n    \"time_close\": \"2021-11-10T23:59:59.0080000Z\",\\n    \"price_open\": 66928.420000000,\\n    \"price_high\": 69000.000000000,\\n    \"price_low\": 62856.710000000,\\n    \"price_close\": 64921.430000000,\\n    \"volume_traded\": 3419.118693170,\\n    \"trades_count\": 38019\\n  },\\n  {\\n    \"time_period_start\": \"2021-11-09T00:00:00.0000000Z\",\\n    \"time_period_end\": \"2021-11-10T00:00:00.0000000Z\",\\n    \"time_open\": \"2021-11-09T00:00:03.4940000Z\",\\n    \"time_close\": \"2021-11-09T23:59:33.7470000Z\",\\n    \"price_open\": 67547.490000000,\\n    \"price_high\": 68564.400000000,\\n    \"price_low\": 66250.000000000,\\n    \"price_close\": 66945.720000000,\\n    \"volume_traded\": 2136.858360860,\\n    \"trades_count\": 29087\\n  },\\n  {\\n    \"time_period_start\": \"2021-11-08T00:00:00.0000000Z\",\\n    \"time_period_end\": \"2021-11-09T00:00:00.0000000Z\",\\n    \"time_open\": \"2021-11-08T00:00:00.2100000Z\",\\n    \"time_close\": \"2021-11-08T23:59:58.7430000Z\",\\n    \"price_open\": 63300.000000000,\\n    \"price_high\": 67803.550000000,\\n    \"price_low\": 63300.000000000,\\n    \"price_close\": 67559.000000000,\\n    \"volume_traded\": 2715.423863670,\\n    \"trades_count\": 32491\\n  },\\n  {\\n    \"time_period_start\": \"2021-11-07T00:00:00.0000000Z\",\\n    \"time_period_end\": \"2021-11-08T00:00:00.0000000Z\",\\n    \"time_open\": \"2021-11-07T00:00:00.2570000Z\",\\n    \"time_close\": \"2021-11-07T23:59:59.9900000Z\",\\n    \"price_open\": 61542.430000000,\\n    \"price_high\": 63300.000000000,\\n    \"price_low\": 61396.570000000,\\n    \"price_close\": 63300.000000000,\\n    \"volume_traded\": 1115.668850610,\\n    \"trades_count\": 15289\\n  },\\n  {\\n    \"time_period_start\": \"2021-11-06T00:00:00.0000000Z\",\\n    \"time_period_end\": \"2021-11-07T00:00:00.0000000Z\",\\n    \"time_open\": \"2021-11-06T00:00:02.2250000Z\",\\n    \"time_close\": \"2021-11-06T23:59:52.5570000Z\",\\n    \"price_open\": 61008.190000000,\\n    \"price_high\": 61609.500000000,\\n    \"price_low\": 60109.910000000,\\n    \"price_close\": 61542.440000000,\\n    \"volume_traded\": 1258.520208720,\\n    \"trades_count\": 16910\\n  },\\n  {\\n    \"time_period_start\": \"2021-11-05T00:00:00.0000000Z\",\\n    \"time_period_end\": \"2021-11-06T00:00:00.0000000Z\",\\n    \"time_open\": \"2021-11-05T00:00:04.0620000Z\",\\n    \"time_close\": \"2021-11-05T23:59:06.7210000Z\",\\n    \"price_open\": 61430.020000000,\\n    \"price_high\": 62666.520000000,\\n    \"price_low\": 60769.170000000,\\n    \"price_close\": 61031.910000000,\\n    \"volume_traded\": 1569.407922180,\\n    \"trades_count\": 19839\\n  },\\n  {\\n    \"time_period_start\": \"2021-11-04T00:00:00.0000000Z\",\\n    \"time_period_end\": \"2021-11-05T00:00:00.0000000Z\",\\n    \"time_open\": \"2021-11-04T00:00:14.7480000Z\",\\n    \"time_close\": \"2021-11-04T23:59:56.4770000Z\",\\n    \"price_open\": 62945.380000000,\\n    \"price_high\": 63136.820000000,\\n    \"price_low\": 60725.000000000,\\n    \"price_close\": 61457.250000000,\\n    \"volume_traded\": 1507.542722290,\\n    \"trades_count\": 21751\\n  },\\n  {\\n    \"time_period_start\": \"2021-11-03T00:00:00.0000000Z\",\\n    \"time_period_end\": \"2021-11-04T00:00:00.0000000Z\",\\n    \"time_open\": \"2021-11-03T00:00:01.5720000Z\",\\n    \"time_close\": \"2021-11-03T23:59:57.6710000Z\",\\n    \"price_open\": 63260.000000000,\\n    \"price_high\": 63567.210000000,\\n    \"price_low\": 60018.460000000,\\n    \"price_close\": 62930.720000000,\\n    \"volume_traded\": 2148.470863390,\\n    \"trades_count\": 25234\\n  },\\n  {\\n    \"time_period_start\": \"2021-11-02T00:00:00.0000000Z\",\\n    \"time_period_end\": \"2021-11-03T00:00:00.0000000Z\",\\n    \"time_open\": \"2021-11-02T00:00:07.2650000Z\",\\n    \"time_close\": \"2021-11-02T23:59:59.5190000Z\",\\n    \"price_open\": 60949.780000000,\\n    \"price_high\": 64300.000000000,\\n    \"price_low\": 60669.910000000,\\n    \"price_close\": 63260.000000000,\\n    \"volume_traded\": 3336.044911960,\\n    \"trades_count\": 42133\\n  },\\n  {\\n    \"time_period_start\": \"2021-11-01T00:00:00.0000000Z\",\\n    \"time_period_end\": \"2021-11-02T00:00:00.0000000Z\",\\n    \"time_open\": \"2021-11-01T00:00:24.7730000Z\",\\n    \"time_close\": \"2021-11-01T23:59:57.7340000Z\",\\n    \"price_open\": 61356.570000000,\\n    \"price_high\": 62500.000000000,\\n    \"price_low\": 59500.000000000,\\n    \"price_close\": 60922.850000000,\\n    \"volume_traded\": 2507.397971070,\\n    \"trades_count\": 30200\\n  },\\n  {\\n    \"time_period_start\": \"2021-10-31T00:00:00.0000000Z\",\\n    \"time_period_end\": \"2021-11-01T00:00:00.0000000Z\",\\n    \"time_open\": \"2021-10-31T00:00:01.1090000Z\",\\n    \"time_close\": \"2021-10-31T23:59:55.3130000Z\",\\n    \"price_open\": 61904.960000000,\\n    \"price_high\": 62438.850000000,\\n    \"price_low\": 60000.000000000,\\n    \"price_close\": 61359.440000000,\\n    \"volume_traded\": 1548.129015910,\\n    \"trades_count\": 14674\\n  },\\n  {\\n    \"time_period_start\": \"2021-10-30T00:00:00.0000000Z\",\\n    \"time_period_end\": \"2021-10-31T00:00:00.0000000Z\",\\n    \"time_open\": \"2021-10-30T00:00:06.5390000Z\",\\n    \"time_close\": \"2021-10-30T23:59:58.3820000Z\",\\n    \"price_open\": 62278.920000000,\\n    \"price_high\": 62376.320000000,\\n    \"price_low\": 60660.020000000,\\n    \"price_close\": 61932.300000000,\\n    \"volume_traded\": 1542.319174770,\\n    \"trades_count\": 21447\\n  },\\n  {\\n    \"time_period_start\": \"2021-10-29T00:00:00.0000000Z\",\\n    \"time_period_end\": \"2021-10-30T00:00:00.0000000Z\",\\n    \"time_open\": \"2021-10-29T00:00:09.9220000Z\",\\n    \"time_close\": \"2021-10-29T23:59:56.4560000Z\",\\n    \"price_open\": 60608.950000000,\\n    \"price_high\": 62971.540000000,\\n    \"price_low\": 60154.530000000,\\n    \"price_close\": 62301.590000000,\\n    \"volume_traded\": 3884.642361720,\\n    \"trades_count\": 44515\\n  },\\n  {\\n    \"time_period_start\": \"2021-10-28T00:00:00.0000000Z\",\\n    \"time_period_end\": \"2021-10-29T00:00:00.0000000Z\",\\n    \"time_open\": \"2021-10-28T00:00:00.3420000Z\",\\n    \"time_close\": \"2021-10-28T23:58:49.3720000Z\",\\n    \"price_open\": 58471.060000000,\\n    \"price_high\": 62524.000000000,\\n    \"price_low\": 56425.000000000,\\n    \"price_close\": 60592.760000000,\\n    \"volume_traded\": 3769.755064390,\\n    \"trades_count\": 38401\\n  },\\n  {\\n    \"time_period_start\": \"2021-10-27T00:00:00.0000000Z\",\\n    \"time_period_end\": \"2021-10-28T00:00:00.0000000Z\",\\n    \"time_open\": \"2021-10-27T00:00:08.7410000Z\",\\n    \"time_close\": \"2021-10-27T23:59:58.9270000Z\",\\n    \"price_open\": 60331.400000000,\\n    \"price_high\": 61489.000000000,\\n    \"price_low\": 58100.010000000,\\n    \"price_close\": 58465.900000000,\\n    \"volume_traded\": 3479.738096110,\\n    \"trades_count\": 38954\\n  },\\n  {\\n    \"time_period_start\": \"2021-10-26T00:00:00.0000000Z\",\\n    \"time_period_end\": \"2021-10-27T00:00:00.0000000Z\",\\n    \"time_open\": \"2021-10-26T00:00:04.1810000Z\",\\n    \"time_close\": \"2021-10-26T23:59:47.5760000Z\",\\n    \"price_open\": 63101.430000000,\\n    \"price_high\": 63299.300000000,\\n    \"price_low\": 59830.000000000,\\n    \"price_close\": 60328.220000000,\\n    \"volume_traded\": 1965.255180840,\\n    \"trades_count\": 23006\\n  },\\n  {\\n    \"time_period_start\": \"2021-10-25T00:00:00.0000000Z\",\\n    \"time_period_end\": \"2021-10-26T00:00:00.0000000Z\",\\n    \"time_open\": \"2021-10-25T00:00:19.9010000Z\",\\n    \"time_close\": \"2021-10-25T23:59:58.0790000Z\",\\n    \"price_open\": 60883.960000000,\\n    \"price_high\": 63733.930000000,\\n    \"price_low\": 60670.000000000,\\n    \"price_close\": 63101.430000000,\\n    \"volume_traded\": 1723.100141180,\\n    \"trades_count\": 19448\\n  },\\n  {\\n    \"time_period_start\": \"2021-10-24T00:00:00.0000000Z\",\\n    \"time_period_end\": \"2021-10-25T00:00:00.0000000Z\",\\n    \"time_open\": \"2021-10-24T00:00:11.0500000Z\",\\n    \"time_close\": \"2021-10-24T23:58:15.8610000Z\",\\n    \"price_open\": 61306.640000000,\\n    \"price_high\": 61497.330000000,\\n    \"price_low\": 59510.000000000,\\n    \"price_close\": 60910.160000000,\\n    \"volume_traded\": 1204.847735470,\\n    \"trades_count\": 15333\\n  },\\n  {\\n    \"time_period_start\": \"2021-10-23T00:00:00.0000000Z\",\\n    \"time_period_end\": \"2021-10-24T00:00:00.0000000Z\",\\n    \"time_open\": \"2021-10-23T00:00:07.1310000Z\",\\n    \"time_close\": \"2021-10-23T23:59:52.0290000Z\",\\n    \"price_open\": 60698.540000000,\\n    \"price_high\": 61737.380000000,\\n    \"price_low\": 59633.610000000,\\n    \"price_close\": 61338.760000000,\\n    \"volume_traded\": 1056.079658270,\\n    \"trades_count\": 16008\\n  },\\n  {\\n    \"time_period_start\": \"2021-10-22T00:00:00.0000000Z\",\\n    \"time_period_end\": \"2021-10-23T00:00:00.0000000Z\",\\n    \"time_open\": \"2021-10-22T00:00:04.7510000Z\",\\n    \"time_close\": \"2021-10-22T23:59:56.4940000Z\",\\n    \"price_open\": 62207.510000000,\\n    \"price_high\": 63757.280000000,\\n    \"price_low\": 59953.740000000,\\n    \"price_close\": 60702.680000000,\\n    \"volume_traded\": 3159.421285480,\\n    \"trades_count\": 35735\\n  },\\n  {\\n    \"time_period_start\": \"2021-10-21T00:00:00.0000000Z\",\\n    \"time_period_end\": \"2021-10-22T00:00:00.0000000Z\",\\n    \"time_open\": \"2021-10-21T00:00:03.9670000Z\",\\n    \"time_close\": \"2021-10-21T23:59:57.7510000Z\",\\n    \"price_open\": 66027.810000000,\\n    \"price_high\": 66664.100000000,\\n    \"price_low\": 61850.000000000,\\n    \"price_close\": 62219.440000000,\\n    \"volume_traded\": 3889.467560060,\\n    \"trades_count\": 41326\\n  },\\n  {\\n    \"time_period_start\": \"2021-10-20T00:00:00.0000000Z\",\\n    \"time_period_end\": \"2021-10-21T00:00:00.0000000Z\",\\n    \"time_open\": \"2021-10-20T00:00:05.2010000Z\",\\n    \"time_close\": \"2021-10-20T23:59:42.8430000Z\",\\n    \"price_open\": 64282.200000000,\\n    \"price_high\": 67016.500000000,\\n    \"price_low\": 63529.000000000,\\n    \"price_close\": 65990.310000000,\\n    \"volume_traded\": 3070.684300050,\\n    \"trades_count\": 33061\\n  },\\n  {\\n    \"time_period_start\": \"2021-10-19T00:00:00.0000000Z\",\\n    \"time_period_end\": \"2021-10-20T00:00:00.0000000Z\",\\n    \"time_open\": \"2021-10-19T00:00:41.3290000Z\",\\n    \"time_close\": \"2021-10-19T23:59:42.3580000Z\",\\n    \"price_open\": 62014.990000000,\\n    \"price_high\": 64499.000000000,\\n    \"price_low\": 61350.000000000,\\n    \"price_close\": 64241.610000000,\\n    \"volume_traded\": 3259.011760520,\\n    \"trades_count\": 44242\\n  },\\n  {\\n    \"time_period_start\": \"2021-10-18T00:00:00.0000000Z\",\\n    \"time_period_end\": \"2021-10-19T00:00:00.0000000Z\",\\n    \"time_open\": \"2021-10-18T00:00:02.1060000Z\",\\n    \"time_close\": \"2021-10-18T23:59:58.2070000Z\",\\n    \"price_open\": 61519.520000000,\\n    \"price_high\": 62679.000000000,\\n    \"price_low\": 59013.000000000,\\n    \"price_close\": 62034.650000000,\\n    \"volume_traded\": 5754.551841600,\\n    \"trades_count\": 58094\\n  },\\n  {\\n    \"time_period_start\": \"2021-10-17T00:00:00.0000000Z\",\\n    \"time_period_end\": \"2021-10-18T00:00:00.0000000Z\",\\n    \"time_open\": \"2021-10-17T00:00:17.8990000Z\",\\n    \"time_close\": \"2021-10-17T23:59:52.2040000Z\",\\n    \"price_open\": 60885.270000000,\\n    \"price_high\": 61712.000000000,\\n    \"price_low\": 58933.000000000,\\n    \"price_close\": 61538.970000000,\\n    \"volume_traded\": 1261.129960840,\\n    \"trades_count\": 17669\\n  },\\n  {\\n    \"time_period_start\": \"2021-10-16T00:00:00.0000000Z\",\\n    \"time_period_end\": \"2021-10-17T00:00:00.0000000Z\",\\n    \"time_open\": \"2021-10-16T00:00:06.1680000Z\",\\n    \"time_close\": \"2021-10-16T23:59:43.1650000Z\",\\n    \"price_open\": 61703.450000000,\\n    \"price_high\": 62352.000000000,\\n    \"price_low\": 60100.270000000,\\n    \"price_close\": 60870.260000000,\\n    \"volume_traded\": 1263.448001760,\\n    \"trades_count\": 19869\\n  },\\n  {\\n    \"time_period_start\": \"2021-10-15T00:00:00.0000000Z\",\\n    \"time_period_end\": \"2021-10-16T00:00:00.0000000Z\",\\n    \"time_open\": \"2021-10-15T00:00:09.3490000Z\",\\n    \"time_close\": \"2021-10-15T23:59:56.1030000Z\",\\n    \"price_open\": 57370.480000000,\\n    \"price_high\": 62944.940000000,\\n    \"price_low\": 56877.000000000,\\n    \"price_close\": 61657.350000000,\\n    \"volume_traded\": 4201.896844470,\\n    \"trades_count\": 39477\\n  },\\n  {\\n    \"time_period_start\": \"2021-10-14T00:00:00.0000000Z\",\\n    \"time_period_end\": \"2021-10-15T00:00:00.0000000Z\",\\n    \"time_open\": \"2021-10-14T00:00:19.3090000Z\",\\n    \"time_close\": \"2021-10-14T23:59:54.5440000Z\",\\n    \"price_open\": 57395.840000000,\\n    \"price_high\": 58550.000000000,\\n    \"price_low\": 56830.560000000,\\n    \"price_close\": 57371.580000000,\\n    \"volume_traded\": 1877.820917180,\\n    \"trades_count\": 23246\\n  },\\n  {\\n    \"time_period_start\": \"2021-10-13T00:00:00.0000000Z\",\\n    \"time_period_end\": \"2021-10-14T00:00:00.0000000Z\",\\n    \"time_open\": \"2021-10-13T00:00:38.8460000Z\",\\n    \"time_close\": \"2021-10-13T23:59:46.7580000Z\",\\n    \"price_open\": 56004.610000000,\\n    \"price_high\": 57773.890000000,\\n    \"price_low\": 54231.000000000,\\n    \"price_close\": 57374.550000000,\\n    \"volume_traded\": 3359.414397580,\\n    \"trades_count\": 32817\\n  },\\n  {\\n    \"time_period_start\": \"2021-10-12T00:00:00.0000000Z\",\\n    \"time_period_end\": \"2021-10-13T00:00:00.0000000Z\",\\n    \"time_open\": \"2021-10-12T00:00:03.9500000Z\",\\n    \"time_close\": \"2021-10-12T23:59:55.0820000Z\",\\n    \"price_open\": 57490.000000000,\\n    \"price_high\": 57701.000000000,\\n    \"price_low\": 53909.000000000,\\n    \"price_close\": 55995.490000000,\\n    \"volume_traded\": 3224.839703060,\\n    \"trades_count\": 29946\\n  },\\n  {\\n    \"time_period_start\": \"2021-10-11T00:00:00.0000000Z\",\\n    \"time_period_end\": \"2021-10-12T00:00:00.0000000Z\",\\n    \"time_open\": \"2021-10-11T00:00:15.4480000Z\",\\n    \"time_close\": \"2021-10-11T23:59:58.4060000Z\",\\n    \"price_open\": 54657.000000000,\\n    \"price_high\": 57855.790000000,\\n    \"price_low\": 54462.450000000,\\n    \"price_close\": 57485.200000000,\\n    \"volume_traded\": 1955.785603340,\\n    \"trades_count\": 22579\\n  },\\n  {\\n    \"time_period_start\": \"2021-10-10T00:00:00.0000000Z\",\\n    \"time_period_end\": \"2021-10-11T00:00:00.0000000Z\",\\n    \"time_open\": \"2021-10-10T00:00:11.8210000Z\",\\n    \"time_close\": \"2021-10-10T23:59:03.8780000Z\",\\n    \"price_open\": 54984.490000000,\\n    \"price_high\": 56561.000000000,\\n    \"price_low\": 51000.000000000,\\n    \"price_close\": 54714.950000000,\\n    \"volume_traded\": 1735.421935080,\\n    \"trades_count\": 19568\\n  },\\n  {\\n    \"time_period_start\": \"2021-10-09T00:00:00.0000000Z\",\\n    \"time_period_end\": \"2021-10-10T00:00:00.0000000Z\",\\n    \"time_open\": \"2021-10-09T00:00:05.1750000Z\",\\n    \"time_close\": \"2021-10-09T23:59:58.6630000Z\",\\n    \"price_open\": 53952.820000000,\\n    \"price_high\": 55512.050000000,\\n    \"price_low\": 53674.690000000,\\n    \"price_close\": 54976.920000000,\\n    \"volume_traded\": 1061.023243340,\\n    \"trades_count\": 18479\\n  },\\n  {\\n    \"time_period_start\": \"2021-10-08T00:00:00.0000000Z\",\\n    \"time_period_end\": \"2021-10-09T00:00:00.0000000Z\",\\n    \"time_open\": \"2021-10-08T00:00:00.0810000Z\",\\n    \"time_close\": \"2021-10-08T23:59:57.4620000Z\",\\n    \"price_open\": 53816.160000000,\\n    \"price_high\": 56168.000000000,\\n    \"price_low\": 53623.020000000,\\n    \"price_close\": 53957.210000000,\\n    \"volume_traded\": 2217.755136850,\\n    \"trades_count\": 27023\\n  },\\n  {\\n    \"time_period_start\": \"2021-10-07T00:00:00.0000000Z\",\\n    \"time_period_end\": \"2021-10-08T00:00:00.0000000Z\",\\n    \"time_open\": \"2021-10-07T00:00:02.7080000Z\",\\n    \"time_close\": \"2021-10-07T23:59:41.3420000Z\",\\n    \"price_open\": 55360.100000000,\\n    \"price_high\": 55360.320000000,\\n    \"price_low\": 53289.570000000,\\n    \"price_close\": 53787.600000000,\\n    \"volume_traded\": 2349.088700970,\\n    \"trades_count\": 23184\\n  },\\n  {\\n    \"time_period_start\": \"2021-10-06T00:00:00.0000000Z\",\\n    \"time_period_end\": \"2021-10-07T00:00:00.0000000Z\",\\n    \"time_open\": \"2021-10-06T00:00:13.3350000Z\",\\n    \"time_close\": \"2021-10-06T23:59:45.9490000Z\",\\n    \"price_open\": 51521.890000000,\\n    \"price_high\": 55800.000000000,\\n    \"price_low\": 50428.640000000,\\n    \"price_close\": 55345.790000000,\\n    \"volume_traded\": 4441.690227030,\\n    \"trades_count\": 35161\\n  },\\n  {\\n    \"time_period_start\": \"2021-10-05T00:00:00.0000000Z\",\\n    \"time_period_end\": \"2021-10-06T00:00:00.0000000Z\",\\n    \"time_open\": \"2021-10-05T00:00:14.1020000Z\",\\n    \"time_close\": \"2021-10-05T23:59:47.6000000Z\",\\n    \"price_open\": 49283.890000000,\\n    \"price_high\": 51914.680000000,\\n    \"price_low\": 49075.000000000,\\n    \"price_close\": 51501.190000000,\\n    \"volume_traded\": 2200.700303300,\\n    \"trades_count\": 24046\\n  },\\n  {\\n    \"time_period_start\": \"2021-10-04T00:00:00.0000000Z\",\\n    \"time_period_end\": \"2021-10-05T00:00:00.0000000Z\",\\n    \"time_open\": \"2021-10-04T00:00:10.0470000Z\",\\n    \"time_close\": \"2021-10-04T23:59:54.5970000Z\",\\n    \"price_open\": 48231.040000000,\\n    \"price_high\": 49530.530000000,\\n    \"price_low\": 46900.000000000,\\n    \"price_close\": 49242.140000000,\\n    \"volume_traded\": 2722.975539850,\\n    \"trades_count\": 25309\\n  },\\n  {\\n    \"time_period_start\": \"2021-10-03T00:00:00.0000000Z\",\\n    \"time_period_end\": \"2021-10-04T00:00:00.0000000Z\",\\n    \"time_open\": \"2021-10-03T00:00:07.3630000Z\",\\n    \"time_close\": \"2021-10-03T23:59:59.0340000Z\",\\n    \"price_open\": 47644.630000000,\\n    \"price_high\": 49225.550000000,\\n    \"price_low\": 47119.870000000,\\n    \"price_close\": 48235.930000000,\\n    \"volume_traded\": 1163.707634680,\\n    \"trades_count\": 14501\\n  },\\n  {\\n    \"time_period_start\": \"2021-10-02T00:00:00.0000000Z\",\\n    \"time_period_end\": \"2021-10-03T00:00:00.0000000Z\",\\n    \"time_open\": \"2021-10-02T00:00:00.6340000Z\",\\n    \"time_close\": \"2021-10-02T23:59:53.2180000Z\",\\n    \"price_open\": 48185.610000000,\\n    \"price_high\": 48361.830000000,\\n    \"price_low\": 47468.150000000,\\n    \"price_close\": 47685.800000000,\\n    \"volume_traded\": 1361.718308870,\\n    \"trades_count\": 16464\\n  },\\n  {\\n    \"time_period_start\": \"2021-10-01T00:00:00.0000000Z\",\\n    \"time_period_end\": \"2021-10-02T00:00:00.0000000Z\",\\n    \"time_open\": \"2021-10-01T00:00:06.3800000Z\",\\n    \"time_close\": \"2021-10-01T23:59:42.0490000Z\",\\n    \"price_open\": 43835.470000000,\\n    \"price_high\": 48500.000000000,\\n    \"price_low\": 43291.070000000,\\n    \"price_close\": 48171.860000000,\\n    \"volume_traded\": 3426.368349390,\\n    \"trades_count\": 39399\\n  },\\n  {\\n    \"time_period_start\": \"2021-09-30T00:00:00.0000000Z\",\\n    \"time_period_end\": \"2021-10-01T00:00:00.0000000Z\",\\n    \"time_open\": \"2021-09-30T00:00:09.3140000Z\",\\n    \"time_close\": \"2021-09-30T23:59:59.6940000Z\",\\n    \"price_open\": 41537.560000000,\\n    \"price_high\": 44117.740000000,\\n    \"price_low\": 41427.870000000,\\n    \"price_close\": 43834.430000000,\\n    \"volume_traded\": 2613.644484380,\\n    \"trades_count\": 26671\\n  },\\n  {\\n    \"time_period_start\": \"2021-09-29T00:00:00.0000000Z\",\\n    \"time_period_end\": \"2021-09-30T00:00:00.0000000Z\",\\n    \"time_open\": \"2021-09-29T00:00:02.0060000Z\",\\n    \"time_close\": \"2021-09-29T23:59:49.6510000Z\",\\n    \"price_open\": 41024.210000000,\\n    \"price_high\": 42595.930000000,\\n    \"price_low\": 40750.000000000,\\n    \"price_close\": 41542.900000000,\\n    \"volume_traded\": 1804.777564740,\\n    \"trades_count\": 18711\\n  },\\n  {\\n    \"time_period_start\": \"2021-09-28T00:00:00.0000000Z\",\\n    \"time_period_end\": \"2021-09-29T00:00:00.0000000Z\",\\n    \"time_open\": \"2021-09-28T00:00:14.2050000Z\",\\n    \"time_close\": \"2021-09-28T23:59:54.5410000Z\",\\n    \"price_open\": 42154.870000000,\\n    \"price_high\": 42778.930000000,\\n    \"price_low\": 40888.000000000,\\n    \"price_close\": 41049.000000000,\\n    \"volume_traded\": 2246.738569770,\\n    \"trades_count\": 21912\\n  },\\n  {\\n    \"time_period_start\": \"2021-09-27T00:00:00.0000000Z\",\\n    \"time_period_end\": \"2021-09-28T00:00:00.0000000Z\",\\n    \"time_open\": \"2021-09-27T00:00:03.1090000Z\",\\n    \"time_close\": \"2021-09-27T23:59:48.0470000Z\",\\n    \"price_open\": 43162.820000000,\\n    \"price_high\": 44377.700000000,\\n    \"price_low\": 42130.000000000,\\n    \"price_close\": 42189.810000000,\\n    \"volume_traded\": 1936.031438050,\\n    \"trades_count\": 20242\\n  },\\n  {\\n    \"time_period_start\": \"2021-09-26T00:00:00.0000000Z\",\\n    \"time_period_end\": \"2021-09-27T00:00:00.0000000Z\",\\n    \"time_open\": \"2021-09-26T00:00:08.1230000Z\",\\n    \"time_close\": \"2021-09-26T23:59:56.0770000Z\",\\n    \"price_open\": 42699.100000000,\\n    \"price_high\": 43956.380000000,\\n    \"price_low\": 40808.000000000,\\n    \"price_close\": 43204.730000000,\\n    \"volume_traded\": 1641.366321910,\\n    \"trades_count\": 16249\\n  },\\n  {\\n    \"time_period_start\": \"2021-09-25T00:00:00.0000000Z\",\\n    \"time_period_end\": \"2021-09-26T00:00:00.0000000Z\",\\n    \"time_open\": \"2021-09-25T00:00:09.4430000Z\",\\n    \"time_close\": \"2021-09-25T23:59:26.8780000Z\",\\n    \"price_open\": 42835.880000000,\\n    \"price_high\": 43010.690000000,\\n    \"price_low\": 41689.600000000,\\n    \"price_close\": 42722.190000000,\\n    \"volume_traded\": 879.038203820,\\n    \"trades_count\": 12606\\n  },\\n  {\\n    \"time_period_start\": \"2021-09-24T00:00:00.0000000Z\",\\n    \"time_period_end\": \"2021-09-25T00:00:00.0000000Z\",\\n    \"time_open\": \"2021-09-24T00:00:19.3380000Z\",\\n    \"time_close\": \"2021-09-24T23:59:55.3380000Z\",\\n    \"price_open\": 44893.700000000,\\n    \"price_high\": 45159.900000000,\\n    \"price_low\": 40693.270000000,\\n    \"price_close\": 42848.500000000,\\n    \"volume_traded\": 4343.182041580,\\n    \"trades_count\": 35051\\n  },\\n  {\\n    \"time_period_start\": \"2021-09-23T00:00:00.0000000Z\",\\n    \"time_period_end\": \"2021-09-24T00:00:00.0000000Z\",\\n    \"time_open\": \"2021-09-23T00:00:03.3950000Z\",\\n    \"time_close\": \"2021-09-23T23:59:46.2660000Z\",\\n    \"price_open\": 43586.000000000,\\n    \"price_high\": 45013.170000000,\\n    \"price_low\": 43105.000000000,\\n    \"price_close\": 44903.500000000,\\n    \"volume_traded\": 2316.644885770,\\n    \"trades_count\": 21958\\n  },\\n  {\\n    \"time_period_start\": \"2021-09-22T00:00:00.0000000Z\",\\n    \"time_period_end\": \"2021-09-23T00:00:00.0000000Z\",\\n    \"time_open\": \"2021-09-22T00:00:03.4570000Z\",\\n    \"time_close\": \"2021-09-22T23:59:59.7740000Z\",\\n    \"price_open\": 40702.070000000,\\n    \"price_high\": 44031.850000000,\\n    \"price_low\": 40580.180000000,\\n    \"price_close\": 43589.530000000,\\n    \"volume_traded\": 3039.720919640,\\n    \"trades_count\": 24936\\n  },\\n  {\\n    \"time_period_start\": \"2021-09-21T00:00:00.0000000Z\",\\n    \"time_period_end\": \"2021-09-22T00:00:00.0000000Z\",\\n    \"time_open\": \"2021-09-21T00:00:04.0310000Z\",\\n    \"time_close\": \"2021-09-21T23:59:50.1910000Z\",\\n    \"price_open\": 43003.070000000,\\n    \"price_high\": 43643.340000000,\\n    \"price_low\": 39573.210000000,\\n    \"price_close\": 40596.540000000,\\n    \"volume_traded\": 5960.827334870,\\n    \"trades_count\": 50199\\n  },\\n  {\\n    \"time_period_start\": \"2021-09-20T00:00:00.0000000Z\",\\n    \"time_period_end\": \"2021-09-21T00:00:00.0000000Z\",\\n    \"time_open\": \"2021-09-20T00:00:00.9900000Z\",\\n    \"time_close\": \"2021-09-20T23:59:54.4000000Z\",\\n    \"price_open\": 47257.860000000,\\n    \"price_high\": 47334.540000000,\\n    \"price_low\": 42453.970000000,\\n    \"price_close\": 43035.990000000,\\n    \"volume_traded\": 4240.485419680,\\n    \"trades_count\": 30813\\n  },\\n  {\\n    \"time_period_start\": \"2021-09-19T00:00:00.0000000Z\",\\n    \"time_period_end\": \"2021-09-20T00:00:00.0000000Z\",\\n    \"time_open\": \"2021-09-19T00:00:33.4940000Z\",\\n    \"time_close\": \"2021-09-19T23:59:36.8030000Z\",\\n    \"price_open\": 48307.050000000,\\n    \"price_high\": 48389.520000000,\\n    \"price_low\": 46860.000000000,\\n    \"price_close\": 47245.250000000,\\n    \"volume_traded\": 999.595990850,\\n    \"trades_count\": 13166\\n  },\\n  {\\n    \"time_period_start\": \"2021-09-18T00:00:00.0000000Z\",\\n    \"time_period_end\": \"2021-09-19T00:00:00.0000000Z\",\\n    \"time_open\": \"2021-09-18T00:00:10.7480000Z\",\\n    \"time_close\": \"2021-09-18T23:59:39.8060000Z\",\\n    \"price_open\": 47316.210000000,\\n    \"price_high\": 48834.000000000,\\n    \"price_low\": 47052.900000000,\\n    \"price_close\": 48326.740000000,\\n    \"volume_traded\": 1452.506230730,\\n    \"trades_count\": 15138\\n  },\\n  {\\n    \"time_period_start\": \"2021-09-17T00:00:00.0000000Z\",\\n    \"time_period_end\": \"2021-09-18T00:00:00.0000000Z\",\\n    \"time_open\": \"2021-09-17T00:00:13.0160000Z\",\\n    \"time_close\": \"2021-09-17T23:59:56.9460000Z\",\\n    \"price_open\": 47773.440000000,\\n    \"price_high\": 48179.000000000,\\n    \"price_low\": 46712.140000000,\\n    \"price_close\": 47305.180000000,\\n    \"volume_traded\": 1558.515132990,\\n    \"trades_count\": 18793\\n  },\\n  {\\n    \"time_period_start\": \"2021-09-16T00:00:00.0000000Z\",\\n    \"time_period_end\": \"2021-09-17T00:00:00.0000000Z\",\\n    \"time_open\": \"2021-09-16T00:00:15.5500000Z\",\\n    \"time_close\": \"2021-09-16T23:59:52.6720000Z\",\\n    \"price_open\": 48188.120000000,\\n    \"price_high\": 48505.000000000,\\n    \"price_low\": 47035.000000000,\\n    \"price_close\": 47760.640000000,\\n    \"volume_traded\": 1885.971997850,\\n    \"trades_count\": 19193\\n  },\\n  {\\n    \"time_period_start\": \"2021-09-15T00:00:00.0000000Z\",\\n    \"time_period_end\": \"2021-09-16T00:00:00.0000000Z\",\\n    \"time_open\": \"2021-09-15T00:00:03.6420000Z\",\\n    \"time_close\": \"2021-09-15T23:59:58.5640000Z\",\\n    \"price_open\": 47123.810000000,\\n    \"price_high\": 48465.770000000,\\n    \"price_low\": 46702.260000000,\\n    \"price_close\": 48150.940000000,\\n    \"volume_traded\": 1307.218810920,\\n    \"trades_count\": 18256\\n  },\\n  {\\n    \"time_period_start\": \"2021-09-14T00:00:00.0000000Z\",\\n    \"time_period_end\": \"2021-09-15T00:00:00.0000000Z\",\\n    \"time_open\": \"2021-09-14T00:00:29.2590000Z\",\\n    \"time_close\": \"2021-09-14T23:59:49.9810000Z\",\\n    \"price_open\": 44983.770000000,\\n    \"price_high\": 47273.380000000,\\n    \"price_low\": 44704.180000000,\\n    \"price_close\": 47103.180000000,\\n    \"volume_traded\": 1642.796574050,\\n    \"trades_count\": 18084\\n  },\\n  {\\n    \"time_period_start\": \"2021-09-13T00:00:00.0000000Z\",\\n    \"time_period_end\": \"2021-09-14T00:00:00.0000000Z\",\\n    \"time_open\": \"2021-09-13T00:00:20.8700000Z\",\\n    \"time_close\": \"2021-09-13T23:59:41.0630000Z\",\\n    \"price_open\": 46039.420000000,\\n    \"price_high\": 46895.820000000,\\n    \"price_low\": 43400.000000000,\\n    \"price_close\": 44974.340000000,\\n    \"volume_traded\": 2308.422073790,\\n    \"trades_count\": 19759\\n  },\\n  {\\n    \"time_period_start\": \"2021-09-12T00:00:00.0000000Z\",\\n    \"time_period_end\": \"2021-09-13T00:00:00.0000000Z\",\\n    \"time_open\": \"2021-09-12T00:00:12.4260000Z\",\\n    \"time_close\": \"2021-09-12T23:59:58.0300000Z\",\\n    \"price_open\": 45162.960000000,\\n    \"price_high\": 46491.630000000,\\n    \"price_low\": 44752.960000000,\\n    \"price_close\": 46035.000000000,\\n    \"volume_traded\": 1015.762158320,\\n    \"trades_count\": 11690\\n  },\\n  {\\n    \"time_period_start\": \"2021-09-11T00:00:00.0000000Z\",\\n    \"time_period_end\": \"2021-09-12T00:00:00.0000000Z\",\\n    \"time_open\": \"2021-09-11T00:00:07.9710000Z\",\\n    \"time_close\": \"2021-09-11T23:59:43.5430000Z\",\\n    \"price_open\": 44858.200000000,\\n    \"price_high\": 45993.320000000,\\n    \"price_low\": 44767.750000000,\\n    \"price_close\": 45176.660000000,\\n    \"volume_traded\": 906.806203760,\\n    \"trades_count\": 11009\\n  },\\n  {\\n    \"time_period_start\": \"2021-09-10T00:00:00.0000000Z\",\\n    \"time_period_end\": \"2021-09-11T00:00:00.0000000Z\",\\n    \"time_open\": \"2021-09-10T00:00:15.4390000Z\",\\n    \"time_close\": \"2021-09-10T23:59:55.8520000Z\",\\n    \"price_open\": 46368.110000000,\\n    \"price_high\": 47029.080000000,\\n    \"price_low\": 44125.000000000,\\n    \"price_close\": 44857.380000000,\\n    \"volume_traded\": 2392.325736760,\\n    \"trades_count\": 21285\\n  },\\n  {\\n    \"time_period_start\": \"2021-09-09T00:00:00.0000000Z\",\\n    \"time_period_end\": \"2021-09-10T00:00:00.0000000Z\",\\n    \"time_open\": \"2021-09-09T00:00:03.0000000Z\",\\n    \"time_close\": \"2021-09-09T23:59:51.5020000Z\",\\n    \"price_open\": 46070.430000000,\\n    \"price_high\": 47419.950000000,\\n    \"price_low\": 45550.000000000,\\n    \"price_close\": 46392.810000000,\\n    \"volume_traded\": 2595.986969520,\\n    \"trades_count\": 19085\\n  },\\n  {\\n    \"time_period_start\": \"2021-09-08T00:00:00.0000000Z\",\\n    \"time_period_end\": \"2021-09-09T00:00:00.0000000Z\",\\n    \"time_open\": \"2021-09-08T00:00:06.9620000Z\",\\n    \"time_close\": \"2021-09-08T23:59:51.9270000Z\",\\n    \"price_open\": 46894.300000000,\\n    \"price_high\": 47386.720000000,\\n    \"price_low\": 44436.930000000,\\n    \"price_close\": 46091.940000000,\\n    \"volume_traded\": 3307.477545950,\\n    \"trades_count\": 25984\\n  },\\n  {\\n    \"time_period_start\": \"2021-09-07T00:00:00.0000000Z\",\\n    \"time_period_end\": \"2021-09-08T00:00:00.0000000Z\",\\n    \"time_open\": \"2021-09-07T00:00:23.8050000Z\",\\n    \"time_close\": \"2021-09-07T23:59:58.2750000Z\",\\n    \"price_open\": 52719.430000000,\\n    \"price_high\": 52956.470000000,\\n    \"price_low\": 42900.010000000,\\n    \"price_close\": 46866.820000000,\\n    \"volume_traded\": 6811.922188150,\\n    \"trades_count\": 41505\\n  },\\n  {\\n    \"time_period_start\": \"2021-09-06T00:00:00.0000000Z\",\\n    \"time_period_end\": \"2021-09-07T00:00:00.0000000Z\",\\n    \"time_open\": \"2021-09-06T00:00:06.8770000Z\",\\n    \"time_close\": \"2021-09-06T23:59:32.4810000Z\",\\n    \"price_open\": 51809.280000000,\\n    \"price_high\": 52810.000000000,\\n    \"price_low\": 51024.320000000,\\n    \"price_close\": 52708.200000000,\\n    \"volume_traded\": 2056.371354820,\\n    \"trades_count\": 14232\\n  },\\n  {\\n    \"time_period_start\": \"2021-09-05T00:00:00.0000000Z\",\\n    \"time_period_end\": \"2021-09-06T00:00:00.0000000Z\",\\n    \"time_open\": \"2021-09-05T00:00:03.3340000Z\",\\n    \"time_close\": \"2021-09-05T23:59:51.0410000Z\",\\n    \"price_open\": 49965.320000000,\\n    \"price_high\": 51900.000000000,\\n    \"price_low\": 49500.000000000,\\n    \"price_close\": 51809.280000000,\\n    \"volume_traded\": 986.487083000,\\n    \"trades_count\": 10864\\n  },\\n  {\\n    \"time_period_start\": \"2021-09-04T00:00:00.0000000Z\",\\n    \"time_period_end\": \"2021-09-05T00:00:00.0000000Z\",\\n    \"time_open\": \"2021-09-04T00:00:10.4170000Z\",\\n    \"time_close\": \"2021-09-04T23:59:44.9760000Z\",\\n    \"price_open\": 50033.500000000,\\n    \"price_high\": 50570.940000000,\\n    \"price_low\": 49388.260000000,\\n    \"price_close\": 49943.160000000,\\n    \"volume_traded\": 869.288392850,\\n    \"trades_count\": 11203\\n  },\\n  {\\n    \"time_period_start\": \"2021-09-03T00:00:00.0000000Z\",\\n    \"time_period_end\": \"2021-09-04T00:00:00.0000000Z\",\\n    \"time_open\": \"2021-09-03T00:00:10.4420000Z\",\\n    \"time_close\": \"2021-09-03T23:59:54.6340000Z\",\\n    \"price_open\": 49284.930000000,\\n    \"price_high\": 51050.000000000,\\n    \"price_low\": 48351.600000000,\\n    \"price_close\": 50025.040000000,\\n    \"volume_traded\": 2226.782948540,\\n    \"trades_count\": 23748\\n  },\\n  {\\n    \"time_period_start\": \"2021-09-02T00:00:00.0000000Z\",\\n    \"time_period_end\": \"2021-09-03T00:00:00.0000000Z\",\\n    \"time_open\": \"2021-09-02T00:00:09.4220000Z\",\\n    \"time_close\": \"2021-09-02T23:59:57.7010000Z\",\\n    \"price_open\": 48830.930000000,\\n    \"price_high\": 50390.000000000,\\n    \"price_low\": 48625.000000000,\\n    \"price_close\": 49274.790000000,\\n    \"volume_traded\": 2267.931975240,\\n    \"trades_count\": 21035\\n  },\\n  {\\n    \"time_period_start\": \"2021-09-01T00:00:00.0000000Z\",\\n    \"time_period_end\": \"2021-09-02T00:00:00.0000000Z\",\\n    \"time_open\": \"2021-09-01T00:00:11.7420000Z\",\\n    \"time_close\": \"2021-09-01T23:59:49.2590000Z\",\\n    \"price_open\": 47118.020000000,\\n    \"price_high\": 49134.000000000,\\n    \"price_low\": 46532.420000000,\\n    \"price_close\": 48853.490000000,\\n    \"volume_traded\": 2194.613078800,\\n    \"trades_count\": 19749\\n  },\\n  {\\n    \"time_period_start\": \"2021-08-31T00:00:00.0000000Z\",\\n    \"time_period_end\": \"2021-09-01T00:00:00.0000000Z\",\\n    \"time_open\": \"2021-08-31T00:00:02.1210000Z\",\\n    \"time_close\": \"2021-08-31T23:59:35.5040000Z\",\\n    \"price_open\": 46969.050000000,\\n    \"price_high\": 48270.330000000,\\n    \"price_low\": 46699.000000000,\\n    \"price_close\": 47156.090000000,\\n    \"volume_traded\": 2239.167703200,\\n    \"trades_count\": 24000\\n  },\\n  {\\n    \"time_period_start\": \"2021-08-30T00:00:00.0000000Z\",\\n    \"time_period_end\": \"2021-08-31T00:00:00.0000000Z\",\\n    \"time_open\": \"2021-08-30T00:00:17.9010000Z\",\\n    \"time_close\": \"2021-08-30T23:59:58.4370000Z\",\\n    \"price_open\": 48782.560000000,\\n    \"price_high\": 48915.290000000,\\n    \"price_low\": 46855.410000000,\\n    \"price_close\": 47003.440000000,\\n    \"volume_traded\": 1676.482551080,\\n    \"trades_count\": 17285\\n  },\\n  {\\n    \"time_period_start\": \"2021-08-29T00:00:00.0000000Z\",\\n    \"time_period_end\": \"2021-08-30T00:00:00.0000000Z\",\\n    \"time_open\": \"2021-08-29T00:00:03.9370000Z\",\\n    \"time_close\": \"2021-08-29T23:59:53.7230000Z\",\\n    \"price_open\": 48947.100000000,\\n    \"price_high\": 49666.000000000,\\n    \"price_low\": 47798.290000000,\\n    \"price_close\": 48808.720000000,\\n    \"volume_traded\": 1044.481890340,\\n    \"trades_count\": 10609\\n  },\\n  {\\n    \"time_period_start\": \"2021-08-28T00:00:00.0000000Z\",\\n    \"time_period_end\": \"2021-08-29T00:00:00.0000000Z\",\\n    \"time_open\": \"2021-08-28T00:00:01.9670000Z\",\\n    \"time_close\": \"2021-08-28T23:59:52.2610000Z\",\\n    \"price_open\": 49100.490000000,\\n    \"price_high\": 49325.000000000,\\n    \"price_low\": 48244.880000000,\\n    \"price_close\": 48935.360000000,\\n    \"volume_traded\": 692.705885510,\\n    \"trades_count\": 10228\\n  },\\n  {\\n    \"time_period_start\": \"2021-08-27T00:00:00.0000000Z\",\\n    \"time_period_end\": \"2021-08-28T00:00:00.0000000Z\",\\n    \"time_open\": \"2021-08-27T00:00:09.5240000Z\",\\n    \"time_close\": \"2021-08-27T23:59:41.8460000Z\",\\n    \"price_open\": 46857.860000000,\\n    \"price_high\": 49187.000000000,\\n    \"price_low\": 46363.000000000,\\n    \"price_close\": 49100.490000000,\\n    \"volume_traded\": 1940.762511230,\\n    \"trades_count\": 20793\\n  },\\n  {\\n    \"time_period_start\": \"2021-08-26T00:00:00.0000000Z\",\\n    \"time_period_end\": \"2021-08-27T00:00:00.0000000Z\",\\n    \"time_open\": \"2021-08-26T00:00:42.0830000Z\",\\n    \"time_close\": \"2021-08-26T23:59:44.7780000Z\",\\n    \"price_open\": 49022.390000000,\\n    \"price_high\": 49387.600000000,\\n    \"price_low\": 46309.330000000,\\n    \"price_close\": 46856.290000000,\\n    \"volume_traded\": 2085.579953620,\\n    \"trades_count\": 20639\\n  },\\n  {\\n    \"time_period_start\": \"2021-08-25T00:00:00.0000000Z\",\\n    \"time_period_end\": \"2021-08-26T00:00:00.0000000Z\",\\n    \"time_open\": \"2021-08-25T00:00:14.4860000Z\",\\n    \"time_close\": \"2021-08-25T23:59:16.3490000Z\",\\n    \"price_open\": 47670.800000000,\\n    \"price_high\": 49273.930000000,\\n    \"price_low\": 47100.000000000,\\n    \"price_close\": 49011.750000000,\\n    \"volume_traded\": 1902.575241990,\\n    \"trades_count\": 18154\\n  },\\n  {\\n    \"time_period_start\": \"2021-08-24T00:00:00.0000000Z\",\\n    \"time_period_end\": \"2021-08-25T00:00:00.0000000Z\",\\n    \"time_open\": \"2021-08-24T00:00:01.7140000Z\",\\n    \"time_close\": \"2021-08-24T23:59:51.2830000Z\",\\n    \"price_open\": 49516.080000000,\\n    \"price_high\": 49893.500000000,\\n    \"price_low\": 47593.660000000,\\n    \"price_close\": 47731.330000000,\\n    \"volume_traded\": 2217.803057240,\\n    \"trades_count\": 19563\\n  },\\n  {\\n    \"time_period_start\": \"2021-08-23T00:00:00.0000000Z\",\\n    \"time_period_end\": \"2021-08-24T00:00:00.0000000Z\",\\n    \"time_open\": \"2021-08-23T00:00:11.0950000Z\",\\n    \"time_close\": \"2021-08-23T23:59:43.9910000Z\",\\n    \"price_open\": 49296.710000000,\\n    \"price_high\": 50562.110000000,\\n    \"price_low\": 49010.000000000,\\n    \"price_close\": 49561.370000000,\\n    \"volume_traded\": 2419.868147060,\\n    \"trades_count\": 20240\\n  },\\n  {\\n    \"time_period_start\": \"2021-08-22T00:00:00.0000000Z\",\\n    \"time_period_end\": \"2021-08-23T00:00:00.0000000Z\",\\n    \"time_open\": \"2021-08-22T00:00:00.1390000Z\",\\n    \"time_close\": \"2021-08-22T23:59:58.3470000Z\",\\n    \"price_open\": 48883.840000000,\\n    \"price_high\": 49540.010000000,\\n    \"price_low\": 48080.170000000,\\n    \"price_close\": 49301.860000000,\\n    \"volume_traded\": 985.765333040,\\n    \"trades_count\": 11076\\n  },\\n  {\\n    \"time_period_start\": \"2021-08-21T00:00:00.0000000Z\",\\n    \"time_period_end\": \"2021-08-22T00:00:00.0000000Z\",\\n    \"time_open\": \"2021-08-21T00:00:28.5330000Z\",\\n    \"time_close\": \"2021-08-21T23:59:55.3300000Z\",\\n    \"price_open\": 49332.310000000,\\n    \"price_high\": 49833.020000000,\\n    \"price_low\": 48300.000000000,\\n    \"price_close\": 48884.340000000,\\n    \"volume_traded\": 1768.241566090,\\n    \"trades_count\": 16172\\n  },\\n  {\\n    \"time_period_start\": \"2021-08-20T00:00:00.0000000Z\",\\n    \"time_period_end\": \"2021-08-21T00:00:00.0000000Z\",\\n    \"time_open\": \"2021-08-20T00:00:05.1240000Z\",\\n    \"time_close\": \"2021-08-20T23:59:39.6740000Z\",\\n    \"price_open\": 46759.290000000,\\n    \"price_high\": 49436.100000000,\\n    \"price_low\": 46645.770000000,\\n    \"price_close\": 49356.000000000,\\n    \"volume_traded\": 2815.551595230,\\n    \"trades_count\": 24112\\n  },\\n  {\\n    \"time_period_start\": \"2021-08-19T00:00:00.0000000Z\",\\n    \"time_period_end\": \"2021-08-20T00:00:00.0000000Z\",\\n    \"time_open\": \"2021-08-19T00:00:02.3010000Z\",\\n    \"time_close\": \"2021-08-19T23:58:57.8620000Z\",\\n    \"price_open\": 44734.160000000,\\n    \"price_high\": 47114.990000000,\\n    \"price_low\": 43935.540000000,\\n    \"price_close\": 46764.300000000,\\n    \"volume_traded\": 2776.237684900,\\n    \"trades_count\": 22256\\n  },\\n  {\\n    \"time_period_start\": \"2021-08-18T00:00:00.0000000Z\",\\n    \"time_period_end\": \"2021-08-19T00:00:00.0000000Z\",\\n    \"time_open\": \"2021-08-18T00:00:16.2670000Z\",\\n    \"time_close\": \"2021-08-18T23:59:57.3470000Z\",\\n    \"price_open\": 44631.470000000,\\n    \"price_high\": 46041.620000000,\\n    \"price_low\": 44218.730000000,\\n    \"price_close\": 44721.130000000,\\n    \"volume_traded\": 2245.141557190,\\n    \"trades_count\": 18040\\n  },\\n  {\\n    \"time_period_start\": \"2021-08-17T00:00:00.0000000Z\",\\n    \"time_period_end\": \"2021-08-18T00:00:00.0000000Z\",\\n    \"time_open\": \"2021-08-17T00:00:22.6810000Z\",\\n    \"time_close\": \"2021-08-17T23:59:53.7630000Z\",\\n    \"price_open\": 45930.480000000,\\n    \"price_high\": 47183.370000000,\\n    \"price_low\": 44417.510000000,\\n    \"price_close\": 44694.350000000,\\n    \"volume_traded\": 3286.273264500,\\n    \"trades_count\": 24719\\n  }\\n]'"
      ]
     },
     "execution_count": 4,
     "metadata": {},
     "output_type": "execute_result"
    }
   ],
   "source": [
    "response.text"
   ]
  },
  {
   "cell_type": "code",
   "execution_count": 5,
   "metadata": {},
   "outputs": [
    {
     "data": {
      "text/plain": [
       "[{'time_period_start': '2021-11-24T00:00:00.0000000Z',\n",
       "  'time_period_end': '2021-11-25T00:00:00.0000000Z',\n",
       "  'time_open': '2021-11-24T00:00:08.5660000Z',\n",
       "  'time_close': '2021-11-24T07:59:16.4830000Z',\n",
       "  'price_open': 57583.91,\n",
       "  'price_high': 57750.2,\n",
       "  'price_low': 56162.95,\n",
       "  'price_close': 56535.79,\n",
       "  'volume_traded': 585.90783909,\n",
       "  'trades_count': 6194},\n",
       " {'time_period_start': '2021-11-23T00:00:00.0000000Z',\n",
       "  'time_period_end': '2021-11-24T00:00:00.0000000Z',\n",
       "  'time_open': '2021-11-23T00:00:06.1610000Z',\n",
       "  'time_close': '2021-11-23T23:59:50.6970000Z',\n",
       "  'price_open': 56283.8,\n",
       "  'price_high': 57897.54,\n",
       "  'price_low': 55128.6,\n",
       "  'price_close': 57579.99,\n",
       "  'volume_traded': 2732.08480061,\n",
       "  'trades_count': 37441},\n",
       " {'time_period_start': '2021-11-22T00:00:00.0000000Z',\n",
       "  'time_period_end': '2021-11-23T00:00:00.0000000Z',\n",
       "  'time_open': '2021-11-22T00:00:00.2350000Z',\n",
       "  'time_close': '2021-11-22T23:59:55.9260000Z',\n",
       "  'price_open': 58679.27,\n",
       "  'price_high': 59516.78,\n",
       "  'price_low': 55628.57,\n",
       "  'price_close': 56294.11,\n",
       "  'volume_traded': 2943.10106271,\n",
       "  'trades_count': 28762},\n",
       " {'time_period_start': '2021-11-21T00:00:00.0000000Z',\n",
       "  'time_period_end': '2021-11-22T00:00:00.0000000Z',\n",
       "  'time_open': '2021-11-21T00:00:05.4950000Z',\n",
       "  'time_close': '2021-11-21T23:59:54.2040000Z',\n",
       "  'price_open': 59785.85,\n",
       "  'price_high': 60090.55,\n",
       "  'price_low': 58525.84,\n",
       "  'price_close': 58678.47,\n",
       "  'volume_traded': 895.6750948,\n",
       "  'trades_count': 11328},\n",
       " {'time_period_start': '2021-11-20T00:00:00.0000000Z',\n",
       "  'time_period_end': '2021-11-21T00:00:00.0000000Z',\n",
       "  'time_open': '2021-11-20T00:00:08.2290000Z',\n",
       "  'time_close': '2021-11-20T23:59:59.3440000Z',\n",
       "  'price_open': 58126.46,\n",
       "  'price_high': 59896.54,\n",
       "  'price_low': 57424.27,\n",
       "  'price_close': 59768.54,\n",
       "  'volume_traded': 1171.28241908,\n",
       "  'trades_count': 17581},\n",
       " {'time_period_start': '2021-11-19T00:00:00.0000000Z',\n",
       "  'time_period_end': '2021-11-20T00:00:00.0000000Z',\n",
       "  'time_open': '2021-11-19T00:00:04.7080000Z',\n",
       "  'time_close': '2021-11-19T23:59:40.7550000Z',\n",
       "  'price_open': 56924.94,\n",
       "  'price_high': 58402.05,\n",
       "  'price_low': 55640.0,\n",
       "  'price_close': 58128.55,\n",
       "  'volume_traded': 3277.02585927,\n",
       "  'trades_count': 44861},\n",
       " {'time_period_start': '2021-11-18T00:00:00.0000000Z',\n",
       "  'time_period_end': '2021-11-19T00:00:00.0000000Z',\n",
       "  'time_open': '2021-11-18T00:00:18.0460000Z',\n",
       "  'time_close': '2021-11-18T23:59:55.8800000Z',\n",
       "  'price_open': 60376.94,\n",
       "  'price_high': 60978.39,\n",
       "  'price_low': 56516.44,\n",
       "  'price_close': 56917.66,\n",
       "  'volume_traded': 6160.70975752,\n",
       "  'trades_count': 88379},\n",
       " {'time_period_start': '2021-11-17T00:00:00.0000000Z',\n",
       "  'time_period_end': '2021-11-18T00:00:00.0000000Z',\n",
       "  'time_open': '2021-11-17T00:00:04.6180000Z',\n",
       "  'time_close': '2021-11-17T23:59:52.9510000Z',\n",
       "  'price_open': 60115.12,\n",
       "  'price_high': 60888.5,\n",
       "  'price_low': 58400.0,\n",
       "  'price_close': 60373.65,\n",
       "  'volume_traded': 3716.81055911,\n",
       "  'trades_count': 37638},\n",
       " {'time_period_start': '2021-11-16T00:00:00.0000000Z',\n",
       "  'time_period_end': '2021-11-17T00:00:00.0000000Z',\n",
       "  'time_open': '2021-11-16T00:00:14.6180000Z',\n",
       "  'time_close': '2021-11-16T23:59:56.2180000Z',\n",
       "  'price_open': 63621.61,\n",
       "  'price_high': 63628.0,\n",
       "  'price_low': 58563.0,\n",
       "  'price_close': 60142.31,\n",
       "  'volume_traded': 4632.77331708,\n",
       "  'trades_count': 41324},\n",
       " {'time_period_start': '2021-11-15T00:00:00.0000000Z',\n",
       "  'time_period_end': '2021-11-16T00:00:00.0000000Z',\n",
       "  'time_open': '2021-11-15T00:00:00.2610000Z',\n",
       "  'time_close': '2021-11-15T23:59:59.7920000Z',\n",
       "  'price_open': 65509.87,\n",
       "  'price_high': 66387.4,\n",
       "  'price_low': 63348.91,\n",
       "  'price_close': 63606.09,\n",
       "  'volume_traded': 2000.8236224,\n",
       "  'trades_count': 23987},\n",
       " {'time_period_start': '2021-11-14T00:00:00.0000000Z',\n",
       "  'time_period_end': '2021-11-15T00:00:00.0000000Z',\n",
       "  'time_open': '2021-11-14T00:00:00.9060000Z',\n",
       "  'time_close': '2021-11-14T23:59:48.6090000Z',\n",
       "  'price_open': 64403.43,\n",
       "  'price_high': 65509.87,\n",
       "  'price_low': 63595.76,\n",
       "  'price_close': 65509.87,\n",
       "  'volume_traded': 1247.88451724,\n",
       "  'trades_count': 15042},\n",
       " {'time_period_start': '2021-11-13T00:00:00.0000000Z',\n",
       "  'time_period_end': '2021-11-14T00:00:00.0000000Z',\n",
       "  'time_open': '2021-11-13T00:00:04.9160000Z',\n",
       "  'time_close': '2021-11-13T23:59:28.1770000Z',\n",
       "  'price_open': 64140.23,\n",
       "  'price_high': 64980.0,\n",
       "  'price_low': 63400.0,\n",
       "  'price_close': 64417.52,\n",
       "  'volume_traded': 830.13101807,\n",
       "  'trades_count': 14446},\n",
       " {'time_period_start': '2021-11-12T00:00:00.0000000Z',\n",
       "  'time_period_end': '2021-11-13T00:00:00.0000000Z',\n",
       "  'time_open': '2021-11-12T00:00:05.6670000Z',\n",
       "  'time_close': '2021-11-12T23:59:56.9870000Z',\n",
       "  'price_open': 64783.13,\n",
       "  'price_high': 65497.53,\n",
       "  'price_low': 62294.84,\n",
       "  'price_close': 64158.41,\n",
       "  'volume_traded': 2519.30730563,\n",
       "  'trades_count': 29770},\n",
       " {'time_period_start': '2021-11-11T00:00:00.0000000Z',\n",
       "  'time_period_end': '2021-11-12T00:00:00.0000000Z',\n",
       "  'time_open': '2021-11-11T00:00:00.6560000Z',\n",
       "  'time_close': '2021-11-11T23:59:26.5440000Z',\n",
       "  'price_open': 64919.18,\n",
       "  'price_high': 65625.44,\n",
       "  'price_low': 64140.0,\n",
       "  'price_close': 64821.33,\n",
       "  'volume_traded': 1583.28379977,\n",
       "  'trades_count': 21518},\n",
       " {'time_period_start': '2021-11-10T00:00:00.0000000Z',\n",
       "  'time_period_end': '2021-11-11T00:00:00.0000000Z',\n",
       "  'time_open': '2021-11-10T00:00:00.8070000Z',\n",
       "  'time_close': '2021-11-10T23:59:59.0080000Z',\n",
       "  'price_open': 66928.42,\n",
       "  'price_high': 69000.0,\n",
       "  'price_low': 62856.71,\n",
       "  'price_close': 64921.43,\n",
       "  'volume_traded': 3419.11869317,\n",
       "  'trades_count': 38019},\n",
       " {'time_period_start': '2021-11-09T00:00:00.0000000Z',\n",
       "  'time_period_end': '2021-11-10T00:00:00.0000000Z',\n",
       "  'time_open': '2021-11-09T00:00:03.4940000Z',\n",
       "  'time_close': '2021-11-09T23:59:33.7470000Z',\n",
       "  'price_open': 67547.49,\n",
       "  'price_high': 68564.4,\n",
       "  'price_low': 66250.0,\n",
       "  'price_close': 66945.72,\n",
       "  'volume_traded': 2136.85836086,\n",
       "  'trades_count': 29087},\n",
       " {'time_period_start': '2021-11-08T00:00:00.0000000Z',\n",
       "  'time_period_end': '2021-11-09T00:00:00.0000000Z',\n",
       "  'time_open': '2021-11-08T00:00:00.2100000Z',\n",
       "  'time_close': '2021-11-08T23:59:58.7430000Z',\n",
       "  'price_open': 63300.0,\n",
       "  'price_high': 67803.55,\n",
       "  'price_low': 63300.0,\n",
       "  'price_close': 67559.0,\n",
       "  'volume_traded': 2715.42386367,\n",
       "  'trades_count': 32491},\n",
       " {'time_period_start': '2021-11-07T00:00:00.0000000Z',\n",
       "  'time_period_end': '2021-11-08T00:00:00.0000000Z',\n",
       "  'time_open': '2021-11-07T00:00:00.2570000Z',\n",
       "  'time_close': '2021-11-07T23:59:59.9900000Z',\n",
       "  'price_open': 61542.43,\n",
       "  'price_high': 63300.0,\n",
       "  'price_low': 61396.57,\n",
       "  'price_close': 63300.0,\n",
       "  'volume_traded': 1115.66885061,\n",
       "  'trades_count': 15289},\n",
       " {'time_period_start': '2021-11-06T00:00:00.0000000Z',\n",
       "  'time_period_end': '2021-11-07T00:00:00.0000000Z',\n",
       "  'time_open': '2021-11-06T00:00:02.2250000Z',\n",
       "  'time_close': '2021-11-06T23:59:52.5570000Z',\n",
       "  'price_open': 61008.19,\n",
       "  'price_high': 61609.5,\n",
       "  'price_low': 60109.91,\n",
       "  'price_close': 61542.44,\n",
       "  'volume_traded': 1258.52020872,\n",
       "  'trades_count': 16910},\n",
       " {'time_period_start': '2021-11-05T00:00:00.0000000Z',\n",
       "  'time_period_end': '2021-11-06T00:00:00.0000000Z',\n",
       "  'time_open': '2021-11-05T00:00:04.0620000Z',\n",
       "  'time_close': '2021-11-05T23:59:06.7210000Z',\n",
       "  'price_open': 61430.02,\n",
       "  'price_high': 62666.52,\n",
       "  'price_low': 60769.17,\n",
       "  'price_close': 61031.91,\n",
       "  'volume_traded': 1569.40792218,\n",
       "  'trades_count': 19839},\n",
       " {'time_period_start': '2021-11-04T00:00:00.0000000Z',\n",
       "  'time_period_end': '2021-11-05T00:00:00.0000000Z',\n",
       "  'time_open': '2021-11-04T00:00:14.7480000Z',\n",
       "  'time_close': '2021-11-04T23:59:56.4770000Z',\n",
       "  'price_open': 62945.38,\n",
       "  'price_high': 63136.82,\n",
       "  'price_low': 60725.0,\n",
       "  'price_close': 61457.25,\n",
       "  'volume_traded': 1507.54272229,\n",
       "  'trades_count': 21751},\n",
       " {'time_period_start': '2021-11-03T00:00:00.0000000Z',\n",
       "  'time_period_end': '2021-11-04T00:00:00.0000000Z',\n",
       "  'time_open': '2021-11-03T00:00:01.5720000Z',\n",
       "  'time_close': '2021-11-03T23:59:57.6710000Z',\n",
       "  'price_open': 63260.0,\n",
       "  'price_high': 63567.21,\n",
       "  'price_low': 60018.46,\n",
       "  'price_close': 62930.72,\n",
       "  'volume_traded': 2148.47086339,\n",
       "  'trades_count': 25234},\n",
       " {'time_period_start': '2021-11-02T00:00:00.0000000Z',\n",
       "  'time_period_end': '2021-11-03T00:00:00.0000000Z',\n",
       "  'time_open': '2021-11-02T00:00:07.2650000Z',\n",
       "  'time_close': '2021-11-02T23:59:59.5190000Z',\n",
       "  'price_open': 60949.78,\n",
       "  'price_high': 64300.0,\n",
       "  'price_low': 60669.91,\n",
       "  'price_close': 63260.0,\n",
       "  'volume_traded': 3336.04491196,\n",
       "  'trades_count': 42133},\n",
       " {'time_period_start': '2021-11-01T00:00:00.0000000Z',\n",
       "  'time_period_end': '2021-11-02T00:00:00.0000000Z',\n",
       "  'time_open': '2021-11-01T00:00:24.7730000Z',\n",
       "  'time_close': '2021-11-01T23:59:57.7340000Z',\n",
       "  'price_open': 61356.57,\n",
       "  'price_high': 62500.0,\n",
       "  'price_low': 59500.0,\n",
       "  'price_close': 60922.85,\n",
       "  'volume_traded': 2507.39797107,\n",
       "  'trades_count': 30200},\n",
       " {'time_period_start': '2021-10-31T00:00:00.0000000Z',\n",
       "  'time_period_end': '2021-11-01T00:00:00.0000000Z',\n",
       "  'time_open': '2021-10-31T00:00:01.1090000Z',\n",
       "  'time_close': '2021-10-31T23:59:55.3130000Z',\n",
       "  'price_open': 61904.96,\n",
       "  'price_high': 62438.85,\n",
       "  'price_low': 60000.0,\n",
       "  'price_close': 61359.44,\n",
       "  'volume_traded': 1548.12901591,\n",
       "  'trades_count': 14674},\n",
       " {'time_period_start': '2021-10-30T00:00:00.0000000Z',\n",
       "  'time_period_end': '2021-10-31T00:00:00.0000000Z',\n",
       "  'time_open': '2021-10-30T00:00:06.5390000Z',\n",
       "  'time_close': '2021-10-30T23:59:58.3820000Z',\n",
       "  'price_open': 62278.92,\n",
       "  'price_high': 62376.32,\n",
       "  'price_low': 60660.02,\n",
       "  'price_close': 61932.3,\n",
       "  'volume_traded': 1542.31917477,\n",
       "  'trades_count': 21447},\n",
       " {'time_period_start': '2021-10-29T00:00:00.0000000Z',\n",
       "  'time_period_end': '2021-10-30T00:00:00.0000000Z',\n",
       "  'time_open': '2021-10-29T00:00:09.9220000Z',\n",
       "  'time_close': '2021-10-29T23:59:56.4560000Z',\n",
       "  'price_open': 60608.95,\n",
       "  'price_high': 62971.54,\n",
       "  'price_low': 60154.53,\n",
       "  'price_close': 62301.59,\n",
       "  'volume_traded': 3884.64236172,\n",
       "  'trades_count': 44515},\n",
       " {'time_period_start': '2021-10-28T00:00:00.0000000Z',\n",
       "  'time_period_end': '2021-10-29T00:00:00.0000000Z',\n",
       "  'time_open': '2021-10-28T00:00:00.3420000Z',\n",
       "  'time_close': '2021-10-28T23:58:49.3720000Z',\n",
       "  'price_open': 58471.06,\n",
       "  'price_high': 62524.0,\n",
       "  'price_low': 56425.0,\n",
       "  'price_close': 60592.76,\n",
       "  'volume_traded': 3769.75506439,\n",
       "  'trades_count': 38401},\n",
       " {'time_period_start': '2021-10-27T00:00:00.0000000Z',\n",
       "  'time_period_end': '2021-10-28T00:00:00.0000000Z',\n",
       "  'time_open': '2021-10-27T00:00:08.7410000Z',\n",
       "  'time_close': '2021-10-27T23:59:58.9270000Z',\n",
       "  'price_open': 60331.4,\n",
       "  'price_high': 61489.0,\n",
       "  'price_low': 58100.01,\n",
       "  'price_close': 58465.9,\n",
       "  'volume_traded': 3479.73809611,\n",
       "  'trades_count': 38954},\n",
       " {'time_period_start': '2021-10-26T00:00:00.0000000Z',\n",
       "  'time_period_end': '2021-10-27T00:00:00.0000000Z',\n",
       "  'time_open': '2021-10-26T00:00:04.1810000Z',\n",
       "  'time_close': '2021-10-26T23:59:47.5760000Z',\n",
       "  'price_open': 63101.43,\n",
       "  'price_high': 63299.3,\n",
       "  'price_low': 59830.0,\n",
       "  'price_close': 60328.22,\n",
       "  'volume_traded': 1965.25518084,\n",
       "  'trades_count': 23006},\n",
       " {'time_period_start': '2021-10-25T00:00:00.0000000Z',\n",
       "  'time_period_end': '2021-10-26T00:00:00.0000000Z',\n",
       "  'time_open': '2021-10-25T00:00:19.9010000Z',\n",
       "  'time_close': '2021-10-25T23:59:58.0790000Z',\n",
       "  'price_open': 60883.96,\n",
       "  'price_high': 63733.93,\n",
       "  'price_low': 60670.0,\n",
       "  'price_close': 63101.43,\n",
       "  'volume_traded': 1723.10014118,\n",
       "  'trades_count': 19448},\n",
       " {'time_period_start': '2021-10-24T00:00:00.0000000Z',\n",
       "  'time_period_end': '2021-10-25T00:00:00.0000000Z',\n",
       "  'time_open': '2021-10-24T00:00:11.0500000Z',\n",
       "  'time_close': '2021-10-24T23:58:15.8610000Z',\n",
       "  'price_open': 61306.64,\n",
       "  'price_high': 61497.33,\n",
       "  'price_low': 59510.0,\n",
       "  'price_close': 60910.16,\n",
       "  'volume_traded': 1204.84773547,\n",
       "  'trades_count': 15333},\n",
       " {'time_period_start': '2021-10-23T00:00:00.0000000Z',\n",
       "  'time_period_end': '2021-10-24T00:00:00.0000000Z',\n",
       "  'time_open': '2021-10-23T00:00:07.1310000Z',\n",
       "  'time_close': '2021-10-23T23:59:52.0290000Z',\n",
       "  'price_open': 60698.54,\n",
       "  'price_high': 61737.38,\n",
       "  'price_low': 59633.61,\n",
       "  'price_close': 61338.76,\n",
       "  'volume_traded': 1056.07965827,\n",
       "  'trades_count': 16008},\n",
       " {'time_period_start': '2021-10-22T00:00:00.0000000Z',\n",
       "  'time_period_end': '2021-10-23T00:00:00.0000000Z',\n",
       "  'time_open': '2021-10-22T00:00:04.7510000Z',\n",
       "  'time_close': '2021-10-22T23:59:56.4940000Z',\n",
       "  'price_open': 62207.51,\n",
       "  'price_high': 63757.28,\n",
       "  'price_low': 59953.74,\n",
       "  'price_close': 60702.68,\n",
       "  'volume_traded': 3159.42128548,\n",
       "  'trades_count': 35735},\n",
       " {'time_period_start': '2021-10-21T00:00:00.0000000Z',\n",
       "  'time_period_end': '2021-10-22T00:00:00.0000000Z',\n",
       "  'time_open': '2021-10-21T00:00:03.9670000Z',\n",
       "  'time_close': '2021-10-21T23:59:57.7510000Z',\n",
       "  'price_open': 66027.81,\n",
       "  'price_high': 66664.1,\n",
       "  'price_low': 61850.0,\n",
       "  'price_close': 62219.44,\n",
       "  'volume_traded': 3889.46756006,\n",
       "  'trades_count': 41326},\n",
       " {'time_period_start': '2021-10-20T00:00:00.0000000Z',\n",
       "  'time_period_end': '2021-10-21T00:00:00.0000000Z',\n",
       "  'time_open': '2021-10-20T00:00:05.2010000Z',\n",
       "  'time_close': '2021-10-20T23:59:42.8430000Z',\n",
       "  'price_open': 64282.2,\n",
       "  'price_high': 67016.5,\n",
       "  'price_low': 63529.0,\n",
       "  'price_close': 65990.31,\n",
       "  'volume_traded': 3070.68430005,\n",
       "  'trades_count': 33061},\n",
       " {'time_period_start': '2021-10-19T00:00:00.0000000Z',\n",
       "  'time_period_end': '2021-10-20T00:00:00.0000000Z',\n",
       "  'time_open': '2021-10-19T00:00:41.3290000Z',\n",
       "  'time_close': '2021-10-19T23:59:42.3580000Z',\n",
       "  'price_open': 62014.99,\n",
       "  'price_high': 64499.0,\n",
       "  'price_low': 61350.0,\n",
       "  'price_close': 64241.61,\n",
       "  'volume_traded': 3259.01176052,\n",
       "  'trades_count': 44242},\n",
       " {'time_period_start': '2021-10-18T00:00:00.0000000Z',\n",
       "  'time_period_end': '2021-10-19T00:00:00.0000000Z',\n",
       "  'time_open': '2021-10-18T00:00:02.1060000Z',\n",
       "  'time_close': '2021-10-18T23:59:58.2070000Z',\n",
       "  'price_open': 61519.52,\n",
       "  'price_high': 62679.0,\n",
       "  'price_low': 59013.0,\n",
       "  'price_close': 62034.65,\n",
       "  'volume_traded': 5754.5518416,\n",
       "  'trades_count': 58094},\n",
       " {'time_period_start': '2021-10-17T00:00:00.0000000Z',\n",
       "  'time_period_end': '2021-10-18T00:00:00.0000000Z',\n",
       "  'time_open': '2021-10-17T00:00:17.8990000Z',\n",
       "  'time_close': '2021-10-17T23:59:52.2040000Z',\n",
       "  'price_open': 60885.27,\n",
       "  'price_high': 61712.0,\n",
       "  'price_low': 58933.0,\n",
       "  'price_close': 61538.97,\n",
       "  'volume_traded': 1261.12996084,\n",
       "  'trades_count': 17669},\n",
       " {'time_period_start': '2021-10-16T00:00:00.0000000Z',\n",
       "  'time_period_end': '2021-10-17T00:00:00.0000000Z',\n",
       "  'time_open': '2021-10-16T00:00:06.1680000Z',\n",
       "  'time_close': '2021-10-16T23:59:43.1650000Z',\n",
       "  'price_open': 61703.45,\n",
       "  'price_high': 62352.0,\n",
       "  'price_low': 60100.27,\n",
       "  'price_close': 60870.26,\n",
       "  'volume_traded': 1263.44800176,\n",
       "  'trades_count': 19869},\n",
       " {'time_period_start': '2021-10-15T00:00:00.0000000Z',\n",
       "  'time_period_end': '2021-10-16T00:00:00.0000000Z',\n",
       "  'time_open': '2021-10-15T00:00:09.3490000Z',\n",
       "  'time_close': '2021-10-15T23:59:56.1030000Z',\n",
       "  'price_open': 57370.48,\n",
       "  'price_high': 62944.94,\n",
       "  'price_low': 56877.0,\n",
       "  'price_close': 61657.35,\n",
       "  'volume_traded': 4201.89684447,\n",
       "  'trades_count': 39477},\n",
       " {'time_period_start': '2021-10-14T00:00:00.0000000Z',\n",
       "  'time_period_end': '2021-10-15T00:00:00.0000000Z',\n",
       "  'time_open': '2021-10-14T00:00:19.3090000Z',\n",
       "  'time_close': '2021-10-14T23:59:54.5440000Z',\n",
       "  'price_open': 57395.84,\n",
       "  'price_high': 58550.0,\n",
       "  'price_low': 56830.56,\n",
       "  'price_close': 57371.58,\n",
       "  'volume_traded': 1877.82091718,\n",
       "  'trades_count': 23246},\n",
       " {'time_period_start': '2021-10-13T00:00:00.0000000Z',\n",
       "  'time_period_end': '2021-10-14T00:00:00.0000000Z',\n",
       "  'time_open': '2021-10-13T00:00:38.8460000Z',\n",
       "  'time_close': '2021-10-13T23:59:46.7580000Z',\n",
       "  'price_open': 56004.61,\n",
       "  'price_high': 57773.89,\n",
       "  'price_low': 54231.0,\n",
       "  'price_close': 57374.55,\n",
       "  'volume_traded': 3359.41439758,\n",
       "  'trades_count': 32817},\n",
       " {'time_period_start': '2021-10-12T00:00:00.0000000Z',\n",
       "  'time_period_end': '2021-10-13T00:00:00.0000000Z',\n",
       "  'time_open': '2021-10-12T00:00:03.9500000Z',\n",
       "  'time_close': '2021-10-12T23:59:55.0820000Z',\n",
       "  'price_open': 57490.0,\n",
       "  'price_high': 57701.0,\n",
       "  'price_low': 53909.0,\n",
       "  'price_close': 55995.49,\n",
       "  'volume_traded': 3224.83970306,\n",
       "  'trades_count': 29946},\n",
       " {'time_period_start': '2021-10-11T00:00:00.0000000Z',\n",
       "  'time_period_end': '2021-10-12T00:00:00.0000000Z',\n",
       "  'time_open': '2021-10-11T00:00:15.4480000Z',\n",
       "  'time_close': '2021-10-11T23:59:58.4060000Z',\n",
       "  'price_open': 54657.0,\n",
       "  'price_high': 57855.79,\n",
       "  'price_low': 54462.45,\n",
       "  'price_close': 57485.2,\n",
       "  'volume_traded': 1955.78560334,\n",
       "  'trades_count': 22579},\n",
       " {'time_period_start': '2021-10-10T00:00:00.0000000Z',\n",
       "  'time_period_end': '2021-10-11T00:00:00.0000000Z',\n",
       "  'time_open': '2021-10-10T00:00:11.8210000Z',\n",
       "  'time_close': '2021-10-10T23:59:03.8780000Z',\n",
       "  'price_open': 54984.49,\n",
       "  'price_high': 56561.0,\n",
       "  'price_low': 51000.0,\n",
       "  'price_close': 54714.95,\n",
       "  'volume_traded': 1735.42193508,\n",
       "  'trades_count': 19568},\n",
       " {'time_period_start': '2021-10-09T00:00:00.0000000Z',\n",
       "  'time_period_end': '2021-10-10T00:00:00.0000000Z',\n",
       "  'time_open': '2021-10-09T00:00:05.1750000Z',\n",
       "  'time_close': '2021-10-09T23:59:58.6630000Z',\n",
       "  'price_open': 53952.82,\n",
       "  'price_high': 55512.05,\n",
       "  'price_low': 53674.69,\n",
       "  'price_close': 54976.92,\n",
       "  'volume_traded': 1061.02324334,\n",
       "  'trades_count': 18479},\n",
       " {'time_period_start': '2021-10-08T00:00:00.0000000Z',\n",
       "  'time_period_end': '2021-10-09T00:00:00.0000000Z',\n",
       "  'time_open': '2021-10-08T00:00:00.0810000Z',\n",
       "  'time_close': '2021-10-08T23:59:57.4620000Z',\n",
       "  'price_open': 53816.16,\n",
       "  'price_high': 56168.0,\n",
       "  'price_low': 53623.02,\n",
       "  'price_close': 53957.21,\n",
       "  'volume_traded': 2217.75513685,\n",
       "  'trades_count': 27023},\n",
       " {'time_period_start': '2021-10-07T00:00:00.0000000Z',\n",
       "  'time_period_end': '2021-10-08T00:00:00.0000000Z',\n",
       "  'time_open': '2021-10-07T00:00:02.7080000Z',\n",
       "  'time_close': '2021-10-07T23:59:41.3420000Z',\n",
       "  'price_open': 55360.1,\n",
       "  'price_high': 55360.32,\n",
       "  'price_low': 53289.57,\n",
       "  'price_close': 53787.6,\n",
       "  'volume_traded': 2349.08870097,\n",
       "  'trades_count': 23184},\n",
       " {'time_period_start': '2021-10-06T00:00:00.0000000Z',\n",
       "  'time_period_end': '2021-10-07T00:00:00.0000000Z',\n",
       "  'time_open': '2021-10-06T00:00:13.3350000Z',\n",
       "  'time_close': '2021-10-06T23:59:45.9490000Z',\n",
       "  'price_open': 51521.89,\n",
       "  'price_high': 55800.0,\n",
       "  'price_low': 50428.64,\n",
       "  'price_close': 55345.79,\n",
       "  'volume_traded': 4441.69022703,\n",
       "  'trades_count': 35161},\n",
       " {'time_period_start': '2021-10-05T00:00:00.0000000Z',\n",
       "  'time_period_end': '2021-10-06T00:00:00.0000000Z',\n",
       "  'time_open': '2021-10-05T00:00:14.1020000Z',\n",
       "  'time_close': '2021-10-05T23:59:47.6000000Z',\n",
       "  'price_open': 49283.89,\n",
       "  'price_high': 51914.68,\n",
       "  'price_low': 49075.0,\n",
       "  'price_close': 51501.19,\n",
       "  'volume_traded': 2200.7003033,\n",
       "  'trades_count': 24046},\n",
       " {'time_period_start': '2021-10-04T00:00:00.0000000Z',\n",
       "  'time_period_end': '2021-10-05T00:00:00.0000000Z',\n",
       "  'time_open': '2021-10-04T00:00:10.0470000Z',\n",
       "  'time_close': '2021-10-04T23:59:54.5970000Z',\n",
       "  'price_open': 48231.04,\n",
       "  'price_high': 49530.53,\n",
       "  'price_low': 46900.0,\n",
       "  'price_close': 49242.14,\n",
       "  'volume_traded': 2722.97553985,\n",
       "  'trades_count': 25309},\n",
       " {'time_period_start': '2021-10-03T00:00:00.0000000Z',\n",
       "  'time_period_end': '2021-10-04T00:00:00.0000000Z',\n",
       "  'time_open': '2021-10-03T00:00:07.3630000Z',\n",
       "  'time_close': '2021-10-03T23:59:59.0340000Z',\n",
       "  'price_open': 47644.63,\n",
       "  'price_high': 49225.55,\n",
       "  'price_low': 47119.87,\n",
       "  'price_close': 48235.93,\n",
       "  'volume_traded': 1163.70763468,\n",
       "  'trades_count': 14501},\n",
       " {'time_period_start': '2021-10-02T00:00:00.0000000Z',\n",
       "  'time_period_end': '2021-10-03T00:00:00.0000000Z',\n",
       "  'time_open': '2021-10-02T00:00:00.6340000Z',\n",
       "  'time_close': '2021-10-02T23:59:53.2180000Z',\n",
       "  'price_open': 48185.61,\n",
       "  'price_high': 48361.83,\n",
       "  'price_low': 47468.15,\n",
       "  'price_close': 47685.8,\n",
       "  'volume_traded': 1361.71830887,\n",
       "  'trades_count': 16464},\n",
       " {'time_period_start': '2021-10-01T00:00:00.0000000Z',\n",
       "  'time_period_end': '2021-10-02T00:00:00.0000000Z',\n",
       "  'time_open': '2021-10-01T00:00:06.3800000Z',\n",
       "  'time_close': '2021-10-01T23:59:42.0490000Z',\n",
       "  'price_open': 43835.47,\n",
       "  'price_high': 48500.0,\n",
       "  'price_low': 43291.07,\n",
       "  'price_close': 48171.86,\n",
       "  'volume_traded': 3426.36834939,\n",
       "  'trades_count': 39399},\n",
       " {'time_period_start': '2021-09-30T00:00:00.0000000Z',\n",
       "  'time_period_end': '2021-10-01T00:00:00.0000000Z',\n",
       "  'time_open': '2021-09-30T00:00:09.3140000Z',\n",
       "  'time_close': '2021-09-30T23:59:59.6940000Z',\n",
       "  'price_open': 41537.56,\n",
       "  'price_high': 44117.74,\n",
       "  'price_low': 41427.87,\n",
       "  'price_close': 43834.43,\n",
       "  'volume_traded': 2613.64448438,\n",
       "  'trades_count': 26671},\n",
       " {'time_period_start': '2021-09-29T00:00:00.0000000Z',\n",
       "  'time_period_end': '2021-09-30T00:00:00.0000000Z',\n",
       "  'time_open': '2021-09-29T00:00:02.0060000Z',\n",
       "  'time_close': '2021-09-29T23:59:49.6510000Z',\n",
       "  'price_open': 41024.21,\n",
       "  'price_high': 42595.93,\n",
       "  'price_low': 40750.0,\n",
       "  'price_close': 41542.9,\n",
       "  'volume_traded': 1804.77756474,\n",
       "  'trades_count': 18711},\n",
       " {'time_period_start': '2021-09-28T00:00:00.0000000Z',\n",
       "  'time_period_end': '2021-09-29T00:00:00.0000000Z',\n",
       "  'time_open': '2021-09-28T00:00:14.2050000Z',\n",
       "  'time_close': '2021-09-28T23:59:54.5410000Z',\n",
       "  'price_open': 42154.87,\n",
       "  'price_high': 42778.93,\n",
       "  'price_low': 40888.0,\n",
       "  'price_close': 41049.0,\n",
       "  'volume_traded': 2246.73856977,\n",
       "  'trades_count': 21912},\n",
       " {'time_period_start': '2021-09-27T00:00:00.0000000Z',\n",
       "  'time_period_end': '2021-09-28T00:00:00.0000000Z',\n",
       "  'time_open': '2021-09-27T00:00:03.1090000Z',\n",
       "  'time_close': '2021-09-27T23:59:48.0470000Z',\n",
       "  'price_open': 43162.82,\n",
       "  'price_high': 44377.7,\n",
       "  'price_low': 42130.0,\n",
       "  'price_close': 42189.81,\n",
       "  'volume_traded': 1936.03143805,\n",
       "  'trades_count': 20242},\n",
       " {'time_period_start': '2021-09-26T00:00:00.0000000Z',\n",
       "  'time_period_end': '2021-09-27T00:00:00.0000000Z',\n",
       "  'time_open': '2021-09-26T00:00:08.1230000Z',\n",
       "  'time_close': '2021-09-26T23:59:56.0770000Z',\n",
       "  'price_open': 42699.1,\n",
       "  'price_high': 43956.38,\n",
       "  'price_low': 40808.0,\n",
       "  'price_close': 43204.73,\n",
       "  'volume_traded': 1641.36632191,\n",
       "  'trades_count': 16249},\n",
       " {'time_period_start': '2021-09-25T00:00:00.0000000Z',\n",
       "  'time_period_end': '2021-09-26T00:00:00.0000000Z',\n",
       "  'time_open': '2021-09-25T00:00:09.4430000Z',\n",
       "  'time_close': '2021-09-25T23:59:26.8780000Z',\n",
       "  'price_open': 42835.88,\n",
       "  'price_high': 43010.69,\n",
       "  'price_low': 41689.6,\n",
       "  'price_close': 42722.19,\n",
       "  'volume_traded': 879.03820382,\n",
       "  'trades_count': 12606},\n",
       " {'time_period_start': '2021-09-24T00:00:00.0000000Z',\n",
       "  'time_period_end': '2021-09-25T00:00:00.0000000Z',\n",
       "  'time_open': '2021-09-24T00:00:19.3380000Z',\n",
       "  'time_close': '2021-09-24T23:59:55.3380000Z',\n",
       "  'price_open': 44893.7,\n",
       "  'price_high': 45159.9,\n",
       "  'price_low': 40693.27,\n",
       "  'price_close': 42848.5,\n",
       "  'volume_traded': 4343.18204158,\n",
       "  'trades_count': 35051},\n",
       " {'time_period_start': '2021-09-23T00:00:00.0000000Z',\n",
       "  'time_period_end': '2021-09-24T00:00:00.0000000Z',\n",
       "  'time_open': '2021-09-23T00:00:03.3950000Z',\n",
       "  'time_close': '2021-09-23T23:59:46.2660000Z',\n",
       "  'price_open': 43586.0,\n",
       "  'price_high': 45013.17,\n",
       "  'price_low': 43105.0,\n",
       "  'price_close': 44903.5,\n",
       "  'volume_traded': 2316.64488577,\n",
       "  'trades_count': 21958},\n",
       " {'time_period_start': '2021-09-22T00:00:00.0000000Z',\n",
       "  'time_period_end': '2021-09-23T00:00:00.0000000Z',\n",
       "  'time_open': '2021-09-22T00:00:03.4570000Z',\n",
       "  'time_close': '2021-09-22T23:59:59.7740000Z',\n",
       "  'price_open': 40702.07,\n",
       "  'price_high': 44031.85,\n",
       "  'price_low': 40580.18,\n",
       "  'price_close': 43589.53,\n",
       "  'volume_traded': 3039.72091964,\n",
       "  'trades_count': 24936},\n",
       " {'time_period_start': '2021-09-21T00:00:00.0000000Z',\n",
       "  'time_period_end': '2021-09-22T00:00:00.0000000Z',\n",
       "  'time_open': '2021-09-21T00:00:04.0310000Z',\n",
       "  'time_close': '2021-09-21T23:59:50.1910000Z',\n",
       "  'price_open': 43003.07,\n",
       "  'price_high': 43643.34,\n",
       "  'price_low': 39573.21,\n",
       "  'price_close': 40596.54,\n",
       "  'volume_traded': 5960.82733487,\n",
       "  'trades_count': 50199},\n",
       " {'time_period_start': '2021-09-20T00:00:00.0000000Z',\n",
       "  'time_period_end': '2021-09-21T00:00:00.0000000Z',\n",
       "  'time_open': '2021-09-20T00:00:00.9900000Z',\n",
       "  'time_close': '2021-09-20T23:59:54.4000000Z',\n",
       "  'price_open': 47257.86,\n",
       "  'price_high': 47334.54,\n",
       "  'price_low': 42453.97,\n",
       "  'price_close': 43035.99,\n",
       "  'volume_traded': 4240.48541968,\n",
       "  'trades_count': 30813},\n",
       " {'time_period_start': '2021-09-19T00:00:00.0000000Z',\n",
       "  'time_period_end': '2021-09-20T00:00:00.0000000Z',\n",
       "  'time_open': '2021-09-19T00:00:33.4940000Z',\n",
       "  'time_close': '2021-09-19T23:59:36.8030000Z',\n",
       "  'price_open': 48307.05,\n",
       "  'price_high': 48389.52,\n",
       "  'price_low': 46860.0,\n",
       "  'price_close': 47245.25,\n",
       "  'volume_traded': 999.59599085,\n",
       "  'trades_count': 13166},\n",
       " {'time_period_start': '2021-09-18T00:00:00.0000000Z',\n",
       "  'time_period_end': '2021-09-19T00:00:00.0000000Z',\n",
       "  'time_open': '2021-09-18T00:00:10.7480000Z',\n",
       "  'time_close': '2021-09-18T23:59:39.8060000Z',\n",
       "  'price_open': 47316.21,\n",
       "  'price_high': 48834.0,\n",
       "  'price_low': 47052.9,\n",
       "  'price_close': 48326.74,\n",
       "  'volume_traded': 1452.50623073,\n",
       "  'trades_count': 15138},\n",
       " {'time_period_start': '2021-09-17T00:00:00.0000000Z',\n",
       "  'time_period_end': '2021-09-18T00:00:00.0000000Z',\n",
       "  'time_open': '2021-09-17T00:00:13.0160000Z',\n",
       "  'time_close': '2021-09-17T23:59:56.9460000Z',\n",
       "  'price_open': 47773.44,\n",
       "  'price_high': 48179.0,\n",
       "  'price_low': 46712.14,\n",
       "  'price_close': 47305.18,\n",
       "  'volume_traded': 1558.51513299,\n",
       "  'trades_count': 18793},\n",
       " {'time_period_start': '2021-09-16T00:00:00.0000000Z',\n",
       "  'time_period_end': '2021-09-17T00:00:00.0000000Z',\n",
       "  'time_open': '2021-09-16T00:00:15.5500000Z',\n",
       "  'time_close': '2021-09-16T23:59:52.6720000Z',\n",
       "  'price_open': 48188.12,\n",
       "  'price_high': 48505.0,\n",
       "  'price_low': 47035.0,\n",
       "  'price_close': 47760.64,\n",
       "  'volume_traded': 1885.97199785,\n",
       "  'trades_count': 19193},\n",
       " {'time_period_start': '2021-09-15T00:00:00.0000000Z',\n",
       "  'time_period_end': '2021-09-16T00:00:00.0000000Z',\n",
       "  'time_open': '2021-09-15T00:00:03.6420000Z',\n",
       "  'time_close': '2021-09-15T23:59:58.5640000Z',\n",
       "  'price_open': 47123.81,\n",
       "  'price_high': 48465.77,\n",
       "  'price_low': 46702.26,\n",
       "  'price_close': 48150.94,\n",
       "  'volume_traded': 1307.21881092,\n",
       "  'trades_count': 18256},\n",
       " {'time_period_start': '2021-09-14T00:00:00.0000000Z',\n",
       "  'time_period_end': '2021-09-15T00:00:00.0000000Z',\n",
       "  'time_open': '2021-09-14T00:00:29.2590000Z',\n",
       "  'time_close': '2021-09-14T23:59:49.9810000Z',\n",
       "  'price_open': 44983.77,\n",
       "  'price_high': 47273.38,\n",
       "  'price_low': 44704.18,\n",
       "  'price_close': 47103.18,\n",
       "  'volume_traded': 1642.79657405,\n",
       "  'trades_count': 18084},\n",
       " {'time_period_start': '2021-09-13T00:00:00.0000000Z',\n",
       "  'time_period_end': '2021-09-14T00:00:00.0000000Z',\n",
       "  'time_open': '2021-09-13T00:00:20.8700000Z',\n",
       "  'time_close': '2021-09-13T23:59:41.0630000Z',\n",
       "  'price_open': 46039.42,\n",
       "  'price_high': 46895.82,\n",
       "  'price_low': 43400.0,\n",
       "  'price_close': 44974.34,\n",
       "  'volume_traded': 2308.42207379,\n",
       "  'trades_count': 19759},\n",
       " {'time_period_start': '2021-09-12T00:00:00.0000000Z',\n",
       "  'time_period_end': '2021-09-13T00:00:00.0000000Z',\n",
       "  'time_open': '2021-09-12T00:00:12.4260000Z',\n",
       "  'time_close': '2021-09-12T23:59:58.0300000Z',\n",
       "  'price_open': 45162.96,\n",
       "  'price_high': 46491.63,\n",
       "  'price_low': 44752.96,\n",
       "  'price_close': 46035.0,\n",
       "  'volume_traded': 1015.76215832,\n",
       "  'trades_count': 11690},\n",
       " {'time_period_start': '2021-09-11T00:00:00.0000000Z',\n",
       "  'time_period_end': '2021-09-12T00:00:00.0000000Z',\n",
       "  'time_open': '2021-09-11T00:00:07.9710000Z',\n",
       "  'time_close': '2021-09-11T23:59:43.5430000Z',\n",
       "  'price_open': 44858.2,\n",
       "  'price_high': 45993.32,\n",
       "  'price_low': 44767.75,\n",
       "  'price_close': 45176.66,\n",
       "  'volume_traded': 906.80620376,\n",
       "  'trades_count': 11009},\n",
       " {'time_period_start': '2021-09-10T00:00:00.0000000Z',\n",
       "  'time_period_end': '2021-09-11T00:00:00.0000000Z',\n",
       "  'time_open': '2021-09-10T00:00:15.4390000Z',\n",
       "  'time_close': '2021-09-10T23:59:55.8520000Z',\n",
       "  'price_open': 46368.11,\n",
       "  'price_high': 47029.08,\n",
       "  'price_low': 44125.0,\n",
       "  'price_close': 44857.38,\n",
       "  'volume_traded': 2392.32573676,\n",
       "  'trades_count': 21285},\n",
       " {'time_period_start': '2021-09-09T00:00:00.0000000Z',\n",
       "  'time_period_end': '2021-09-10T00:00:00.0000000Z',\n",
       "  'time_open': '2021-09-09T00:00:03.0000000Z',\n",
       "  'time_close': '2021-09-09T23:59:51.5020000Z',\n",
       "  'price_open': 46070.43,\n",
       "  'price_high': 47419.95,\n",
       "  'price_low': 45550.0,\n",
       "  'price_close': 46392.81,\n",
       "  'volume_traded': 2595.98696952,\n",
       "  'trades_count': 19085},\n",
       " {'time_period_start': '2021-09-08T00:00:00.0000000Z',\n",
       "  'time_period_end': '2021-09-09T00:00:00.0000000Z',\n",
       "  'time_open': '2021-09-08T00:00:06.9620000Z',\n",
       "  'time_close': '2021-09-08T23:59:51.9270000Z',\n",
       "  'price_open': 46894.3,\n",
       "  'price_high': 47386.72,\n",
       "  'price_low': 44436.93,\n",
       "  'price_close': 46091.94,\n",
       "  'volume_traded': 3307.47754595,\n",
       "  'trades_count': 25984},\n",
       " {'time_period_start': '2021-09-07T00:00:00.0000000Z',\n",
       "  'time_period_end': '2021-09-08T00:00:00.0000000Z',\n",
       "  'time_open': '2021-09-07T00:00:23.8050000Z',\n",
       "  'time_close': '2021-09-07T23:59:58.2750000Z',\n",
       "  'price_open': 52719.43,\n",
       "  'price_high': 52956.47,\n",
       "  'price_low': 42900.01,\n",
       "  'price_close': 46866.82,\n",
       "  'volume_traded': 6811.92218815,\n",
       "  'trades_count': 41505},\n",
       " {'time_period_start': '2021-09-06T00:00:00.0000000Z',\n",
       "  'time_period_end': '2021-09-07T00:00:00.0000000Z',\n",
       "  'time_open': '2021-09-06T00:00:06.8770000Z',\n",
       "  'time_close': '2021-09-06T23:59:32.4810000Z',\n",
       "  'price_open': 51809.28,\n",
       "  'price_high': 52810.0,\n",
       "  'price_low': 51024.32,\n",
       "  'price_close': 52708.2,\n",
       "  'volume_traded': 2056.37135482,\n",
       "  'trades_count': 14232},\n",
       " {'time_period_start': '2021-09-05T00:00:00.0000000Z',\n",
       "  'time_period_end': '2021-09-06T00:00:00.0000000Z',\n",
       "  'time_open': '2021-09-05T00:00:03.3340000Z',\n",
       "  'time_close': '2021-09-05T23:59:51.0410000Z',\n",
       "  'price_open': 49965.32,\n",
       "  'price_high': 51900.0,\n",
       "  'price_low': 49500.0,\n",
       "  'price_close': 51809.28,\n",
       "  'volume_traded': 986.487083,\n",
       "  'trades_count': 10864},\n",
       " {'time_period_start': '2021-09-04T00:00:00.0000000Z',\n",
       "  'time_period_end': '2021-09-05T00:00:00.0000000Z',\n",
       "  'time_open': '2021-09-04T00:00:10.4170000Z',\n",
       "  'time_close': '2021-09-04T23:59:44.9760000Z',\n",
       "  'price_open': 50033.5,\n",
       "  'price_high': 50570.94,\n",
       "  'price_low': 49388.26,\n",
       "  'price_close': 49943.16,\n",
       "  'volume_traded': 869.28839285,\n",
       "  'trades_count': 11203},\n",
       " {'time_period_start': '2021-09-03T00:00:00.0000000Z',\n",
       "  'time_period_end': '2021-09-04T00:00:00.0000000Z',\n",
       "  'time_open': '2021-09-03T00:00:10.4420000Z',\n",
       "  'time_close': '2021-09-03T23:59:54.6340000Z',\n",
       "  'price_open': 49284.93,\n",
       "  'price_high': 51050.0,\n",
       "  'price_low': 48351.6,\n",
       "  'price_close': 50025.04,\n",
       "  'volume_traded': 2226.78294854,\n",
       "  'trades_count': 23748},\n",
       " {'time_period_start': '2021-09-02T00:00:00.0000000Z',\n",
       "  'time_period_end': '2021-09-03T00:00:00.0000000Z',\n",
       "  'time_open': '2021-09-02T00:00:09.4220000Z',\n",
       "  'time_close': '2021-09-02T23:59:57.7010000Z',\n",
       "  'price_open': 48830.93,\n",
       "  'price_high': 50390.0,\n",
       "  'price_low': 48625.0,\n",
       "  'price_close': 49274.79,\n",
       "  'volume_traded': 2267.93197524,\n",
       "  'trades_count': 21035},\n",
       " {'time_period_start': '2021-09-01T00:00:00.0000000Z',\n",
       "  'time_period_end': '2021-09-02T00:00:00.0000000Z',\n",
       "  'time_open': '2021-09-01T00:00:11.7420000Z',\n",
       "  'time_close': '2021-09-01T23:59:49.2590000Z',\n",
       "  'price_open': 47118.02,\n",
       "  'price_high': 49134.0,\n",
       "  'price_low': 46532.42,\n",
       "  'price_close': 48853.49,\n",
       "  'volume_traded': 2194.6130788,\n",
       "  'trades_count': 19749},\n",
       " {'time_period_start': '2021-08-31T00:00:00.0000000Z',\n",
       "  'time_period_end': '2021-09-01T00:00:00.0000000Z',\n",
       "  'time_open': '2021-08-31T00:00:02.1210000Z',\n",
       "  'time_close': '2021-08-31T23:59:35.5040000Z',\n",
       "  'price_open': 46969.05,\n",
       "  'price_high': 48270.33,\n",
       "  'price_low': 46699.0,\n",
       "  'price_close': 47156.09,\n",
       "  'volume_traded': 2239.1677032,\n",
       "  'trades_count': 24000},\n",
       " {'time_period_start': '2021-08-30T00:00:00.0000000Z',\n",
       "  'time_period_end': '2021-08-31T00:00:00.0000000Z',\n",
       "  'time_open': '2021-08-30T00:00:17.9010000Z',\n",
       "  'time_close': '2021-08-30T23:59:58.4370000Z',\n",
       "  'price_open': 48782.56,\n",
       "  'price_high': 48915.29,\n",
       "  'price_low': 46855.41,\n",
       "  'price_close': 47003.44,\n",
       "  'volume_traded': 1676.48255108,\n",
       "  'trades_count': 17285},\n",
       " {'time_period_start': '2021-08-29T00:00:00.0000000Z',\n",
       "  'time_period_end': '2021-08-30T00:00:00.0000000Z',\n",
       "  'time_open': '2021-08-29T00:00:03.9370000Z',\n",
       "  'time_close': '2021-08-29T23:59:53.7230000Z',\n",
       "  'price_open': 48947.1,\n",
       "  'price_high': 49666.0,\n",
       "  'price_low': 47798.29,\n",
       "  'price_close': 48808.72,\n",
       "  'volume_traded': 1044.48189034,\n",
       "  'trades_count': 10609},\n",
       " {'time_period_start': '2021-08-28T00:00:00.0000000Z',\n",
       "  'time_period_end': '2021-08-29T00:00:00.0000000Z',\n",
       "  'time_open': '2021-08-28T00:00:01.9670000Z',\n",
       "  'time_close': '2021-08-28T23:59:52.2610000Z',\n",
       "  'price_open': 49100.49,\n",
       "  'price_high': 49325.0,\n",
       "  'price_low': 48244.88,\n",
       "  'price_close': 48935.36,\n",
       "  'volume_traded': 692.70588551,\n",
       "  'trades_count': 10228},\n",
       " {'time_period_start': '2021-08-27T00:00:00.0000000Z',\n",
       "  'time_period_end': '2021-08-28T00:00:00.0000000Z',\n",
       "  'time_open': '2021-08-27T00:00:09.5240000Z',\n",
       "  'time_close': '2021-08-27T23:59:41.8460000Z',\n",
       "  'price_open': 46857.86,\n",
       "  'price_high': 49187.0,\n",
       "  'price_low': 46363.0,\n",
       "  'price_close': 49100.49,\n",
       "  'volume_traded': 1940.76251123,\n",
       "  'trades_count': 20793},\n",
       " {'time_period_start': '2021-08-26T00:00:00.0000000Z',\n",
       "  'time_period_end': '2021-08-27T00:00:00.0000000Z',\n",
       "  'time_open': '2021-08-26T00:00:42.0830000Z',\n",
       "  'time_close': '2021-08-26T23:59:44.7780000Z',\n",
       "  'price_open': 49022.39,\n",
       "  'price_high': 49387.6,\n",
       "  'price_low': 46309.33,\n",
       "  'price_close': 46856.29,\n",
       "  'volume_traded': 2085.57995362,\n",
       "  'trades_count': 20639},\n",
       " {'time_period_start': '2021-08-25T00:00:00.0000000Z',\n",
       "  'time_period_end': '2021-08-26T00:00:00.0000000Z',\n",
       "  'time_open': '2021-08-25T00:00:14.4860000Z',\n",
       "  'time_close': '2021-08-25T23:59:16.3490000Z',\n",
       "  'price_open': 47670.8,\n",
       "  'price_high': 49273.93,\n",
       "  'price_low': 47100.0,\n",
       "  'price_close': 49011.75,\n",
       "  'volume_traded': 1902.57524199,\n",
       "  'trades_count': 18154},\n",
       " {'time_period_start': '2021-08-24T00:00:00.0000000Z',\n",
       "  'time_period_end': '2021-08-25T00:00:00.0000000Z',\n",
       "  'time_open': '2021-08-24T00:00:01.7140000Z',\n",
       "  'time_close': '2021-08-24T23:59:51.2830000Z',\n",
       "  'price_open': 49516.08,\n",
       "  'price_high': 49893.5,\n",
       "  'price_low': 47593.66,\n",
       "  'price_close': 47731.33,\n",
       "  'volume_traded': 2217.80305724,\n",
       "  'trades_count': 19563},\n",
       " {'time_period_start': '2021-08-23T00:00:00.0000000Z',\n",
       "  'time_period_end': '2021-08-24T00:00:00.0000000Z',\n",
       "  'time_open': '2021-08-23T00:00:11.0950000Z',\n",
       "  'time_close': '2021-08-23T23:59:43.9910000Z',\n",
       "  'price_open': 49296.71,\n",
       "  'price_high': 50562.11,\n",
       "  'price_low': 49010.0,\n",
       "  'price_close': 49561.37,\n",
       "  'volume_traded': 2419.86814706,\n",
       "  'trades_count': 20240},\n",
       " {'time_period_start': '2021-08-22T00:00:00.0000000Z',\n",
       "  'time_period_end': '2021-08-23T00:00:00.0000000Z',\n",
       "  'time_open': '2021-08-22T00:00:00.1390000Z',\n",
       "  'time_close': '2021-08-22T23:59:58.3470000Z',\n",
       "  'price_open': 48883.84,\n",
       "  'price_high': 49540.01,\n",
       "  'price_low': 48080.17,\n",
       "  'price_close': 49301.86,\n",
       "  'volume_traded': 985.76533304,\n",
       "  'trades_count': 11076},\n",
       " {'time_period_start': '2021-08-21T00:00:00.0000000Z',\n",
       "  'time_period_end': '2021-08-22T00:00:00.0000000Z',\n",
       "  'time_open': '2021-08-21T00:00:28.5330000Z',\n",
       "  'time_close': '2021-08-21T23:59:55.3300000Z',\n",
       "  'price_open': 49332.31,\n",
       "  'price_high': 49833.02,\n",
       "  'price_low': 48300.0,\n",
       "  'price_close': 48884.34,\n",
       "  'volume_traded': 1768.24156609,\n",
       "  'trades_count': 16172},\n",
       " {'time_period_start': '2021-08-20T00:00:00.0000000Z',\n",
       "  'time_period_end': '2021-08-21T00:00:00.0000000Z',\n",
       "  'time_open': '2021-08-20T00:00:05.1240000Z',\n",
       "  'time_close': '2021-08-20T23:59:39.6740000Z',\n",
       "  'price_open': 46759.29,\n",
       "  'price_high': 49436.1,\n",
       "  'price_low': 46645.77,\n",
       "  'price_close': 49356.0,\n",
       "  'volume_traded': 2815.55159523,\n",
       "  'trades_count': 24112},\n",
       " {'time_period_start': '2021-08-19T00:00:00.0000000Z',\n",
       "  'time_period_end': '2021-08-20T00:00:00.0000000Z',\n",
       "  'time_open': '2021-08-19T00:00:02.3010000Z',\n",
       "  'time_close': '2021-08-19T23:58:57.8620000Z',\n",
       "  'price_open': 44734.16,\n",
       "  'price_high': 47114.99,\n",
       "  'price_low': 43935.54,\n",
       "  'price_close': 46764.3,\n",
       "  'volume_traded': 2776.2376849,\n",
       "  'trades_count': 22256},\n",
       " {'time_period_start': '2021-08-18T00:00:00.0000000Z',\n",
       "  'time_period_end': '2021-08-19T00:00:00.0000000Z',\n",
       "  'time_open': '2021-08-18T00:00:16.2670000Z',\n",
       "  'time_close': '2021-08-18T23:59:57.3470000Z',\n",
       "  'price_open': 44631.47,\n",
       "  'price_high': 46041.62,\n",
       "  'price_low': 44218.73,\n",
       "  'price_close': 44721.13,\n",
       "  'volume_traded': 2245.14155719,\n",
       "  'trades_count': 18040},\n",
       " {'time_period_start': '2021-08-17T00:00:00.0000000Z',\n",
       "  'time_period_end': '2021-08-18T00:00:00.0000000Z',\n",
       "  'time_open': '2021-08-17T00:00:22.6810000Z',\n",
       "  'time_close': '2021-08-17T23:59:53.7630000Z',\n",
       "  'price_open': 45930.48,\n",
       "  'price_high': 47183.37,\n",
       "  'price_low': 44417.51,\n",
       "  'price_close': 44694.35,\n",
       "  'volume_traded': 3286.2732645,\n",
       "  'trades_count': 24719}]"
      ]
     },
     "execution_count": 5,
     "metadata": {},
     "output_type": "execute_result"
    }
   ],
   "source": [
    "data = json.loads(response.text)\n",
    "data"
   ]
  },
  {
   "cell_type": "code",
   "execution_count": 6,
   "metadata": {},
   "outputs": [
    {
     "data": {
      "text/html": [
       "<div>\n",
       "<style scoped>\n",
       "    .dataframe tbody tr th:only-of-type {\n",
       "        vertical-align: middle;\n",
       "    }\n",
       "\n",
       "    .dataframe tbody tr th {\n",
       "        vertical-align: top;\n",
       "    }\n",
       "\n",
       "    .dataframe thead th {\n",
       "        text-align: right;\n",
       "    }\n",
       "</style>\n",
       "<table border=\"1\" class=\"dataframe\">\n",
       "  <thead>\n",
       "    <tr style=\"text-align: right;\">\n",
       "      <th></th>\n",
       "      <th>time_period_start</th>\n",
       "      <th>time_period_end</th>\n",
       "      <th>time_open</th>\n",
       "      <th>time_close</th>\n",
       "      <th>price_open</th>\n",
       "      <th>price_high</th>\n",
       "      <th>price_low</th>\n",
       "      <th>price_close</th>\n",
       "      <th>volume_traded</th>\n",
       "      <th>trades_count</th>\n",
       "    </tr>\n",
       "  </thead>\n",
       "  <tbody>\n",
       "    <tr>\n",
       "      <th>0</th>\n",
       "      <td>2021-11-24T00:00:00.0000000Z</td>\n",
       "      <td>2021-11-25T00:00:00.0000000Z</td>\n",
       "      <td>2021-11-24T00:00:08.5660000Z</td>\n",
       "      <td>2021-11-24T07:59:16.4830000Z</td>\n",
       "      <td>57583.91</td>\n",
       "      <td>57750.20</td>\n",
       "      <td>56162.95</td>\n",
       "      <td>56535.79</td>\n",
       "      <td>585.907839</td>\n",
       "      <td>6194</td>\n",
       "    </tr>\n",
       "    <tr>\n",
       "      <th>1</th>\n",
       "      <td>2021-11-23T00:00:00.0000000Z</td>\n",
       "      <td>2021-11-24T00:00:00.0000000Z</td>\n",
       "      <td>2021-11-23T00:00:06.1610000Z</td>\n",
       "      <td>2021-11-23T23:59:50.6970000Z</td>\n",
       "      <td>56283.80</td>\n",
       "      <td>57897.54</td>\n",
       "      <td>55128.60</td>\n",
       "      <td>57579.99</td>\n",
       "      <td>2732.084801</td>\n",
       "      <td>37441</td>\n",
       "    </tr>\n",
       "    <tr>\n",
       "      <th>2</th>\n",
       "      <td>2021-11-22T00:00:00.0000000Z</td>\n",
       "      <td>2021-11-23T00:00:00.0000000Z</td>\n",
       "      <td>2021-11-22T00:00:00.2350000Z</td>\n",
       "      <td>2021-11-22T23:59:55.9260000Z</td>\n",
       "      <td>58679.27</td>\n",
       "      <td>59516.78</td>\n",
       "      <td>55628.57</td>\n",
       "      <td>56294.11</td>\n",
       "      <td>2943.101063</td>\n",
       "      <td>28762</td>\n",
       "    </tr>\n",
       "    <tr>\n",
       "      <th>3</th>\n",
       "      <td>2021-11-21T00:00:00.0000000Z</td>\n",
       "      <td>2021-11-22T00:00:00.0000000Z</td>\n",
       "      <td>2021-11-21T00:00:05.4950000Z</td>\n",
       "      <td>2021-11-21T23:59:54.2040000Z</td>\n",
       "      <td>59785.85</td>\n",
       "      <td>60090.55</td>\n",
       "      <td>58525.84</td>\n",
       "      <td>58678.47</td>\n",
       "      <td>895.675095</td>\n",
       "      <td>11328</td>\n",
       "    </tr>\n",
       "    <tr>\n",
       "      <th>4</th>\n",
       "      <td>2021-11-20T00:00:00.0000000Z</td>\n",
       "      <td>2021-11-21T00:00:00.0000000Z</td>\n",
       "      <td>2021-11-20T00:00:08.2290000Z</td>\n",
       "      <td>2021-11-20T23:59:59.3440000Z</td>\n",
       "      <td>58126.46</td>\n",
       "      <td>59896.54</td>\n",
       "      <td>57424.27</td>\n",
       "      <td>59768.54</td>\n",
       "      <td>1171.282419</td>\n",
       "      <td>17581</td>\n",
       "    </tr>\n",
       "  </tbody>\n",
       "</table>\n",
       "</div>"
      ],
      "text/plain": [
       "              time_period_start               time_period_end  \\\n",
       "0  2021-11-24T00:00:00.0000000Z  2021-11-25T00:00:00.0000000Z   \n",
       "1  2021-11-23T00:00:00.0000000Z  2021-11-24T00:00:00.0000000Z   \n",
       "2  2021-11-22T00:00:00.0000000Z  2021-11-23T00:00:00.0000000Z   \n",
       "3  2021-11-21T00:00:00.0000000Z  2021-11-22T00:00:00.0000000Z   \n",
       "4  2021-11-20T00:00:00.0000000Z  2021-11-21T00:00:00.0000000Z   \n",
       "\n",
       "                      time_open                    time_close  price_open  \\\n",
       "0  2021-11-24T00:00:08.5660000Z  2021-11-24T07:59:16.4830000Z    57583.91   \n",
       "1  2021-11-23T00:00:06.1610000Z  2021-11-23T23:59:50.6970000Z    56283.80   \n",
       "2  2021-11-22T00:00:00.2350000Z  2021-11-22T23:59:55.9260000Z    58679.27   \n",
       "3  2021-11-21T00:00:05.4950000Z  2021-11-21T23:59:54.2040000Z    59785.85   \n",
       "4  2021-11-20T00:00:08.2290000Z  2021-11-20T23:59:59.3440000Z    58126.46   \n",
       "\n",
       "   price_high  price_low  price_close  volume_traded  trades_count  \n",
       "0    57750.20   56162.95     56535.79     585.907839          6194  \n",
       "1    57897.54   55128.60     57579.99    2732.084801         37441  \n",
       "2    59516.78   55628.57     56294.11    2943.101063         28762  \n",
       "3    60090.55   58525.84     58678.47     895.675095         11328  \n",
       "4    59896.54   57424.27     59768.54    1171.282419         17581  "
      ]
     },
     "execution_count": 6,
     "metadata": {},
     "output_type": "execute_result"
    }
   ],
   "source": [
    "df = pd.DataFrame(data)\n",
    "df.head()"
   ]
  },
  {
   "cell_type": "markdown",
   "metadata": {},
   "source": [
    "# Price open"
   ]
  },
  {
   "cell_type": "code",
   "execution_count": 13,
   "metadata": {},
   "outputs": [
    {
     "data": {
      "text/plain": [
       "52698.8"
      ]
     },
     "execution_count": 13,
     "metadata": {},
     "output_type": "execute_result"
    }
   ],
   "source": [
    "df['price_open'][0]"
   ]
  },
  {
   "cell_type": "markdown",
   "metadata": {},
   "source": [
    "# Price close "
   ]
  },
  {
   "cell_type": "code",
   "execution_count": 14,
   "metadata": {},
   "outputs": [
    {
     "data": {
      "text/plain": [
       "50983.1"
      ]
     },
     "execution_count": 14,
     "metadata": {},
     "output_type": "execute_result"
    }
   ],
   "source": [
    "df['price_close'][0]"
   ]
  },
  {
   "cell_type": "markdown",
   "metadata": {},
   "source": [
    "# Price_High"
   ]
  },
  {
   "cell_type": "code",
   "execution_count": 12,
   "metadata": {},
   "outputs": [
    {
     "data": {
      "text/plain": [
       "36812.5"
      ]
     },
     "execution_count": 12,
     "metadata": {},
     "output_type": "execute_result"
    }
   ],
   "source": [
    "df['price_high'][0]"
   ]
  },
  {
   "cell_type": "markdown",
   "metadata": {},
   "source": [
    "# volume_traded"
   ]
  },
  {
   "cell_type": "code",
   "execution_count": 13,
   "metadata": {},
   "outputs": [
    {
     "data": {
      "text/plain": [
       "132044.007262027"
      ]
     },
     "execution_count": 13,
     "metadata": {},
     "output_type": "execute_result"
    }
   ],
   "source": [
    "df['volume_traded'][0]"
   ]
  },
  {
   "cell_type": "code",
   "execution_count": null,
   "metadata": {},
   "outputs": [],
   "source": []
  },
  {
   "cell_type": "markdown",
   "metadata": {},
   "source": [
    "# Candlestick Charts in Python"
   ]
  },
  {
   "cell_type": "code",
   "execution_count": 15,
   "metadata": {},
   "outputs": [
    {
     "data": {
      "application/vnd.plotly.v1+json": {
       "config": {
        "plotlyServerURL": "https://plot.ly"
       },
       "data": [
        {
         "close": [
          50983.1,
          52698.81,
          51789.17,
          49942.98,
          50018.6,
          49279.37,
          48839.86,
          47112.5,
          46993.71,
          48802.58,
          48942.94,
          49077.57,
          46848.9,
          48987.33,
          47682.45,
          49506.5,
          49284.63,
          48867.02,
          49342.4,
          46765.87,
          44707.98,
          44671.58,
          45902.46,
          47014.49,
          47109.65,
          47833.64,
          44422.14,
          45539.85,
          45596.74,
          46279.23,
          43845.6,
          44637.34,
          42869.58,
          40888.74,
          39722.41,
          38191.44,
          39152.3,
          39865.41,
          41488.5,
          42237.95,
          40000,
          40035.1,
          39470.48,
          37262.77,
          35428.26,
          34301.78,
          33647.26,
          32287.74,
          32147.5,
          29796.16,
          30842.03,
          31788.25,
          31533.91,
          31388.06,
          31868.68,
          32821.17,
          32734.14,
          33105,
          34246.9,
          33515.35,
          33824.26,
          32882.2,
          33885.1,
          34225.73,
          33697.78,
          35284.05,
          34688.3,
          33805.02,
          33516.11,
          35060,
          35904.28,
          34493.22,
          34675.3,
          32275.19,
          31594.63,
          34654.58,
          33688.35,
          32538.37,
          31609.82,
          35585.78,
          35484.79,
          35841.81,
          38095.17,
          38351,
          40162.37,
          40539.47,
          39034.6,
          35557.33,
          37338.44,
          36694.05,
          37414,
          33402.13,
          33575.91,
          35800.48,
          35534.6,
          36856.52,
          39248.55,
          37577.91,
          36685,
          37279.31
         ],
         "high": [
          52959,
          52813.5,
          51921,
          50570.94,
          51094,
          50408.447,
          49141.907,
          48274.5,
          48916.5,
          49685,
          49325,
          49197.64,
          49387.6,
          49277,
          49893.5,
          50562.11,
          49567.1,
          49835,
          49436.1,
          47114.99,
          46041.62,
          47185.5,
          48076.52,
          47440.5,
          48240.5,
          47953.9,
          46236.7,
          46788,
          46759,
          46529.02,
          45386.81,
          44763.14,
          43401.9,
          41447.89,
          39973.94,
          39792.83,
          40464.5,
          42642.5,
          42460,
          42335.5,
          40665,
          40944.5,
          39579,
          40593.93,
          35451.04,
          34534.32,
          33684.17,
          32611.84,
          32950,
          31068.62,
          31905.5,
          32450,
          31960.5,
          32264.53,
          33198,
          33125.55,
          33346,
          34720,
          34663.5,
          34285,
          34137.04,
          33953.5,
          35098.28,
          35133.231,
          35305.1,
          35985.71,
          34959.72,
          34000,
          35137.79,
          36101.5,
          36675,
          35357.13,
          34772.94,
          32741.5,
          35517.22,
          35311.2,
          35000,
          33352,
          35763.8,
          36139.73,
          36464.63,
          38216.22,
          39600.5,
          40510.5,
          41380.02,
          41076.03,
          39409.4,
          37461.47,
          37711.865,
          38482,
          37573.99,
          34085.61,
          36812.5,
          36510.58,
          37935.8,
          39291.24,
          39490,
          38256.4,
          37934.3,
          37540.96
         ],
         "low": [
          50492.638,
          51003.37,
          49483.721,
          49363.6,
          48333,
          48615,
          46515.5,
          46698.5,
          46828,
          47768.5,
          48244.88,
          46361.01,
          46284.8,
          47100,
          47593.66,
          49010,
          48058.1,
          48237.5,
          46642,
          43935.54,
          44216.47,
          44401.2,
          45654.14,
          45497.5,
          46000,
          44242,
          43714.36,
          45350.74,
          44642.21,
          42784,
          43131.97,
          42251,
          39834,
          37276.805,
          37425,
          37558.09,
          38660.01,
          39392,
          41007.51,
          38304,
          39229.47,
          38786.125,
          36386.19,
          35251.54,
          33869.9,
          33419.31,
          31993.5,
          31703.15,
          29499,
          29278,
          30400,
          31100,
          31162.7,
          31012.93,
          31064.77,
          31555.6,
          32190,
          32658.751,
          33331,
          32968.2,
          32255.24,
          32100.5,
          33770.01,
          33300,
          33080.3,
          34381.1,
          33310,
          32698.5,
          32700.88,
          34033,
          34233.35,
          33864.99,
          31983.883,
          30082.79,
          31271.02,
          32300,
          31670.89,
          28600,
          31238.69,
          33333.01,
          34718.21,
          35126,
          37350,
          38059.01,
          39461.1,
          38734.1,
          34780.57,
          34630,
          35944,
          35800,
          32408.53,
          30994.25,
          33316,
          35230.5,
          34820,
          35576.67,
          37154.13,
          35920,
          35660.031,
          34183
         ],
         "open": [
          52698.8,
          51768,
          49944.89,
          50025,
          49279.38,
          48834.27,
          47110.33,
          46996.8,
          48802.58,
          48942.89,
          49081.08,
          46851.47,
          48991.57,
          47682.45,
          49504.53,
          49284.38,
          48870.21,
          49349.99,
          46769.02,
          44709.1,
          44675.34,
          45903.22,
          47014.38,
          47109.64,
          47833.64,
          44422.15,
          45570,
          45601.82,
          46280,
          43829.15,
          44628.11,
          42869.59,
          40888.73,
          39718.9,
          38189.4,
          39149.59,
          39859.18,
          41499,
          42233.66,
          40039.44,
          40035.1,
          39475.99,
          37262.76,
          35428.25,
          34291.67,
          33647.27,
          32287.75,
          32152.68,
          29796.15,
          30842.04,
          31786.37,
          31533.9,
          31389.57,
          31872.49,
          32815.75,
          32734.14,
          33077.43,
          34246.9,
          33515.35,
          33824.25,
          32875.95,
          33879.5,
          34225.72,
          33697.78,
          35284.06,
          34685.03,
          33805.01,
          33510.93,
          35060,
          35906.17,
          34493.22,
          34708.53,
          32275.9,
          31577.3,
          34654.87,
          33688.51,
          32538.9,
          31609.82,
          35585.79,
          35484.8,
          35840.96,
          38103.94,
          38351,
          40158.06,
          40537.93,
          39015.24,
          35557.32,
          37340.08,
          36694.91,
          37404.75,
          33402.13,
          33567.26,
          35800.48,
          35539.97,
          36856.53,
          39248.54,
          37581.83,
          36684.99,
          37276.23,
          35669.44
         ],
         "type": "candlestick",
         "x": [
          "2021-09-07T00:00:00.0000000Z",
          "2021-09-06T00:00:00.0000000Z",
          "2021-09-05T00:00:00.0000000Z",
          "2021-09-04T00:00:00.0000000Z",
          "2021-09-03T00:00:00.0000000Z",
          "2021-09-02T00:00:00.0000000Z",
          "2021-09-01T00:00:00.0000000Z",
          "2021-08-31T00:00:00.0000000Z",
          "2021-08-30T00:00:00.0000000Z",
          "2021-08-29T00:00:00.0000000Z",
          "2021-08-28T00:00:00.0000000Z",
          "2021-08-27T00:00:00.0000000Z",
          "2021-08-26T00:00:00.0000000Z",
          "2021-08-25T00:00:00.0000000Z",
          "2021-08-24T00:00:00.0000000Z",
          "2021-08-23T00:00:00.0000000Z",
          "2021-08-22T00:00:00.0000000Z",
          "2021-08-21T00:00:00.0000000Z",
          "2021-08-20T00:00:00.0000000Z",
          "2021-08-19T00:00:00.0000000Z",
          "2021-08-18T00:00:00.0000000Z",
          "2021-08-17T00:00:00.0000000Z",
          "2021-08-16T00:00:00.0000000Z",
          "2021-08-15T00:00:00.0000000Z",
          "2021-08-14T00:00:00.0000000Z",
          "2021-08-13T00:00:00.0000000Z",
          "2021-08-12T00:00:00.0000000Z",
          "2021-08-11T00:00:00.0000000Z",
          "2021-08-10T00:00:00.0000000Z",
          "2021-08-09T00:00:00.0000000Z",
          "2021-08-08T00:00:00.0000000Z",
          "2021-08-07T00:00:00.0000000Z",
          "2021-08-06T00:00:00.0000000Z",
          "2021-08-05T00:00:00.0000000Z",
          "2021-08-04T00:00:00.0000000Z",
          "2021-08-03T00:00:00.0000000Z",
          "2021-08-02T00:00:00.0000000Z",
          "2021-08-01T00:00:00.0000000Z",
          "2021-07-31T00:00:00.0000000Z",
          "2021-07-30T00:00:00.0000000Z",
          "2021-07-29T00:00:00.0000000Z",
          "2021-07-28T00:00:00.0000000Z",
          "2021-07-27T00:00:00.0000000Z",
          "2021-07-26T00:00:00.0000000Z",
          "2021-07-25T00:00:00.0000000Z",
          "2021-07-24T00:00:00.0000000Z",
          "2021-07-23T00:00:00.0000000Z",
          "2021-07-22T00:00:00.0000000Z",
          "2021-07-21T00:00:00.0000000Z",
          "2021-07-20T00:00:00.0000000Z",
          "2021-07-19T00:00:00.0000000Z",
          "2021-07-18T00:00:00.0000000Z",
          "2021-07-17T00:00:00.0000000Z",
          "2021-07-16T00:00:00.0000000Z",
          "2021-07-15T00:00:00.0000000Z",
          "2021-07-14T00:00:00.0000000Z",
          "2021-07-13T00:00:00.0000000Z",
          "2021-07-12T00:00:00.0000000Z",
          "2021-07-11T00:00:00.0000000Z",
          "2021-07-10T00:00:00.0000000Z",
          "2021-07-09T00:00:00.0000000Z",
          "2021-07-08T00:00:00.0000000Z",
          "2021-07-07T00:00:00.0000000Z",
          "2021-07-06T00:00:00.0000000Z",
          "2021-07-05T00:00:00.0000000Z",
          "2021-07-04T00:00:00.0000000Z",
          "2021-07-03T00:00:00.0000000Z",
          "2021-07-02T00:00:00.0000000Z",
          "2021-07-01T00:00:00.0000000Z",
          "2021-06-30T00:00:00.0000000Z",
          "2021-06-29T00:00:00.0000000Z",
          "2021-06-28T00:00:00.0000000Z",
          "2021-06-27T00:00:00.0000000Z",
          "2021-06-26T00:00:00.0000000Z",
          "2021-06-25T00:00:00.0000000Z",
          "2021-06-24T00:00:00.0000000Z",
          "2021-06-23T00:00:00.0000000Z",
          "2021-06-22T00:00:00.0000000Z",
          "2021-06-21T00:00:00.0000000Z",
          "2021-06-20T00:00:00.0000000Z",
          "2021-06-19T00:00:00.0000000Z",
          "2021-06-18T00:00:00.0000000Z",
          "2021-06-17T00:00:00.0000000Z",
          "2021-06-16T00:00:00.0000000Z",
          "2021-06-15T00:00:00.0000000Z",
          "2021-06-14T00:00:00.0000000Z",
          "2021-06-13T00:00:00.0000000Z",
          "2021-06-12T00:00:00.0000000Z",
          "2021-06-11T00:00:00.0000000Z",
          "2021-06-10T00:00:00.0000000Z",
          "2021-06-09T00:00:00.0000000Z",
          "2021-06-08T00:00:00.0000000Z",
          "2021-06-07T00:00:00.0000000Z",
          "2021-06-06T00:00:00.0000000Z",
          "2021-06-05T00:00:00.0000000Z",
          "2021-06-04T00:00:00.0000000Z",
          "2021-06-03T00:00:00.0000000Z",
          "2021-06-02T00:00:00.0000000Z",
          "2021-06-01T00:00:00.0000000Z",
          "2021-05-31T00:00:00.0000000Z"
         ]
        }
       ],
       "layout": {
        "autosize": true,
        "colorway": [
         "#5E0DAC",
         "#FF4F00",
         "#375CB1",
         "#FF7400",
         "#FFF400",
         "#FF0056"
        ],
        "hovermode": "x",
        "margin": {
         "b": 15
        },
        "paper_bgcolor": "rgba(0, 0, 0, 0)",
        "plot_bgcolor": "rgba(0, 0, 0, 0)",
        "template": {
         "data": {
          "bar": [
           {
            "error_x": {
             "color": "#f2f5fa"
            },
            "error_y": {
             "color": "#f2f5fa"
            },
            "marker": {
             "line": {
              "color": "rgb(17,17,17)",
              "width": 0.5
             },
             "pattern": {
              "fillmode": "overlay",
              "size": 10,
              "solidity": 0.2
             }
            },
            "type": "bar"
           }
          ],
          "barpolar": [
           {
            "marker": {
             "line": {
              "color": "rgb(17,17,17)",
              "width": 0.5
             },
             "pattern": {
              "fillmode": "overlay",
              "size": 10,
              "solidity": 0.2
             }
            },
            "type": "barpolar"
           }
          ],
          "carpet": [
           {
            "aaxis": {
             "endlinecolor": "#A2B1C6",
             "gridcolor": "#506784",
             "linecolor": "#506784",
             "minorgridcolor": "#506784",
             "startlinecolor": "#A2B1C6"
            },
            "baxis": {
             "endlinecolor": "#A2B1C6",
             "gridcolor": "#506784",
             "linecolor": "#506784",
             "minorgridcolor": "#506784",
             "startlinecolor": "#A2B1C6"
            },
            "type": "carpet"
           }
          ],
          "choropleth": [
           {
            "colorbar": {
             "outlinewidth": 0,
             "ticks": ""
            },
            "type": "choropleth"
           }
          ],
          "contour": [
           {
            "colorbar": {
             "outlinewidth": 0,
             "ticks": ""
            },
            "colorscale": [
             [
              0,
              "#0d0887"
             ],
             [
              0.1111111111111111,
              "#46039f"
             ],
             [
              0.2222222222222222,
              "#7201a8"
             ],
             [
              0.3333333333333333,
              "#9c179e"
             ],
             [
              0.4444444444444444,
              "#bd3786"
             ],
             [
              0.5555555555555556,
              "#d8576b"
             ],
             [
              0.6666666666666666,
              "#ed7953"
             ],
             [
              0.7777777777777778,
              "#fb9f3a"
             ],
             [
              0.8888888888888888,
              "#fdca26"
             ],
             [
              1,
              "#f0f921"
             ]
            ],
            "type": "contour"
           }
          ],
          "contourcarpet": [
           {
            "colorbar": {
             "outlinewidth": 0,
             "ticks": ""
            },
            "type": "contourcarpet"
           }
          ],
          "heatmap": [
           {
            "colorbar": {
             "outlinewidth": 0,
             "ticks": ""
            },
            "colorscale": [
             [
              0,
              "#0d0887"
             ],
             [
              0.1111111111111111,
              "#46039f"
             ],
             [
              0.2222222222222222,
              "#7201a8"
             ],
             [
              0.3333333333333333,
              "#9c179e"
             ],
             [
              0.4444444444444444,
              "#bd3786"
             ],
             [
              0.5555555555555556,
              "#d8576b"
             ],
             [
              0.6666666666666666,
              "#ed7953"
             ],
             [
              0.7777777777777778,
              "#fb9f3a"
             ],
             [
              0.8888888888888888,
              "#fdca26"
             ],
             [
              1,
              "#f0f921"
             ]
            ],
            "type": "heatmap"
           }
          ],
          "heatmapgl": [
           {
            "colorbar": {
             "outlinewidth": 0,
             "ticks": ""
            },
            "colorscale": [
             [
              0,
              "#0d0887"
             ],
             [
              0.1111111111111111,
              "#46039f"
             ],
             [
              0.2222222222222222,
              "#7201a8"
             ],
             [
              0.3333333333333333,
              "#9c179e"
             ],
             [
              0.4444444444444444,
              "#bd3786"
             ],
             [
              0.5555555555555556,
              "#d8576b"
             ],
             [
              0.6666666666666666,
              "#ed7953"
             ],
             [
              0.7777777777777778,
              "#fb9f3a"
             ],
             [
              0.8888888888888888,
              "#fdca26"
             ],
             [
              1,
              "#f0f921"
             ]
            ],
            "type": "heatmapgl"
           }
          ],
          "histogram": [
           {
            "marker": {
             "pattern": {
              "fillmode": "overlay",
              "size": 10,
              "solidity": 0.2
             }
            },
            "type": "histogram"
           }
          ],
          "histogram2d": [
           {
            "colorbar": {
             "outlinewidth": 0,
             "ticks": ""
            },
            "colorscale": [
             [
              0,
              "#0d0887"
             ],
             [
              0.1111111111111111,
              "#46039f"
             ],
             [
              0.2222222222222222,
              "#7201a8"
             ],
             [
              0.3333333333333333,
              "#9c179e"
             ],
             [
              0.4444444444444444,
              "#bd3786"
             ],
             [
              0.5555555555555556,
              "#d8576b"
             ],
             [
              0.6666666666666666,
              "#ed7953"
             ],
             [
              0.7777777777777778,
              "#fb9f3a"
             ],
             [
              0.8888888888888888,
              "#fdca26"
             ],
             [
              1,
              "#f0f921"
             ]
            ],
            "type": "histogram2d"
           }
          ],
          "histogram2dcontour": [
           {
            "colorbar": {
             "outlinewidth": 0,
             "ticks": ""
            },
            "colorscale": [
             [
              0,
              "#0d0887"
             ],
             [
              0.1111111111111111,
              "#46039f"
             ],
             [
              0.2222222222222222,
              "#7201a8"
             ],
             [
              0.3333333333333333,
              "#9c179e"
             ],
             [
              0.4444444444444444,
              "#bd3786"
             ],
             [
              0.5555555555555556,
              "#d8576b"
             ],
             [
              0.6666666666666666,
              "#ed7953"
             ],
             [
              0.7777777777777778,
              "#fb9f3a"
             ],
             [
              0.8888888888888888,
              "#fdca26"
             ],
             [
              1,
              "#f0f921"
             ]
            ],
            "type": "histogram2dcontour"
           }
          ],
          "mesh3d": [
           {
            "colorbar": {
             "outlinewidth": 0,
             "ticks": ""
            },
            "type": "mesh3d"
           }
          ],
          "parcoords": [
           {
            "line": {
             "colorbar": {
              "outlinewidth": 0,
              "ticks": ""
             }
            },
            "type": "parcoords"
           }
          ],
          "pie": [
           {
            "automargin": true,
            "type": "pie"
           }
          ],
          "scatter": [
           {
            "marker": {
             "line": {
              "color": "#283442"
             }
            },
            "type": "scatter"
           }
          ],
          "scatter3d": [
           {
            "line": {
             "colorbar": {
              "outlinewidth": 0,
              "ticks": ""
             }
            },
            "marker": {
             "colorbar": {
              "outlinewidth": 0,
              "ticks": ""
             }
            },
            "type": "scatter3d"
           }
          ],
          "scattercarpet": [
           {
            "marker": {
             "colorbar": {
              "outlinewidth": 0,
              "ticks": ""
             }
            },
            "type": "scattercarpet"
           }
          ],
          "scattergeo": [
           {
            "marker": {
             "colorbar": {
              "outlinewidth": 0,
              "ticks": ""
             }
            },
            "type": "scattergeo"
           }
          ],
          "scattergl": [
           {
            "marker": {
             "line": {
              "color": "#283442"
             }
            },
            "type": "scattergl"
           }
          ],
          "scattermapbox": [
           {
            "marker": {
             "colorbar": {
              "outlinewidth": 0,
              "ticks": ""
             }
            },
            "type": "scattermapbox"
           }
          ],
          "scatterpolar": [
           {
            "marker": {
             "colorbar": {
              "outlinewidth": 0,
              "ticks": ""
             }
            },
            "type": "scatterpolar"
           }
          ],
          "scatterpolargl": [
           {
            "marker": {
             "colorbar": {
              "outlinewidth": 0,
              "ticks": ""
             }
            },
            "type": "scatterpolargl"
           }
          ],
          "scatterternary": [
           {
            "marker": {
             "colorbar": {
              "outlinewidth": 0,
              "ticks": ""
             }
            },
            "type": "scatterternary"
           }
          ],
          "surface": [
           {
            "colorbar": {
             "outlinewidth": 0,
             "ticks": ""
            },
            "colorscale": [
             [
              0,
              "#0d0887"
             ],
             [
              0.1111111111111111,
              "#46039f"
             ],
             [
              0.2222222222222222,
              "#7201a8"
             ],
             [
              0.3333333333333333,
              "#9c179e"
             ],
             [
              0.4444444444444444,
              "#bd3786"
             ],
             [
              0.5555555555555556,
              "#d8576b"
             ],
             [
              0.6666666666666666,
              "#ed7953"
             ],
             [
              0.7777777777777778,
              "#fb9f3a"
             ],
             [
              0.8888888888888888,
              "#fdca26"
             ],
             [
              1,
              "#f0f921"
             ]
            ],
            "type": "surface"
           }
          ],
          "table": [
           {
            "cells": {
             "fill": {
              "color": "#506784"
             },
             "line": {
              "color": "rgb(17,17,17)"
             }
            },
            "header": {
             "fill": {
              "color": "#2a3f5f"
             },
             "line": {
              "color": "rgb(17,17,17)"
             }
            },
            "type": "table"
           }
          ]
         },
         "layout": {
          "annotationdefaults": {
           "arrowcolor": "#f2f5fa",
           "arrowhead": 0,
           "arrowwidth": 1
          },
          "autotypenumbers": "strict",
          "coloraxis": {
           "colorbar": {
            "outlinewidth": 0,
            "ticks": ""
           }
          },
          "colorscale": {
           "diverging": [
            [
             0,
             "#8e0152"
            ],
            [
             0.1,
             "#c51b7d"
            ],
            [
             0.2,
             "#de77ae"
            ],
            [
             0.3,
             "#f1b6da"
            ],
            [
             0.4,
             "#fde0ef"
            ],
            [
             0.5,
             "#f7f7f7"
            ],
            [
             0.6,
             "#e6f5d0"
            ],
            [
             0.7,
             "#b8e186"
            ],
            [
             0.8,
             "#7fbc41"
            ],
            [
             0.9,
             "#4d9221"
            ],
            [
             1,
             "#276419"
            ]
           ],
           "sequential": [
            [
             0,
             "#0d0887"
            ],
            [
             0.1111111111111111,
             "#46039f"
            ],
            [
             0.2222222222222222,
             "#7201a8"
            ],
            [
             0.3333333333333333,
             "#9c179e"
            ],
            [
             0.4444444444444444,
             "#bd3786"
            ],
            [
             0.5555555555555556,
             "#d8576b"
            ],
            [
             0.6666666666666666,
             "#ed7953"
            ],
            [
             0.7777777777777778,
             "#fb9f3a"
            ],
            [
             0.8888888888888888,
             "#fdca26"
            ],
            [
             1,
             "#f0f921"
            ]
           ],
           "sequentialminus": [
            [
             0,
             "#0d0887"
            ],
            [
             0.1111111111111111,
             "#46039f"
            ],
            [
             0.2222222222222222,
             "#7201a8"
            ],
            [
             0.3333333333333333,
             "#9c179e"
            ],
            [
             0.4444444444444444,
             "#bd3786"
            ],
            [
             0.5555555555555556,
             "#d8576b"
            ],
            [
             0.6666666666666666,
             "#ed7953"
            ],
            [
             0.7777777777777778,
             "#fb9f3a"
            ],
            [
             0.8888888888888888,
             "#fdca26"
            ],
            [
             1,
             "#f0f921"
            ]
           ]
          },
          "colorway": [
           "#636efa",
           "#EF553B",
           "#00cc96",
           "#ab63fa",
           "#FFA15A",
           "#19d3f3",
           "#FF6692",
           "#B6E880",
           "#FF97FF",
           "#FECB52"
          ],
          "font": {
           "color": "#f2f5fa"
          },
          "geo": {
           "bgcolor": "rgb(17,17,17)",
           "lakecolor": "rgb(17,17,17)",
           "landcolor": "rgb(17,17,17)",
           "showlakes": true,
           "showland": true,
           "subunitcolor": "#506784"
          },
          "hoverlabel": {
           "align": "left"
          },
          "hovermode": "closest",
          "mapbox": {
           "style": "dark"
          },
          "paper_bgcolor": "rgb(17,17,17)",
          "plot_bgcolor": "rgb(17,17,17)",
          "polar": {
           "angularaxis": {
            "gridcolor": "#506784",
            "linecolor": "#506784",
            "ticks": ""
           },
           "bgcolor": "rgb(17,17,17)",
           "radialaxis": {
            "gridcolor": "#506784",
            "linecolor": "#506784",
            "ticks": ""
           }
          },
          "scene": {
           "xaxis": {
            "backgroundcolor": "rgb(17,17,17)",
            "gridcolor": "#506784",
            "gridwidth": 2,
            "linecolor": "#506784",
            "showbackground": true,
            "ticks": "",
            "zerolinecolor": "#C8D4E3"
           },
           "yaxis": {
            "backgroundcolor": "rgb(17,17,17)",
            "gridcolor": "#506784",
            "gridwidth": 2,
            "linecolor": "#506784",
            "showbackground": true,
            "ticks": "",
            "zerolinecolor": "#C8D4E3"
           },
           "zaxis": {
            "backgroundcolor": "rgb(17,17,17)",
            "gridcolor": "#506784",
            "gridwidth": 2,
            "linecolor": "#506784",
            "showbackground": true,
            "ticks": "",
            "zerolinecolor": "#C8D4E3"
           }
          },
          "shapedefaults": {
           "line": {
            "color": "#f2f5fa"
           }
          },
          "sliderdefaults": {
           "bgcolor": "#C8D4E3",
           "bordercolor": "rgb(17,17,17)",
           "borderwidth": 1,
           "tickwidth": 0
          },
          "ternary": {
           "aaxis": {
            "gridcolor": "#506784",
            "linecolor": "#506784",
            "ticks": ""
           },
           "baxis": {
            "gridcolor": "#506784",
            "linecolor": "#506784",
            "ticks": ""
           },
           "bgcolor": "rgb(17,17,17)",
           "caxis": {
            "gridcolor": "#506784",
            "linecolor": "#506784",
            "ticks": ""
           }
          },
          "title": {
           "x": 0.05
          },
          "updatemenudefaults": {
           "bgcolor": "#506784",
           "borderwidth": 0
          },
          "xaxis": {
           "automargin": true,
           "gridcolor": "#283442",
           "linecolor": "#506784",
           "ticks": "",
           "title": {
            "standoff": 15
           },
           "zerolinecolor": "#283442",
           "zerolinewidth": 2
          },
          "yaxis": {
           "automargin": true,
           "gridcolor": "#283442",
           "linecolor": "#506784",
           "ticks": "",
           "title": {
            "standoff": 15
           },
           "zerolinecolor": "#283442",
           "zerolinewidth": 2
          }
         }
        },
        "title": {
         "font": {
          "color": "white"
         },
         "text": "Cryptocurrency Prices",
         "x": 0.5
        }
       }
      },
      "text/html": [
       "<div>                            <div id=\"0f57873b-7996-442e-b819-f56ae5c4f836\" class=\"plotly-graph-div\" style=\"height:525px; width:100%;\"></div>            <script type=\"text/javascript\">                require([\"plotly\"], function(Plotly) {                    window.PLOTLYENV=window.PLOTLYENV || {};                                    if (document.getElementById(\"0f57873b-7996-442e-b819-f56ae5c4f836\")) {                    Plotly.newPlot(                        \"0f57873b-7996-442e-b819-f56ae5c4f836\",                        [{\"close\":[50983.1,52698.81,51789.17,49942.98,50018.6,49279.37,48839.86,47112.5,46993.71,48802.58,48942.94,49077.57,46848.9,48987.33,47682.45,49506.5,49284.63,48867.02,49342.4,46765.87,44707.98,44671.58,45902.46,47014.49,47109.65,47833.64,44422.14,45539.85,45596.74,46279.23,43845.6,44637.34,42869.58,40888.74,39722.41,38191.44,39152.3,39865.41,41488.5,42237.95,40000.0,40035.1,39470.48,37262.77,35428.26,34301.78,33647.26,32287.74,32147.5,29796.16,30842.03,31788.25,31533.91,31388.06,31868.68,32821.17,32734.14,33105.0,34246.9,33515.35,33824.26,32882.2,33885.1,34225.73,33697.78,35284.05,34688.3,33805.02,33516.11,35060.0,35904.28,34493.22,34675.3,32275.19,31594.63,34654.58,33688.35,32538.37,31609.82,35585.78,35484.79,35841.81,38095.17,38351.0,40162.37,40539.47,39034.6,35557.33,37338.44,36694.05,37414.0,33402.13,33575.91,35800.48,35534.6,36856.52,39248.55,37577.91,36685.0,37279.31],\"high\":[52959.0,52813.5,51921.0,50570.94,51094.0,50408.447,49141.907,48274.5,48916.5,49685.0,49325.0,49197.64,49387.6,49277.0,49893.5,50562.11,49567.1,49835.0,49436.1,47114.99,46041.62,47185.5,48076.52,47440.5,48240.5,47953.9,46236.7,46788.0,46759.0,46529.02,45386.81,44763.14,43401.9,41447.89,39973.94,39792.83,40464.5,42642.5,42460.0,42335.5,40665.0,40944.5,39579.0,40593.93,35451.04,34534.32,33684.17,32611.84,32950.0,31068.62,31905.5,32450.0,31960.5,32264.53,33198.0,33125.55,33346.0,34720.0,34663.5,34285.0,34137.04,33953.5,35098.28,35133.231,35305.1,35985.71,34959.72,34000.0,35137.79,36101.5,36675.0,35357.13,34772.94,32741.5,35517.22,35311.2,35000.0,33352.0,35763.8,36139.73,36464.63,38216.22,39600.5,40510.5,41380.02,41076.03,39409.4,37461.47,37711.865,38482.0,37573.99,34085.61,36812.5,36510.58,37935.8,39291.24,39490.0,38256.4,37934.3,37540.96],\"low\":[50492.638,51003.37,49483.721,49363.6,48333.0,48615.0,46515.5,46698.5,46828.0,47768.5,48244.88,46361.01,46284.8,47100.0,47593.66,49010.0,48058.1,48237.5,46642.0,43935.54,44216.47,44401.2,45654.14,45497.5,46000.0,44242.0,43714.36,45350.74,44642.21,42784.0,43131.97,42251.0,39834.0,37276.805,37425.0,37558.09,38660.01,39392.0,41007.51,38304.0,39229.47,38786.125,36386.19,35251.54,33869.9,33419.31,31993.5,31703.15,29499.0,29278.0,30400.0,31100.0,31162.7,31012.93,31064.77,31555.6,32190.0,32658.751,33331.0,32968.2,32255.24,32100.5,33770.01,33300.0,33080.3,34381.1,33310.0,32698.5,32700.88,34033.0,34233.35,33864.99,31983.883,30082.79,31271.02,32300.0,31670.89,28600.0,31238.69,33333.01,34718.21,35126.0,37350.0,38059.01,39461.1,38734.1,34780.57,34630.0,35944.0,35800.0,32408.53,30994.25,33316.0,35230.5,34820.0,35576.67,37154.13,35920.0,35660.031,34183.0],\"open\":[52698.8,51768.0,49944.89,50025.0,49279.38,48834.27,47110.33,46996.8,48802.58,48942.89,49081.08,46851.47,48991.57,47682.45,49504.53,49284.38,48870.21,49349.99,46769.02,44709.1,44675.34,45903.22,47014.38,47109.64,47833.64,44422.15,45570.0,45601.82,46280.0,43829.15,44628.11,42869.59,40888.73,39718.9,38189.4,39149.59,39859.18,41499.0,42233.66,40039.44,40035.1,39475.99,37262.76,35428.25,34291.67,33647.27,32287.75,32152.68,29796.15,30842.04,31786.37,31533.9,31389.57,31872.49,32815.75,32734.14,33077.43,34246.9,33515.35,33824.25,32875.95,33879.5,34225.72,33697.78,35284.06,34685.03,33805.01,33510.93,35060.0,35906.17,34493.22,34708.53,32275.9,31577.3,34654.87,33688.51,32538.9,31609.82,35585.79,35484.8,35840.96,38103.94,38351.0,40158.06,40537.93,39015.24,35557.32,37340.08,36694.91,37404.75,33402.13,33567.26,35800.48,35539.97,36856.53,39248.54,37581.83,36684.99,37276.23,35669.44],\"type\":\"candlestick\",\"x\":[\"2021-09-07T00:00:00.0000000Z\",\"2021-09-06T00:00:00.0000000Z\",\"2021-09-05T00:00:00.0000000Z\",\"2021-09-04T00:00:00.0000000Z\",\"2021-09-03T00:00:00.0000000Z\",\"2021-09-02T00:00:00.0000000Z\",\"2021-09-01T00:00:00.0000000Z\",\"2021-08-31T00:00:00.0000000Z\",\"2021-08-30T00:00:00.0000000Z\",\"2021-08-29T00:00:00.0000000Z\",\"2021-08-28T00:00:00.0000000Z\",\"2021-08-27T00:00:00.0000000Z\",\"2021-08-26T00:00:00.0000000Z\",\"2021-08-25T00:00:00.0000000Z\",\"2021-08-24T00:00:00.0000000Z\",\"2021-08-23T00:00:00.0000000Z\",\"2021-08-22T00:00:00.0000000Z\",\"2021-08-21T00:00:00.0000000Z\",\"2021-08-20T00:00:00.0000000Z\",\"2021-08-19T00:00:00.0000000Z\",\"2021-08-18T00:00:00.0000000Z\",\"2021-08-17T00:00:00.0000000Z\",\"2021-08-16T00:00:00.0000000Z\",\"2021-08-15T00:00:00.0000000Z\",\"2021-08-14T00:00:00.0000000Z\",\"2021-08-13T00:00:00.0000000Z\",\"2021-08-12T00:00:00.0000000Z\",\"2021-08-11T00:00:00.0000000Z\",\"2021-08-10T00:00:00.0000000Z\",\"2021-08-09T00:00:00.0000000Z\",\"2021-08-08T00:00:00.0000000Z\",\"2021-08-07T00:00:00.0000000Z\",\"2021-08-06T00:00:00.0000000Z\",\"2021-08-05T00:00:00.0000000Z\",\"2021-08-04T00:00:00.0000000Z\",\"2021-08-03T00:00:00.0000000Z\",\"2021-08-02T00:00:00.0000000Z\",\"2021-08-01T00:00:00.0000000Z\",\"2021-07-31T00:00:00.0000000Z\",\"2021-07-30T00:00:00.0000000Z\",\"2021-07-29T00:00:00.0000000Z\",\"2021-07-28T00:00:00.0000000Z\",\"2021-07-27T00:00:00.0000000Z\",\"2021-07-26T00:00:00.0000000Z\",\"2021-07-25T00:00:00.0000000Z\",\"2021-07-24T00:00:00.0000000Z\",\"2021-07-23T00:00:00.0000000Z\",\"2021-07-22T00:00:00.0000000Z\",\"2021-07-21T00:00:00.0000000Z\",\"2021-07-20T00:00:00.0000000Z\",\"2021-07-19T00:00:00.0000000Z\",\"2021-07-18T00:00:00.0000000Z\",\"2021-07-17T00:00:00.0000000Z\",\"2021-07-16T00:00:00.0000000Z\",\"2021-07-15T00:00:00.0000000Z\",\"2021-07-14T00:00:00.0000000Z\",\"2021-07-13T00:00:00.0000000Z\",\"2021-07-12T00:00:00.0000000Z\",\"2021-07-11T00:00:00.0000000Z\",\"2021-07-10T00:00:00.0000000Z\",\"2021-07-09T00:00:00.0000000Z\",\"2021-07-08T00:00:00.0000000Z\",\"2021-07-07T00:00:00.0000000Z\",\"2021-07-06T00:00:00.0000000Z\",\"2021-07-05T00:00:00.0000000Z\",\"2021-07-04T00:00:00.0000000Z\",\"2021-07-03T00:00:00.0000000Z\",\"2021-07-02T00:00:00.0000000Z\",\"2021-07-01T00:00:00.0000000Z\",\"2021-06-30T00:00:00.0000000Z\",\"2021-06-29T00:00:00.0000000Z\",\"2021-06-28T00:00:00.0000000Z\",\"2021-06-27T00:00:00.0000000Z\",\"2021-06-26T00:00:00.0000000Z\",\"2021-06-25T00:00:00.0000000Z\",\"2021-06-24T00:00:00.0000000Z\",\"2021-06-23T00:00:00.0000000Z\",\"2021-06-22T00:00:00.0000000Z\",\"2021-06-21T00:00:00.0000000Z\",\"2021-06-20T00:00:00.0000000Z\",\"2021-06-19T00:00:00.0000000Z\",\"2021-06-18T00:00:00.0000000Z\",\"2021-06-17T00:00:00.0000000Z\",\"2021-06-16T00:00:00.0000000Z\",\"2021-06-15T00:00:00.0000000Z\",\"2021-06-14T00:00:00.0000000Z\",\"2021-06-13T00:00:00.0000000Z\",\"2021-06-12T00:00:00.0000000Z\",\"2021-06-11T00:00:00.0000000Z\",\"2021-06-10T00:00:00.0000000Z\",\"2021-06-09T00:00:00.0000000Z\",\"2021-06-08T00:00:00.0000000Z\",\"2021-06-07T00:00:00.0000000Z\",\"2021-06-06T00:00:00.0000000Z\",\"2021-06-05T00:00:00.0000000Z\",\"2021-06-04T00:00:00.0000000Z\",\"2021-06-03T00:00:00.0000000Z\",\"2021-06-02T00:00:00.0000000Z\",\"2021-06-01T00:00:00.0000000Z\",\"2021-05-31T00:00:00.0000000Z\"]}],                        {\"autosize\":true,\"colorway\":[\"#5E0DAC\",\"#FF4F00\",\"#375CB1\",\"#FF7400\",\"#FFF400\",\"#FF0056\"],\"hovermode\":\"x\",\"margin\":{\"b\":15},\"paper_bgcolor\":\"rgba(0, 0, 0, 0)\",\"plot_bgcolor\":\"rgba(0, 0, 0, 0)\",\"template\":{\"data\":{\"bar\":[{\"error_x\":{\"color\":\"#f2f5fa\"},\"error_y\":{\"color\":\"#f2f5fa\"},\"marker\":{\"line\":{\"color\":\"rgb(17,17,17)\",\"width\":0.5},\"pattern\":{\"fillmode\":\"overlay\",\"size\":10,\"solidity\":0.2}},\"type\":\"bar\"}],\"barpolar\":[{\"marker\":{\"line\":{\"color\":\"rgb(17,17,17)\",\"width\":0.5},\"pattern\":{\"fillmode\":\"overlay\",\"size\":10,\"solidity\":0.2}},\"type\":\"barpolar\"}],\"carpet\":[{\"aaxis\":{\"endlinecolor\":\"#A2B1C6\",\"gridcolor\":\"#506784\",\"linecolor\":\"#506784\",\"minorgridcolor\":\"#506784\",\"startlinecolor\":\"#A2B1C6\"},\"baxis\":{\"endlinecolor\":\"#A2B1C6\",\"gridcolor\":\"#506784\",\"linecolor\":\"#506784\",\"minorgridcolor\":\"#506784\",\"startlinecolor\":\"#A2B1C6\"},\"type\":\"carpet\"}],\"choropleth\":[{\"colorbar\":{\"outlinewidth\":0,\"ticks\":\"\"},\"type\":\"choropleth\"}],\"contour\":[{\"colorbar\":{\"outlinewidth\":0,\"ticks\":\"\"},\"colorscale\":[[0.0,\"#0d0887\"],[0.1111111111111111,\"#46039f\"],[0.2222222222222222,\"#7201a8\"],[0.3333333333333333,\"#9c179e\"],[0.4444444444444444,\"#bd3786\"],[0.5555555555555556,\"#d8576b\"],[0.6666666666666666,\"#ed7953\"],[0.7777777777777778,\"#fb9f3a\"],[0.8888888888888888,\"#fdca26\"],[1.0,\"#f0f921\"]],\"type\":\"contour\"}],\"contourcarpet\":[{\"colorbar\":{\"outlinewidth\":0,\"ticks\":\"\"},\"type\":\"contourcarpet\"}],\"heatmap\":[{\"colorbar\":{\"outlinewidth\":0,\"ticks\":\"\"},\"colorscale\":[[0.0,\"#0d0887\"],[0.1111111111111111,\"#46039f\"],[0.2222222222222222,\"#7201a8\"],[0.3333333333333333,\"#9c179e\"],[0.4444444444444444,\"#bd3786\"],[0.5555555555555556,\"#d8576b\"],[0.6666666666666666,\"#ed7953\"],[0.7777777777777778,\"#fb9f3a\"],[0.8888888888888888,\"#fdca26\"],[1.0,\"#f0f921\"]],\"type\":\"heatmap\"}],\"heatmapgl\":[{\"colorbar\":{\"outlinewidth\":0,\"ticks\":\"\"},\"colorscale\":[[0.0,\"#0d0887\"],[0.1111111111111111,\"#46039f\"],[0.2222222222222222,\"#7201a8\"],[0.3333333333333333,\"#9c179e\"],[0.4444444444444444,\"#bd3786\"],[0.5555555555555556,\"#d8576b\"],[0.6666666666666666,\"#ed7953\"],[0.7777777777777778,\"#fb9f3a\"],[0.8888888888888888,\"#fdca26\"],[1.0,\"#f0f921\"]],\"type\":\"heatmapgl\"}],\"histogram\":[{\"marker\":{\"pattern\":{\"fillmode\":\"overlay\",\"size\":10,\"solidity\":0.2}},\"type\":\"histogram\"}],\"histogram2d\":[{\"colorbar\":{\"outlinewidth\":0,\"ticks\":\"\"},\"colorscale\":[[0.0,\"#0d0887\"],[0.1111111111111111,\"#46039f\"],[0.2222222222222222,\"#7201a8\"],[0.3333333333333333,\"#9c179e\"],[0.4444444444444444,\"#bd3786\"],[0.5555555555555556,\"#d8576b\"],[0.6666666666666666,\"#ed7953\"],[0.7777777777777778,\"#fb9f3a\"],[0.8888888888888888,\"#fdca26\"],[1.0,\"#f0f921\"]],\"type\":\"histogram2d\"}],\"histogram2dcontour\":[{\"colorbar\":{\"outlinewidth\":0,\"ticks\":\"\"},\"colorscale\":[[0.0,\"#0d0887\"],[0.1111111111111111,\"#46039f\"],[0.2222222222222222,\"#7201a8\"],[0.3333333333333333,\"#9c179e\"],[0.4444444444444444,\"#bd3786\"],[0.5555555555555556,\"#d8576b\"],[0.6666666666666666,\"#ed7953\"],[0.7777777777777778,\"#fb9f3a\"],[0.8888888888888888,\"#fdca26\"],[1.0,\"#f0f921\"]],\"type\":\"histogram2dcontour\"}],\"mesh3d\":[{\"colorbar\":{\"outlinewidth\":0,\"ticks\":\"\"},\"type\":\"mesh3d\"}],\"parcoords\":[{\"line\":{\"colorbar\":{\"outlinewidth\":0,\"ticks\":\"\"}},\"type\":\"parcoords\"}],\"pie\":[{\"automargin\":true,\"type\":\"pie\"}],\"scatter\":[{\"marker\":{\"line\":{\"color\":\"#283442\"}},\"type\":\"scatter\"}],\"scatter3d\":[{\"line\":{\"colorbar\":{\"outlinewidth\":0,\"ticks\":\"\"}},\"marker\":{\"colorbar\":{\"outlinewidth\":0,\"ticks\":\"\"}},\"type\":\"scatter3d\"}],\"scattercarpet\":[{\"marker\":{\"colorbar\":{\"outlinewidth\":0,\"ticks\":\"\"}},\"type\":\"scattercarpet\"}],\"scattergeo\":[{\"marker\":{\"colorbar\":{\"outlinewidth\":0,\"ticks\":\"\"}},\"type\":\"scattergeo\"}],\"scattergl\":[{\"marker\":{\"line\":{\"color\":\"#283442\"}},\"type\":\"scattergl\"}],\"scattermapbox\":[{\"marker\":{\"colorbar\":{\"outlinewidth\":0,\"ticks\":\"\"}},\"type\":\"scattermapbox\"}],\"scatterpolar\":[{\"marker\":{\"colorbar\":{\"outlinewidth\":0,\"ticks\":\"\"}},\"type\":\"scatterpolar\"}],\"scatterpolargl\":[{\"marker\":{\"colorbar\":{\"outlinewidth\":0,\"ticks\":\"\"}},\"type\":\"scatterpolargl\"}],\"scatterternary\":[{\"marker\":{\"colorbar\":{\"outlinewidth\":0,\"ticks\":\"\"}},\"type\":\"scatterternary\"}],\"surface\":[{\"colorbar\":{\"outlinewidth\":0,\"ticks\":\"\"},\"colorscale\":[[0.0,\"#0d0887\"],[0.1111111111111111,\"#46039f\"],[0.2222222222222222,\"#7201a8\"],[0.3333333333333333,\"#9c179e\"],[0.4444444444444444,\"#bd3786\"],[0.5555555555555556,\"#d8576b\"],[0.6666666666666666,\"#ed7953\"],[0.7777777777777778,\"#fb9f3a\"],[0.8888888888888888,\"#fdca26\"],[1.0,\"#f0f921\"]],\"type\":\"surface\"}],\"table\":[{\"cells\":{\"fill\":{\"color\":\"#506784\"},\"line\":{\"color\":\"rgb(17,17,17)\"}},\"header\":{\"fill\":{\"color\":\"#2a3f5f\"},\"line\":{\"color\":\"rgb(17,17,17)\"}},\"type\":\"table\"}]},\"layout\":{\"annotationdefaults\":{\"arrowcolor\":\"#f2f5fa\",\"arrowhead\":0,\"arrowwidth\":1},\"autotypenumbers\":\"strict\",\"coloraxis\":{\"colorbar\":{\"outlinewidth\":0,\"ticks\":\"\"}},\"colorscale\":{\"diverging\":[[0,\"#8e0152\"],[0.1,\"#c51b7d\"],[0.2,\"#de77ae\"],[0.3,\"#f1b6da\"],[0.4,\"#fde0ef\"],[0.5,\"#f7f7f7\"],[0.6,\"#e6f5d0\"],[0.7,\"#b8e186\"],[0.8,\"#7fbc41\"],[0.9,\"#4d9221\"],[1,\"#276419\"]],\"sequential\":[[0.0,\"#0d0887\"],[0.1111111111111111,\"#46039f\"],[0.2222222222222222,\"#7201a8\"],[0.3333333333333333,\"#9c179e\"],[0.4444444444444444,\"#bd3786\"],[0.5555555555555556,\"#d8576b\"],[0.6666666666666666,\"#ed7953\"],[0.7777777777777778,\"#fb9f3a\"],[0.8888888888888888,\"#fdca26\"],[1.0,\"#f0f921\"]],\"sequentialminus\":[[0.0,\"#0d0887\"],[0.1111111111111111,\"#46039f\"],[0.2222222222222222,\"#7201a8\"],[0.3333333333333333,\"#9c179e\"],[0.4444444444444444,\"#bd3786\"],[0.5555555555555556,\"#d8576b\"],[0.6666666666666666,\"#ed7953\"],[0.7777777777777778,\"#fb9f3a\"],[0.8888888888888888,\"#fdca26\"],[1.0,\"#f0f921\"]]},\"colorway\":[\"#636efa\",\"#EF553B\",\"#00cc96\",\"#ab63fa\",\"#FFA15A\",\"#19d3f3\",\"#FF6692\",\"#B6E880\",\"#FF97FF\",\"#FECB52\"],\"font\":{\"color\":\"#f2f5fa\"},\"geo\":{\"bgcolor\":\"rgb(17,17,17)\",\"lakecolor\":\"rgb(17,17,17)\",\"landcolor\":\"rgb(17,17,17)\",\"showlakes\":true,\"showland\":true,\"subunitcolor\":\"#506784\"},\"hoverlabel\":{\"align\":\"left\"},\"hovermode\":\"closest\",\"mapbox\":{\"style\":\"dark\"},\"paper_bgcolor\":\"rgb(17,17,17)\",\"plot_bgcolor\":\"rgb(17,17,17)\",\"polar\":{\"angularaxis\":{\"gridcolor\":\"#506784\",\"linecolor\":\"#506784\",\"ticks\":\"\"},\"bgcolor\":\"rgb(17,17,17)\",\"radialaxis\":{\"gridcolor\":\"#506784\",\"linecolor\":\"#506784\",\"ticks\":\"\"}},\"scene\":{\"xaxis\":{\"backgroundcolor\":\"rgb(17,17,17)\",\"gridcolor\":\"#506784\",\"gridwidth\":2,\"linecolor\":\"#506784\",\"showbackground\":true,\"ticks\":\"\",\"zerolinecolor\":\"#C8D4E3\"},\"yaxis\":{\"backgroundcolor\":\"rgb(17,17,17)\",\"gridcolor\":\"#506784\",\"gridwidth\":2,\"linecolor\":\"#506784\",\"showbackground\":true,\"ticks\":\"\",\"zerolinecolor\":\"#C8D4E3\"},\"zaxis\":{\"backgroundcolor\":\"rgb(17,17,17)\",\"gridcolor\":\"#506784\",\"gridwidth\":2,\"linecolor\":\"#506784\",\"showbackground\":true,\"ticks\":\"\",\"zerolinecolor\":\"#C8D4E3\"}},\"shapedefaults\":{\"line\":{\"color\":\"#f2f5fa\"}},\"sliderdefaults\":{\"bgcolor\":\"#C8D4E3\",\"bordercolor\":\"rgb(17,17,17)\",\"borderwidth\":1,\"tickwidth\":0},\"ternary\":{\"aaxis\":{\"gridcolor\":\"#506784\",\"linecolor\":\"#506784\",\"ticks\":\"\"},\"baxis\":{\"gridcolor\":\"#506784\",\"linecolor\":\"#506784\",\"ticks\":\"\"},\"bgcolor\":\"rgb(17,17,17)\",\"caxis\":{\"gridcolor\":\"#506784\",\"linecolor\":\"#506784\",\"ticks\":\"\"}},\"title\":{\"x\":0.05},\"updatemenudefaults\":{\"bgcolor\":\"#506784\",\"borderwidth\":0},\"xaxis\":{\"automargin\":true,\"gridcolor\":\"#283442\",\"linecolor\":\"#506784\",\"ticks\":\"\",\"title\":{\"standoff\":15},\"zerolinecolor\":\"#283442\",\"zerolinewidth\":2},\"yaxis\":{\"automargin\":true,\"gridcolor\":\"#283442\",\"linecolor\":\"#506784\",\"ticks\":\"\",\"title\":{\"standoff\":15},\"zerolinecolor\":\"#283442\",\"zerolinewidth\":2}}},\"title\":{\"font\":{\"color\":\"white\"},\"text\":\"Cryptocurrency Prices\",\"x\":0.5}},                        {\"responsive\": true}                    ).then(function(){\n",
       "                            \n",
       "var gd = document.getElementById('0f57873b-7996-442e-b819-f56ae5c4f836');\n",
       "var x = new MutationObserver(function (mutations, observer) {{\n",
       "        var display = window.getComputedStyle(gd).display;\n",
       "        if (!display || display === 'none') {{\n",
       "            console.log([gd, 'removed!']);\n",
       "            Plotly.purge(gd);\n",
       "            observer.disconnect();\n",
       "        }}\n",
       "}});\n",
       "\n",
       "// Listen for the removal of the full notebook cells\n",
       "var notebookContainer = gd.closest('#notebook-container');\n",
       "if (notebookContainer) {{\n",
       "    x.observe(notebookContainer, {childList: true});\n",
       "}}\n",
       "\n",
       "// Listen for the clearing of the current output cell\n",
       "var outputEl = gd.closest('.output');\n",
       "if (outputEl) {{\n",
       "    x.observe(outputEl, {childList: true});\n",
       "}}\n",
       "\n",
       "                        })                };                });            </script>        </div>"
      ]
     },
     "metadata": {},
     "output_type": "display_data"
    }
   ],
   "source": [
    "fig = go.Figure(data=[go.Candlestick(x=df.time_period_start,\n",
    "                                         open=df.price_open,\n",
    "                                         high=df.price_high,\n",
    "                                         low=df.price_low,\n",
    "                                         close=df.price_close, )]\n",
    "\n",
    "                    )\n",
    "\n",
    "fig.update_layout( colorway=[\"#5E0DAC\", '#FF4F00', '#375CB1', '#FF7400', '#FFF400', '#FF0056'],\n",
    "                  template='plotly_dark',\n",
    "                  paper_bgcolor='rgba(0, 0, 0, 0)',\n",
    "                  plot_bgcolor='rgba(0, 0, 0, 0)',\n",
    "                  margin={'b': 15},\n",
    "                  hovermode='x',\n",
    "                  autosize=True,\n",
    "                  title={'text': 'Cryptocurrency Prices', 'font': {'color': 'white'}, 'x': 0.5},)\n",
    "\n",
    "\n",
    "fig.show()\n"
   ]
  },
  {
   "cell_type": "code",
   "execution_count": null,
   "metadata": {},
   "outputs": [],
   "source": []
  },
  {
   "cell_type": "raw",
   "metadata": {},
   "source": [
    " # currency=value\n",
    "    url = f'https://rest.coinapi.io/v1/ohlcv/{currency}/USD/latest?period_id={time_change}'\n",
    "    #apikey = '6B081E29-633F-4CDD-9743-9219FBE0709B'\n",
    "    apikey='60F4A03A-174B-4FC1-973D-D05364E6AEEB'\n",
    "    #60F4A03A-174B-4FC1-973D-D05364E6AEEB\n",
    "    headers = {'X-CoinAPI-Key': apikey}\n",
    "    response = requests.get(url, headers=headers)\n",
    "    data = json.loads(response.text)\n",
    "    df = pd.DataFrame(data)"
   ]
  },
  {
   "cell_type": "code",
   "execution_count": 7,
   "metadata": {},
   "outputs": [],
   "source": [
    "df = pd.read_csv('https://raw.githubusercontent.com/Africa-Data-School/ADS-Assignment-5/main/Titanic%20Data.csv')"
   ]
  },
  {
   "cell_type": "code",
   "execution_count": 8,
   "metadata": {},
   "outputs": [
    {
     "data": {
      "text/html": [
       "<div>\n",
       "<style scoped>\n",
       "    .dataframe tbody tr th:only-of-type {\n",
       "        vertical-align: middle;\n",
       "    }\n",
       "\n",
       "    .dataframe tbody tr th {\n",
       "        vertical-align: top;\n",
       "    }\n",
       "\n",
       "    .dataframe thead th {\n",
       "        text-align: right;\n",
       "    }\n",
       "</style>\n",
       "<table border=\"1\" class=\"dataframe\">\n",
       "  <thead>\n",
       "    <tr style=\"text-align: right;\">\n",
       "      <th></th>\n",
       "      <th>PassengerId</th>\n",
       "      <th>Survived</th>\n",
       "      <th>Pclass</th>\n",
       "      <th>Name</th>\n",
       "      <th>Sex</th>\n",
       "      <th>Age</th>\n",
       "      <th>SibSp</th>\n",
       "      <th>Parch</th>\n",
       "      <th>Ticket</th>\n",
       "      <th>Fare</th>\n",
       "      <th>Cabin</th>\n",
       "      <th>Embarked</th>\n",
       "    </tr>\n",
       "  </thead>\n",
       "  <tbody>\n",
       "    <tr>\n",
       "      <th>0</th>\n",
       "      <td>1</td>\n",
       "      <td>0</td>\n",
       "      <td>3</td>\n",
       "      <td>Braund, Mr. Owen Harris</td>\n",
       "      <td>male</td>\n",
       "      <td>22.0</td>\n",
       "      <td>1</td>\n",
       "      <td>0</td>\n",
       "      <td>A/5 21171</td>\n",
       "      <td>7.2500</td>\n",
       "      <td>NaN</td>\n",
       "      <td>S</td>\n",
       "    </tr>\n",
       "    <tr>\n",
       "      <th>1</th>\n",
       "      <td>2</td>\n",
       "      <td>1</td>\n",
       "      <td>1</td>\n",
       "      <td>Cumings, Mrs. John Bradley (Florence Briggs Th...</td>\n",
       "      <td>female</td>\n",
       "      <td>38.0</td>\n",
       "      <td>1</td>\n",
       "      <td>0</td>\n",
       "      <td>PC 17599</td>\n",
       "      <td>71.2833</td>\n",
       "      <td>C85</td>\n",
       "      <td>C</td>\n",
       "    </tr>\n",
       "    <tr>\n",
       "      <th>2</th>\n",
       "      <td>3</td>\n",
       "      <td>1</td>\n",
       "      <td>3</td>\n",
       "      <td>Heikkinen, Miss. Laina</td>\n",
       "      <td>female</td>\n",
       "      <td>26.0</td>\n",
       "      <td>0</td>\n",
       "      <td>0</td>\n",
       "      <td>STON/O2. 3101282</td>\n",
       "      <td>7.9250</td>\n",
       "      <td>NaN</td>\n",
       "      <td>S</td>\n",
       "    </tr>\n",
       "    <tr>\n",
       "      <th>3</th>\n",
       "      <td>4</td>\n",
       "      <td>1</td>\n",
       "      <td>1</td>\n",
       "      <td>Futrelle, Mrs. Jacques Heath (Lily May Peel)</td>\n",
       "      <td>female</td>\n",
       "      <td>35.0</td>\n",
       "      <td>1</td>\n",
       "      <td>0</td>\n",
       "      <td>113803</td>\n",
       "      <td>53.1000</td>\n",
       "      <td>C123</td>\n",
       "      <td>S</td>\n",
       "    </tr>\n",
       "    <tr>\n",
       "      <th>4</th>\n",
       "      <td>5</td>\n",
       "      <td>0</td>\n",
       "      <td>3</td>\n",
       "      <td>Allen, Mr. William Henry</td>\n",
       "      <td>male</td>\n",
       "      <td>35.0</td>\n",
       "      <td>0</td>\n",
       "      <td>0</td>\n",
       "      <td>373450</td>\n",
       "      <td>8.0500</td>\n",
       "      <td>NaN</td>\n",
       "      <td>S</td>\n",
       "    </tr>\n",
       "  </tbody>\n",
       "</table>\n",
       "</div>"
      ],
      "text/plain": [
       "   PassengerId  Survived  Pclass  \\\n",
       "0            1         0       3   \n",
       "1            2         1       1   \n",
       "2            3         1       3   \n",
       "3            4         1       1   \n",
       "4            5         0       3   \n",
       "\n",
       "                                                Name     Sex   Age  SibSp  \\\n",
       "0                            Braund, Mr. Owen Harris    male  22.0      1   \n",
       "1  Cumings, Mrs. John Bradley (Florence Briggs Th...  female  38.0      1   \n",
       "2                             Heikkinen, Miss. Laina  female  26.0      0   \n",
       "3       Futrelle, Mrs. Jacques Heath (Lily May Peel)  female  35.0      1   \n",
       "4                           Allen, Mr. William Henry    male  35.0      0   \n",
       "\n",
       "   Parch            Ticket     Fare Cabin Embarked  \n",
       "0      0         A/5 21171   7.2500   NaN        S  \n",
       "1      0          PC 17599  71.2833   C85        C  \n",
       "2      0  STON/O2. 3101282   7.9250   NaN        S  \n",
       "3      0            113803  53.1000  C123        S  \n",
       "4      0            373450   8.0500   NaN        S  "
      ]
     },
     "execution_count": 8,
     "metadata": {},
     "output_type": "execute_result"
    }
   ],
   "source": [
    "df.head()"
   ]
  },
  {
   "cell_type": "code",
   "execution_count": null,
   "metadata": {},
   "outputs": [],
   "source": []
  }
 ],
 "metadata": {
  "kernelspec": {
   "display_name": "Python 3",
   "language": "python",
   "name": "python3"
  },
  "language_info": {
   "codemirror_mode": {
    "name": "ipython",
    "version": 3
   },
   "file_extension": ".py",
   "mimetype": "text/x-python",
   "name": "python",
   "nbconvert_exporter": "python",
   "pygments_lexer": "ipython3",
   "version": "3.8.8"
  }
 },
 "nbformat": 4,
 "nbformat_minor": 4
}
