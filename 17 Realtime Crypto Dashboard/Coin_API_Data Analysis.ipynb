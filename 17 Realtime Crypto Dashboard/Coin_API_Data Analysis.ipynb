{
 "cells": [
  {
   "cell_type": "code",
   "execution_count": 1,
   "metadata": {},
   "outputs": [],
   "source": [
    "import requests\n",
    "import json\n",
    "import pandas as pd\n",
    "import plotly.graph_objects as go"
   ]
  },
  {
   "cell_type": "markdown",
   "metadata": {},
   "source": [
    "## Coin API\n",
    "- Coin API is a high-quality, one-stop-solution market data provider for cryptocurrency markets.\n",
    "- https://docs.coinapi.io/?python#timeseries-data-get"
   ]
  },
  {
   "cell_type": "code",
   "execution_count": 12,
   "metadata": {},
   "outputs": [],
   "source": [
    "#url = 'https://rest.coinapi.io/v1/ohlcv/BTC/USD/latest?period_id=1DAY'\n",
    "url = 'https://rest.coinapi.io/v1/ohlcv/BITSTAMP_SPOT_BCH_USD/latest?period_id=1DAY'\n",
    "apikey='88BF8257-E755-46D1-B79B-231FA32B11C9'\n",
    "headers = {'X-CoinAPI-Key': apikey}"
   ]
  },
  {
   "cell_type": "code",
   "execution_count": 13,
   "metadata": {},
   "outputs": [
    {
     "data": {
      "text/plain": [
       "<Response [200]>"
      ]
     },
     "execution_count": 13,
     "metadata": {},
     "output_type": "execute_result"
    }
   ],
   "source": [
    "response = requests.get(url, headers=headers)\n",
    "response"
   ]
  },
  {
   "cell_type": "code",
   "execution_count": 14,
   "metadata": {},
   "outputs": [
    {
     "data": {
      "text/plain": [
       "'[\\n  {\\n    \"time_period_start\": \"2021-11-24T00:00:00.0000000Z\",\\n    \"time_period_end\": \"2021-11-25T00:00:00.0000000Z\",\\n    \"time_open\": \"2021-11-24T00:01:51.9720000Z\",\\n    \"time_close\": \"2021-11-24T08:00:31.7440000Z\",\\n    \"price_open\": 571.940000000,\\n    \"price_high\": 585.810000000,\\n    \"price_low\": 559.010000000,\\n    \"price_close\": 580.140000000,\\n    \"volume_traded\": 1068.894726390,\\n    \"trades_count\": 745\\n  },\\n  {\\n    \"time_period_start\": \"2021-11-23T00:00:00.0000000Z\",\\n    \"time_period_end\": \"2021-11-24T00:00:00.0000000Z\",\\n    \"time_open\": \"2021-11-23T00:04:40.7570000Z\",\\n    \"time_close\": \"2021-11-23T23:59:20.7720000Z\",\\n    \"price_open\": 557.130000000,\\n    \"price_high\": 575.620000000,\\n    \"price_low\": 546.420000000,\\n    \"price_close\": 571.260000000,\\n    \"volume_traded\": 2731.493167440,\\n    \"trades_count\": 1788\\n  },\\n  {\\n    \"time_period_start\": \"2021-11-22T00:00:00.0000000Z\",\\n    \"time_period_end\": \"2021-11-23T00:00:00.0000000Z\",\\n    \"time_open\": \"2021-11-22T00:04:18.7320000Z\",\\n    \"time_close\": \"2021-11-22T23:55:36.7250000Z\",\\n    \"price_open\": 574.350000000,\\n    \"price_high\": 578.360000000,\\n    \"price_low\": 547.440000000,\\n    \"price_close\": 558.640000000,\\n    \"volume_traded\": 4880.968776230,\\n    \"trades_count\": 3065\\n  },\\n  {\\n    \"time_period_start\": \"2021-11-21T00:00:00.0000000Z\",\\n    \"time_period_end\": \"2021-11-22T00:00:00.0000000Z\",\\n    \"time_open\": \"2021-11-21T00:00:41.7210000Z\",\\n    \"time_close\": \"2021-11-21T23:58:45.3310000Z\",\\n    \"price_open\": 585.260000000,\\n    \"price_high\": 585.710000000,\\n    \"price_low\": 568.940000000,\\n    \"price_close\": 575.850000000,\\n    \"volume_traded\": 6451.875818900,\\n    \"trades_count\": 2666\\n  },\\n  {\\n    \"time_period_start\": \"2021-11-20T00:00:00.0000000Z\",\\n    \"time_period_end\": \"2021-11-21T00:00:00.0000000Z\",\\n    \"time_open\": \"2021-11-20T00:00:54.2470000Z\",\\n    \"time_close\": \"2021-11-20T23:56:23.3950000Z\",\\n    \"price_open\": 575.560000000,\\n    \"price_high\": 588.620000000,\\n    \"price_low\": 565.560000000,\\n    \"price_close\": 584.770000000,\\n    \"volume_traded\": 1438.315690090,\\n    \"trades_count\": 1312\\n  },\\n  {\\n    \"time_period_start\": \"2021-11-19T00:00:00.0000000Z\",\\n    \"time_period_end\": \"2021-11-20T00:00:00.0000000Z\",\\n    \"time_open\": \"2021-11-19T00:02:48.1610000Z\",\\n    \"time_close\": \"2021-11-19T23:56:18.1060000Z\",\\n    \"price_open\": 553.900000000,\\n    \"price_high\": 578.000000000,\\n    \"price_low\": 548.900000000,\\n    \"price_close\": 575.040000000,\\n    \"volume_traded\": 3183.308387750,\\n    \"trades_count\": 3195\\n  },\\n  {\\n    \"time_period_start\": \"2021-11-18T00:00:00.0000000Z\",\\n    \"time_period_end\": \"2021-11-19T00:00:00.0000000Z\",\\n    \"time_open\": \"2021-11-18T00:00:23.4560000Z\",\\n    \"time_close\": \"2021-11-18T23:59:52.7130000Z\",\\n    \"price_open\": 595.790000000,\\n    \"price_high\": 601.190000000,\\n    \"price_low\": 543.560000000,\\n    \"price_close\": 554.380000000,\\n    \"volume_traded\": 6104.568358050,\\n    \"trades_count\": 3650\\n  },\\n  {\\n    \"time_period_start\": \"2021-11-17T00:00:00.0000000Z\",\\n    \"time_period_end\": \"2021-11-18T00:00:00.0000000Z\",\\n    \"time_open\": \"2021-11-17T00:00:41.5720000Z\",\\n    \"time_close\": \"2021-11-17T23:59:22.7980000Z\",\\n    \"price_open\": 599.290000000,\\n    \"price_high\": 603.420000000,\\n    \"price_low\": 578.810000000,\\n    \"price_close\": 596.300000000,\\n    \"volume_traded\": 8527.900729810,\\n    \"trades_count\": 3797\\n  },\\n  {\\n    \"time_period_start\": \"2021-11-16T00:00:00.0000000Z\",\\n    \"time_period_end\": \"2021-11-17T00:00:00.0000000Z\",\\n    \"time_open\": \"2021-11-16T00:01:43.3340000Z\",\\n    \"time_close\": \"2021-11-16T23:59:14.3370000Z\",\\n    \"price_open\": 664.150000000,\\n    \"price_high\": 664.150000000,\\n    \"price_low\": 572.180000000,\\n    \"price_close\": 598.680000000,\\n    \"volume_traded\": 7493.004355330,\\n    \"trades_count\": 4054\\n  },\\n  {\\n    \"time_period_start\": \"2021-11-15T00:00:00.0000000Z\",\\n    \"time_period_end\": \"2021-11-16T00:00:00.0000000Z\",\\n    \"time_open\": \"2021-11-15T00:00:11.6450000Z\",\\n    \"time_close\": \"2021-11-15T23:58:42.0030000Z\",\\n    \"price_open\": 679.260000000,\\n    \"price_high\": 685.600000000,\\n    \"price_low\": 664.880000000,\\n    \"price_close\": 665.540000000,\\n    \"volume_traded\": 6061.435844390,\\n    \"trades_count\": 2084\\n  },\\n  {\\n    \"time_period_start\": \"2021-11-14T00:00:00.0000000Z\",\\n    \"time_period_end\": \"2021-11-15T00:00:00.0000000Z\",\\n    \"time_open\": \"2021-11-14T00:00:52.3040000Z\",\\n    \"time_close\": \"2021-11-14T23:59:28.6600000Z\",\\n    \"price_open\": 666.610000000,\\n    \"price_high\": 678.820000000,\\n    \"price_low\": 658.000000000,\\n    \"price_close\": 678.400000000,\\n    \"volume_traded\": 2856.790822790,\\n    \"trades_count\": 1383\\n  },\\n  {\\n    \"time_period_start\": \"2021-11-13T00:00:00.0000000Z\",\\n    \"time_period_end\": \"2021-11-14T00:00:00.0000000Z\",\\n    \"time_open\": \"2021-11-13T00:02:40.0100000Z\",\\n    \"time_close\": \"2021-11-13T23:58:56.4920000Z\",\\n    \"price_open\": 669.750000000,\\n    \"price_high\": 670.090000000,\\n    \"price_low\": 655.770000000,\\n    \"price_close\": 666.180000000,\\n    \"volume_traded\": 2347.489732760,\\n    \"trades_count\": 1567\\n  },\\n  {\\n    \"time_period_start\": \"2021-11-12T00:00:00.0000000Z\",\\n    \"time_period_end\": \"2021-11-13T00:00:00.0000000Z\",\\n    \"time_open\": \"2021-11-12T00:01:54.1190000Z\",\\n    \"time_close\": \"2021-11-12T23:58:11.9620000Z\",\\n    \"price_open\": 676.440000000,\\n    \"price_high\": 684.160000000,\\n    \"price_low\": 647.210000000,\\n    \"price_close\": 669.520000000,\\n    \"volume_traded\": 6078.225320130,\\n    \"trades_count\": 2825\\n  },\\n  {\\n    \"time_period_start\": \"2021-11-11T00:00:00.0000000Z\",\\n    \"time_period_end\": \"2021-11-12T00:00:00.0000000Z\",\\n    \"time_open\": \"2021-11-11T00:02:07.8000000Z\",\\n    \"time_close\": \"2021-11-11T23:58:13.3190000Z\",\\n    \"price_open\": 661.070000000,\\n    \"price_high\": 680.800000000,\\n    \"price_low\": 659.000000000,\\n    \"price_close\": 676.330000000,\\n    \"volume_traded\": 4494.525578370,\\n    \"trades_count\": 2226\\n  },\\n  {\\n    \"time_period_start\": \"2021-11-10T00:00:00.0000000Z\",\\n    \"time_period_end\": \"2021-11-11T00:00:00.0000000Z\",\\n    \"time_open\": \"2021-11-10T00:04:03.7810000Z\",\\n    \"time_close\": \"2021-11-10T23:59:24.4500000Z\",\\n    \"price_open\": 718.180000000,\\n    \"price_high\": 728.790000000,\\n    \"price_low\": 644.990000000,\\n    \"price_close\": 664.470000000,\\n    \"volume_traded\": 12108.635176000,\\n    \"trades_count\": 5566\\n  },\\n  {\\n    \"time_period_start\": \"2021-11-09T00:00:00.0000000Z\",\\n    \"time_period_end\": \"2021-11-10T00:00:00.0000000Z\",\\n    \"time_open\": \"2021-11-09T00:00:08.1210000Z\",\\n    \"time_close\": \"2021-11-09T23:58:37.5180000Z\",\\n    \"price_open\": 638.930000000,\\n    \"price_high\": 731.490000000,\\n    \"price_low\": 637.180000000,\\n    \"price_close\": 716.990000000,\\n    \"volume_traded\": 13098.904675830,\\n    \"trades_count\": 6834\\n  },\\n  {\\n    \"time_period_start\": \"2021-11-08T00:00:00.0000000Z\",\\n    \"time_period_end\": \"2021-11-09T00:00:00.0000000Z\",\\n    \"time_open\": \"2021-11-08T00:03:15.7640000Z\",\\n    \"time_close\": \"2021-11-08T23:58:34.5530000Z\",\\n    \"price_open\": 602.680000000,\\n    \"price_high\": 643.000000000,\\n    \"price_low\": 599.720000000,\\n    \"price_close\": 638.260000000,\\n    \"volume_traded\": 4755.399624810,\\n    \"trades_count\": 2923\\n  },\\n  {\\n    \"time_period_start\": \"2021-11-07T00:00:00.0000000Z\",\\n    \"time_period_end\": \"2021-11-08T00:00:00.0000000Z\",\\n    \"time_open\": \"2021-11-07T00:03:14.2940000Z\",\\n    \"time_close\": \"2021-11-07T23:59:17.1820000Z\",\\n    \"price_open\": 587.910000000,\\n    \"price_high\": 600.410000000,\\n    \"price_low\": 586.730000000,\\n    \"price_close\": 600.410000000,\\n    \"volume_traded\": 1539.256763130,\\n    \"trades_count\": 1042\\n  },\\n  {\\n    \"time_period_start\": \"2021-11-06T00:00:00.0000000Z\",\\n    \"time_period_end\": \"2021-11-07T00:00:00.0000000Z\",\\n    \"time_open\": \"2021-11-06T00:02:06.2170000Z\",\\n    \"time_close\": \"2021-11-06T23:59:20.1540000Z\",\\n    \"price_open\": 598.010000000,\\n    \"price_high\": 603.130000000,\\n    \"price_low\": 577.290000000,\\n    \"price_close\": 587.880000000,\\n    \"volume_traded\": 2762.249704320,\\n    \"trades_count\": 1691\\n  },\\n  {\\n    \"time_period_start\": \"2021-11-05T00:00:00.0000000Z\",\\n    \"time_period_end\": \"2021-11-06T00:00:00.0000000Z\",\\n    \"time_open\": \"2021-11-05T00:00:11.4210000Z\",\\n    \"time_close\": \"2021-11-05T23:57:53.5030000Z\",\\n    \"price_open\": 596.050000000,\\n    \"price_high\": 633.000000000,\\n    \"price_low\": 592.460000000,\\n    \"price_close\": 598.680000000,\\n    \"volume_traded\": 6758.023436260,\\n    \"trades_count\": 3640\\n  },\\n  {\\n    \"time_period_start\": \"2021-11-04T00:00:00.0000000Z\",\\n    \"time_period_end\": \"2021-11-05T00:00:00.0000000Z\",\\n    \"time_open\": \"2021-11-04T00:03:08.9370000Z\",\\n    \"time_close\": \"2021-11-04T23:59:57.9700000Z\",\\n    \"price_open\": 611.930000000,\\n    \"price_high\": 613.280000000,\\n    \"price_low\": 587.340000000,\\n    \"price_close\": 596.050000000,\\n    \"volume_traded\": 3235.513789020,\\n    \"trades_count\": 1979\\n  },\\n  {\\n    \"time_period_start\": \"2021-11-03T00:00:00.0000000Z\",\\n    \"time_period_end\": \"2021-11-04T00:00:00.0000000Z\",\\n    \"time_open\": \"2021-11-03T00:00:22.5020000Z\",\\n    \"time_close\": \"2021-11-03T23:58:03.9320000Z\",\\n    \"price_open\": 599.610000000,\\n    \"price_high\": 619.500000000,\\n    \"price_low\": 589.330000000,\\n    \"price_close\": 610.870000000,\\n    \"volume_traded\": 4734.665418210,\\n    \"trades_count\": 2505\\n  },\\n  {\\n    \"time_period_start\": \"2021-11-02T00:00:00.0000000Z\",\\n    \"time_period_end\": \"2021-11-03T00:00:00.0000000Z\",\\n    \"time_open\": \"2021-11-02T00:00:04.3780000Z\",\\n    \"time_close\": \"2021-11-02T23:59:57.0300000Z\",\\n    \"price_open\": 587.590000000,\\n    \"price_high\": 608.390000000,\\n    \"price_low\": 582.810000000,\\n    \"price_close\": 598.660000000,\\n    \"volume_traded\": 4773.357039110,\\n    \"trades_count\": 1989\\n  },\\n  {\\n    \"time_period_start\": \"2021-11-01T00:00:00.0000000Z\",\\n    \"time_period_end\": \"2021-11-02T00:00:00.0000000Z\",\\n    \"time_open\": \"2021-11-01T00:02:37.0010000Z\",\\n    \"time_close\": \"2021-11-01T23:59:13.5020000Z\",\\n    \"price_open\": 596.130000000,\\n    \"price_high\": 600.000000000,\\n    \"price_low\": 579.930000000,\\n    \"price_close\": 587.470000000,\\n    \"volume_traded\": 5770.798567330,\\n    \"trades_count\": 2250\\n  },\\n  {\\n    \"time_period_start\": \"2021-10-31T00:00:00.0000000Z\",\\n    \"time_period_end\": \"2021-11-01T00:00:00.0000000Z\",\\n    \"time_open\": \"2021-10-31T00:00:14.0500000Z\",\\n    \"time_close\": \"2021-10-31T23:57:26.2050000Z\",\\n    \"price_open\": 585.710000000,\\n    \"price_high\": 604.570000000,\\n    \"price_low\": 574.200000000,\\n    \"price_close\": 596.780000000,\\n    \"volume_traded\": 5965.100403650,\\n    \"trades_count\": 2213\\n  },\\n  {\\n    \"time_period_start\": \"2021-10-30T00:00:00.0000000Z\",\\n    \"time_period_end\": \"2021-10-31T00:00:00.0000000Z\",\\n    \"time_open\": \"2021-10-30T00:00:45.1370000Z\",\\n    \"time_close\": \"2021-10-30T23:59:52.9660000Z\",\\n    \"price_open\": 595.540000000,\\n    \"price_high\": 601.400000000,\\n    \"price_low\": 576.520000000,\\n    \"price_close\": 585.450000000,\\n    \"volume_traded\": 4054.295798610,\\n    \"trades_count\": 1955\\n  },\\n  {\\n    \"time_period_start\": \"2021-10-29T00:00:00.0000000Z\",\\n    \"time_period_end\": \"2021-10-30T00:00:00.0000000Z\",\\n    \"time_open\": \"2021-10-29T00:03:07.9920000Z\",\\n    \"time_close\": \"2021-10-29T23:56:11.2840000Z\",\\n    \"price_open\": 579.950000000,\\n    \"price_high\": 596.800000000,\\n    \"price_low\": 573.900000000,\\n    \"price_close\": 593.270000000,\\n    \"volume_traded\": 4281.175225920,\\n    \"trades_count\": 2174\\n  },\\n  {\\n    \"time_period_start\": \"2021-10-28T00:00:00.0000000Z\",\\n    \"time_period_end\": \"2021-10-29T00:00:00.0000000Z\",\\n    \"time_open\": \"2021-10-28T00:00:16.6230000Z\",\\n    \"time_close\": \"2021-10-28T23:53:32.1630000Z\",\\n    \"price_open\": 548.920000000,\\n    \"price_high\": 591.970000000,\\n    \"price_low\": 544.950000000,\\n    \"price_close\": 578.840000000,\\n    \"volume_traded\": 9357.249139520,\\n    \"trades_count\": 3399\\n  },\\n  {\\n    \"time_period_start\": \"2021-10-27T00:00:00.0000000Z\",\\n    \"time_period_end\": \"2021-10-28T00:00:00.0000000Z\",\\n    \"time_open\": \"2021-10-27T00:01:34.0120000Z\",\\n    \"time_close\": \"2021-10-27T23:59:58.5380000Z\",\\n    \"price_open\": 611.990000000,\\n    \"price_high\": 619.080000000,\\n    \"price_low\": 533.800000000,\\n    \"price_close\": 548.600000000,\\n    \"volume_traded\": 11143.452451240,\\n    \"trades_count\": 5066\\n  },\\n  {\\n    \"time_period_start\": \"2021-10-26T00:00:00.0000000Z\",\\n    \"time_period_end\": \"2021-10-27T00:00:00.0000000Z\",\\n    \"time_open\": \"2021-10-26T00:00:22.9380000Z\",\\n    \"time_close\": \"2021-10-26T23:59:02.7990000Z\",\\n    \"price_open\": 621.690000000,\\n    \"price_high\": 633.070000000,\\n    \"price_low\": 599.450000000,\\n    \"price_close\": 611.290000000,\\n    \"volume_traded\": 6656.055142640,\\n    \"trades_count\": 3050\\n  },\\n  {\\n    \"time_period_start\": \"2021-10-25T00:00:00.0000000Z\",\\n    \"time_period_end\": \"2021-10-26T00:00:00.0000000Z\",\\n    \"time_open\": \"2021-10-25T00:00:16.9930000Z\",\\n    \"time_close\": \"2021-10-25T23:59:44.5120000Z\",\\n    \"price_open\": 617.330000000,\\n    \"price_high\": 628.350000000,\\n    \"price_low\": 614.770000000,\\n    \"price_close\": 621.360000000,\\n    \"volume_traded\": 4835.913104310,\\n    \"trades_count\": 2470\\n  },\\n  {\\n    \"time_period_start\": \"2021-10-24T00:00:00.0000000Z\",\\n    \"time_period_end\": \"2021-10-25T00:00:00.0000000Z\",\\n    \"time_open\": \"2021-10-24T00:00:05.7650000Z\",\\n    \"time_close\": \"2021-10-24T23:58:09.1890000Z\",\\n    \"price_open\": 629.360000000,\\n    \"price_high\": 633.220000000,\\n    \"price_low\": 605.770000000,\\n    \"price_close\": 617.510000000,\\n    \"volume_traded\": 3283.470083730,\\n    \"trades_count\": 2019\\n  },\\n  {\\n    \"time_period_start\": \"2021-10-23T00:00:00.0000000Z\",\\n    \"time_period_end\": \"2021-10-24T00:00:00.0000000Z\",\\n    \"time_open\": \"2021-10-23T00:01:11.6920000Z\",\\n    \"time_close\": \"2021-10-23T23:58:21.3840000Z\",\\n    \"price_open\": 624.130000000,\\n    \"price_high\": 638.180000000,\\n    \"price_low\": 614.250000000,\\n    \"price_close\": 629.210000000,\\n    \"volume_traded\": 5473.036825170,\\n    \"trades_count\": 2946\\n  },\\n  {\\n    \"time_period_start\": \"2021-10-22T00:00:00.0000000Z\",\\n    \"time_period_end\": \"2021-10-23T00:00:00.0000000Z\",\\n    \"time_open\": \"2021-10-22T00:01:35.9030000Z\",\\n    \"time_close\": \"2021-10-22T23:58:12.6590000Z\",\\n    \"price_open\": 623.030000000,\\n    \"price_high\": 636.960000000,\\n    \"price_low\": 612.180000000,\\n    \"price_close\": 624.170000000,\\n    \"volume_traded\": 6294.701477210,\\n    \"trades_count\": 3533\\n  },\\n  {\\n    \"time_period_start\": \"2021-10-21T00:00:00.0000000Z\",\\n    \"time_period_end\": \"2021-10-22T00:00:00.0000000Z\",\\n    \"time_open\": \"2021-10-21T00:00:17.9680000Z\",\\n    \"time_close\": \"2021-10-21T23:53:58.8200000Z\",\\n    \"price_open\": 644.880000000,\\n    \"price_high\": 655.880000000,\\n    \"price_low\": 621.440000000,\\n    \"price_close\": 625.390000000,\\n    \"volume_traded\": 11049.278576030,\\n    \"trades_count\": 5280\\n  },\\n  {\\n    \"time_period_start\": \"2021-10-20T00:00:00.0000000Z\",\\n    \"time_period_end\": \"2021-10-21T00:00:00.0000000Z\",\\n    \"time_open\": \"2021-10-20T00:01:11.5510000Z\",\\n    \"time_close\": \"2021-10-20T23:59:57.0890000Z\",\\n    \"price_open\": 618.700000000,\\n    \"price_high\": 648.900000000,\\n    \"price_low\": 605.000000000,\\n    \"price_close\": 644.720000000,\\n    \"volume_traded\": 8103.786801590,\\n    \"trades_count\": 4070\\n  },\\n  {\\n    \"time_period_start\": \"2021-10-19T00:00:00.0000000Z\",\\n    \"time_period_end\": \"2021-10-20T00:00:00.0000000Z\",\\n    \"time_open\": \"2021-10-19T00:02:56.3640000Z\",\\n    \"time_close\": \"2021-10-19T23:59:20.5930000Z\",\\n    \"price_open\": 611.280000000,\\n    \"price_high\": 624.810000000,\\n    \"price_low\": 599.810000000,\\n    \"price_close\": 618.350000000,\\n    \"volume_traded\": 4366.561768180,\\n    \"trades_count\": 2653\\n  },\\n  {\\n    \"time_period_start\": \"2021-10-18T00:00:00.0000000Z\",\\n    \"time_period_end\": \"2021-10-19T00:00:00.0000000Z\",\\n    \"time_open\": \"2021-10-18T00:01:37.3870000Z\",\\n    \"time_close\": \"2021-10-18T23:58:30.9980000Z\",\\n    \"price_open\": 611.440000000,\\n    \"price_high\": 619.020000000,\\n    \"price_low\": 598.300000000,\\n    \"price_close\": 610.800000000,\\n    \"volume_traded\": 4428.428230430,\\n    \"trades_count\": 3106\\n  },\\n  {\\n    \"time_period_start\": \"2021-10-17T00:00:00.0000000Z\",\\n    \"time_period_end\": \"2021-10-18T00:00:00.0000000Z\",\\n    \"time_open\": \"2021-10-17T00:02:25.2840000Z\",\\n    \"time_close\": \"2021-10-17T23:59:53.3750000Z\",\\n    \"price_open\": 624.230000000,\\n    \"price_high\": 628.380000000,\\n    \"price_low\": 589.520000000,\\n    \"price_close\": 612.040000000,\\n    \"volume_traded\": 8184.327872980,\\n    \"trades_count\": 3862\\n  },\\n  {\\n    \"time_period_start\": \"2021-10-16T00:00:00.0000000Z\",\\n    \"time_period_end\": \"2021-10-17T00:00:00.0000000Z\",\\n    \"time_open\": \"2021-10-16T00:00:01.3420000Z\",\\n    \"time_close\": \"2021-10-16T23:59:58.2690000Z\",\\n    \"price_open\": 625.230000000,\\n    \"price_high\": 648.900000000,\\n    \"price_low\": 623.390000000,\\n    \"price_close\": 626.040000000,\\n    \"volume_traded\": 4637.335285660,\\n    \"trades_count\": 3174\\n  },\\n  {\\n    \"time_period_start\": \"2021-10-15T00:00:00.0000000Z\",\\n    \"time_period_end\": \"2021-10-16T00:00:00.0000000Z\",\\n    \"time_open\": \"2021-10-15T00:01:40.6340000Z\",\\n    \"time_close\": \"2021-10-15T23:57:04.9070000Z\",\\n    \"price_open\": 598.170000000,\\n    \"price_high\": 636.720000000,\\n    \"price_low\": 585.700000000,\\n    \"price_close\": 625.210000000,\\n    \"volume_traded\": 15303.182937890,\\n    \"trades_count\": 6764\\n  },\\n  {\\n    \"time_period_start\": \"2021-10-14T00:00:00.0000000Z\",\\n    \"time_period_end\": \"2021-10-15T00:00:00.0000000Z\",\\n    \"time_open\": \"2021-10-14T00:00:32.8910000Z\",\\n    \"time_close\": \"2021-10-14T23:59:37.7330000Z\",\\n    \"price_open\": 594.060000000,\\n    \"price_high\": 608.510000000,\\n    \"price_low\": 590.880000000,\\n    \"price_close\": 598.700000000,\\n    \"volume_traded\": 4924.924840560,\\n    \"trades_count\": 3446\\n  },\\n  {\\n    \"time_period_start\": \"2021-10-13T00:00:00.0000000Z\",\\n    \"time_period_end\": \"2021-10-14T00:00:00.0000000Z\",\\n    \"time_open\": \"2021-10-13T00:01:14.5410000Z\",\\n    \"time_close\": \"2021-10-13T23:59:59.9350000Z\",\\n    \"price_open\": 587.550000000,\\n    \"price_high\": 594.670000000,\\n    \"price_low\": 571.660000000,\\n    \"price_close\": 593.410000000,\\n    \"volume_traded\": 5457.863016660,\\n    \"trades_count\": 3376\\n  },\\n  {\\n    \"time_period_start\": \"2021-10-12T00:00:00.0000000Z\",\\n    \"time_period_end\": \"2021-10-13T00:00:00.0000000Z\",\\n    \"time_open\": \"2021-10-12T00:03:06.0230000Z\",\\n    \"time_close\": \"2021-10-12T23:57:30.0660000Z\",\\n    \"price_open\": 598.710000000,\\n    \"price_high\": 600.880000000,\\n    \"price_low\": 568.120000000,\\n    \"price_close\": 586.470000000,\\n    \"volume_traded\": 8277.143441150,\\n    \"trades_count\": 4244\\n  },\\n  {\\n    \"time_period_start\": \"2021-10-11T00:00:00.0000000Z\",\\n    \"time_period_end\": \"2021-10-12T00:00:00.0000000Z\",\\n    \"time_open\": \"2021-10-11T00:00:02.6390000Z\",\\n    \"time_close\": \"2021-10-11T23:59:10.7930000Z\",\\n    \"price_open\": 584.960000000,\\n    \"price_high\": 618.440000000,\\n    \"price_low\": 578.000000000,\\n    \"price_close\": 601.440000000,\\n    \"volume_traded\": 5730.332826580,\\n    \"trades_count\": 3406\\n  },\\n  {\\n    \"time_period_start\": \"2021-10-10T00:00:00.0000000Z\",\\n    \"time_period_end\": \"2021-10-11T00:00:00.0000000Z\",\\n    \"time_open\": \"2021-10-10T00:00:01.3710000Z\",\\n    \"time_close\": \"2021-10-10T23:57:21.1130000Z\",\\n    \"price_open\": 615.060000000,\\n    \"price_high\": 622.920000000,\\n    \"price_low\": 583.100000000,\\n    \"price_close\": 586.020000000,\\n    \"volume_traded\": 7157.968288040,\\n    \"trades_count\": 3700\\n  },\\n  {\\n    \"time_period_start\": \"2021-10-09T00:00:00.0000000Z\",\\n    \"time_period_end\": \"2021-10-10T00:00:00.0000000Z\",\\n    \"time_open\": \"2021-10-09T00:00:11.7700000Z\",\\n    \"time_close\": \"2021-10-09T23:55:09.3520000Z\",\\n    \"price_open\": 596.600000000,\\n    \"price_high\": 624.170000000,\\n    \"price_low\": 592.350000000,\\n    \"price_close\": 615.200000000,\\n    \"volume_traded\": 5558.536176980,\\n    \"trades_count\": 2955\\n  },\\n  {\\n    \"time_period_start\": \"2021-10-08T00:00:00.0000000Z\",\\n    \"time_period_end\": \"2021-10-09T00:00:00.0000000Z\",\\n    \"time_open\": \"2021-10-08T00:00:09.8440000Z\",\\n    \"time_close\": \"2021-10-08T23:59:09.2970000Z\",\\n    \"price_open\": 611.980000000,\\n    \"price_high\": 617.500000000,\\n    \"price_low\": 588.220000000,\\n    \"price_close\": 596.260000000,\\n    \"volume_traded\": 8822.296829690,\\n    \"trades_count\": 3995\\n  },\\n  {\\n    \"time_period_start\": \"2021-10-07T00:00:00.0000000Z\",\\n    \"time_period_end\": \"2021-10-08T00:00:00.0000000Z\",\\n    \"time_open\": \"2021-10-07T00:02:03.9200000Z\",\\n    \"time_close\": \"2021-10-07T23:58:14.7960000Z\",\\n    \"price_open\": 617.080000000,\\n    \"price_high\": 635.730000000,\\n    \"price_low\": 598.100000000,\\n    \"price_close\": 612.090000000,\\n    \"volume_traded\": 9339.973274580,\\n    \"trades_count\": 4404\\n  },\\n  {\\n    \"time_period_start\": \"2021-10-06T00:00:00.0000000Z\",\\n    \"time_period_end\": \"2021-10-07T00:00:00.0000000Z\",\\n    \"time_open\": \"2021-10-06T00:00:45.5890000Z\",\\n    \"time_close\": \"2021-10-06T23:59:37.4030000Z\",\\n    \"price_open\": 594.940000000,\\n    \"price_high\": 625.400000000,\\n    \"price_low\": 562.230000000,\\n    \"price_close\": 617.220000000,\\n    \"volume_traded\": 12206.465197210,\\n    \"trades_count\": 6286\\n  },\\n  {\\n    \"time_period_start\": \"2021-10-05T00:00:00.0000000Z\",\\n    \"time_period_end\": \"2021-10-06T00:00:00.0000000Z\",\\n    \"time_open\": \"2021-10-05T00:00:07.1060000Z\",\\n    \"time_close\": \"2021-10-05T23:58:33.5060000Z\",\\n    \"price_open\": 551.170000000,\\n    \"price_high\": 600.030000000,\\n    \"price_low\": 548.990000000,\\n    \"price_close\": 593.520000000,\\n    \"volume_traded\": 7315.173649370,\\n    \"trades_count\": 3566\\n  },\\n  {\\n    \"time_period_start\": \"2021-10-04T00:00:00.0000000Z\",\\n    \"time_period_end\": \"2021-10-05T00:00:00.0000000Z\",\\n    \"time_open\": \"2021-10-04T00:00:14.6510000Z\",\\n    \"time_close\": \"2021-10-04T23:59:33.8880000Z\",\\n    \"price_open\": 571.240000000,\\n    \"price_high\": 571.240000000,\\n    \"price_low\": 531.220000000,\\n    \"price_close\": 550.930000000,\\n    \"volume_traded\": 7946.756254730,\\n    \"trades_count\": 3794\\n  },\\n  {\\n    \"time_period_start\": \"2021-10-03T00:00:00.0000000Z\",\\n    \"time_period_end\": \"2021-10-04T00:00:00.0000000Z\",\\n    \"time_open\": \"2021-10-03T00:00:09.2770000Z\",\\n    \"time_close\": \"2021-10-03T23:59:47.9580000Z\",\\n    \"price_open\": 552.080000000,\\n    \"price_high\": 579.000000000,\\n    \"price_low\": 545.850000000,\\n    \"price_close\": 571.690000000,\\n    \"volume_traded\": 5532.496406980,\\n    \"trades_count\": 2898\\n  },\\n  {\\n    \"time_period_start\": \"2021-10-02T00:00:00.0000000Z\",\\n    \"time_period_end\": \"2021-10-03T00:00:00.0000000Z\",\\n    \"time_open\": \"2021-10-02T00:00:14.5040000Z\",\\n    \"time_close\": \"2021-10-02T23:59:47.8880000Z\",\\n    \"price_open\": 543.920000000,\\n    \"price_high\": 560.320000000,\\n    \"price_low\": 536.640000000,\\n    \"price_close\": 552.300000000,\\n    \"volume_traded\": 3540.611265810,\\n    \"trades_count\": 2267\\n  },\\n  {\\n    \"time_period_start\": \"2021-10-01T00:00:00.0000000Z\",\\n    \"time_period_end\": \"2021-10-02T00:00:00.0000000Z\",\\n    \"time_open\": \"2021-10-01T00:01:38.2660000Z\",\\n    \"time_close\": \"2021-10-01T23:59:44.0600000Z\",\\n    \"price_open\": 502.150000000,\\n    \"price_high\": 544.690000000,\\n    \"price_low\": 500.660000000,\\n    \"price_close\": 543.740000000,\\n    \"volume_traded\": 9375.232887270,\\n    \"trades_count\": 4367\\n  },\\n  {\\n    \"time_period_start\": \"2021-09-30T00:00:00.0000000Z\",\\n    \"time_period_end\": \"2021-10-01T00:00:00.0000000Z\",\\n    \"time_open\": \"2021-09-30T00:00:12.5820000Z\",\\n    \"time_close\": \"2021-09-30T23:59:49.4610000Z\",\\n    \"price_open\": 484.960000000,\\n    \"price_high\": 506.090000000,\\n    \"price_low\": 482.150000000,\\n    \"price_close\": 502.830000000,\\n    \"volume_traded\": 8863.500049780,\\n    \"trades_count\": 4174\\n  },\\n  {\\n    \"time_period_start\": \"2021-09-29T00:00:00.0000000Z\",\\n    \"time_period_end\": \"2021-09-30T00:00:00.0000000Z\",\\n    \"time_open\": \"2021-09-29T00:00:10.0960000Z\",\\n    \"time_close\": \"2021-09-29T23:59:09.3970000Z\",\\n    \"price_open\": 474.000000000,\\n    \"price_high\": 498.180000000,\\n    \"price_low\": 471.380000000,\\n    \"price_close\": 485.380000000,\\n    \"volume_traded\": 13860.808353580,\\n    \"trades_count\": 8091\\n  },\\n  {\\n    \"time_period_start\": \"2021-09-28T00:00:00.0000000Z\",\\n    \"time_period_end\": \"2021-09-29T00:00:00.0000000Z\",\\n    \"time_open\": \"2021-09-28T00:00:42.6240000Z\",\\n    \"time_close\": \"2021-09-28T23:59:53.5620000Z\",\\n    \"price_open\": 487.780000000,\\n    \"price_high\": 499.060000000,\\n    \"price_low\": 472.760000000,\\n    \"price_close\": 474.440000000,\\n    \"volume_traded\": 15361.878598940,\\n    \"trades_count\": 10076\\n  },\\n  {\\n    \"time_period_start\": \"2021-09-27T00:00:00.0000000Z\",\\n    \"time_period_end\": \"2021-09-28T00:00:00.0000000Z\",\\n    \"time_open\": \"2021-09-27T00:00:11.9460000Z\",\\n    \"time_close\": \"2021-09-27T23:59:18.8860000Z\",\\n    \"price_open\": 503.610000000,\\n    \"price_high\": 515.620000000,\\n    \"price_low\": 487.870000000,\\n    \"price_close\": 488.260000000,\\n    \"volume_traded\": 12815.055059750,\\n    \"trades_count\": 8150\\n  },\\n  {\\n    \"time_period_start\": \"2021-09-26T00:00:00.0000000Z\",\\n    \"time_period_end\": \"2021-09-27T00:00:00.0000000Z\",\\n    \"time_open\": \"2021-09-26T00:01:24.4150000Z\",\\n    \"time_close\": \"2021-09-26T23:59:48.3370000Z\",\\n    \"price_open\": 516.540000000,\\n    \"price_high\": 520.410000000,\\n    \"price_low\": 480.960000000,\\n    \"price_close\": 504.030000000,\\n    \"volume_traded\": 9685.422644000,\\n    \"trades_count\": 6687\\n  },\\n  {\\n    \"time_period_start\": \"2021-09-25T00:00:00.0000000Z\",\\n    \"time_period_end\": \"2021-09-26T00:00:00.0000000Z\",\\n    \"time_open\": \"2021-09-25T00:00:29.4810000Z\",\\n    \"time_close\": \"2021-09-25T23:57:46.2600000Z\",\\n    \"price_open\": 513.930000000,\\n    \"price_high\": 523.030000000,\\n    \"price_low\": 502.160000000,\\n    \"price_close\": 517.200000000,\\n    \"volume_traded\": 14243.924277190,\\n    \"trades_count\": 9277\\n  },\\n  {\\n    \"time_period_start\": \"2021-09-24T00:00:00.0000000Z\",\\n    \"time_period_end\": \"2021-09-25T00:00:00.0000000Z\",\\n    \"time_open\": \"2021-09-24T00:00:04.7910000Z\",\\n    \"time_close\": \"2021-09-24T23:59:59.5770000Z\",\\n    \"price_open\": 552.780000000,\\n    \"price_high\": 556.530000000,\\n    \"price_low\": 479.510000000,\\n    \"price_close\": 513.510000000,\\n    \"volume_traded\": 20862.626937010,\\n    \"trades_count\": 10376\\n  },\\n  {\\n    \"time_period_start\": \"2021-09-23T00:00:00.0000000Z\",\\n    \"time_period_end\": \"2021-09-24T00:00:00.0000000Z\",\\n    \"time_open\": \"2021-09-23T00:00:57.3650000Z\",\\n    \"time_close\": \"2021-09-23T23:59:21.9720000Z\",\\n    \"price_open\": 547.550000000,\\n    \"price_high\": 553.970000000,\\n    \"price_low\": 532.460000000,\\n    \"price_close\": 552.720000000,\\n    \"volume_traded\": 12100.122790780,\\n    \"trades_count\": 7703\\n  },\\n  {\\n    \"time_period_start\": \"2021-09-22T00:00:00.0000000Z\",\\n    \"time_period_end\": \"2021-09-23T00:00:00.0000000Z\",\\n    \"time_open\": \"2021-09-22T00:00:01.4220000Z\",\\n    \"time_close\": \"2021-09-22T23:59:51.8360000Z\",\\n    \"price_open\": 504.910000000,\\n    \"price_high\": 548.250000000,\\n    \"price_low\": 496.420000000,\\n    \"price_close\": 547.910000000,\\n    \"volume_traded\": 18201.262123620,\\n    \"trades_count\": 9527\\n  },\\n  {\\n    \"time_period_start\": \"2021-09-21T00:00:00.0000000Z\",\\n    \"time_period_end\": \"2021-09-22T00:00:00.0000000Z\",\\n    \"time_open\": \"2021-09-21T00:00:08.0360000Z\",\\n    \"time_close\": \"2021-09-21T23:59:56.4010000Z\",\\n    \"price_open\": 542.480000000,\\n    \"price_high\": 552.400000000,\\n    \"price_low\": 497.330000000,\\n    \"price_close\": 504.720000000,\\n    \"volume_traded\": 24597.576682460,\\n    \"trades_count\": 13183\\n  },\\n  {\\n    \"time_period_start\": \"2021-09-20T00:00:00.0000000Z\",\\n    \"time_period_end\": \"2021-09-21T00:00:00.0000000Z\",\\n    \"time_open\": \"2021-09-20T00:00:16.9940000Z\",\\n    \"time_close\": \"2021-09-20T23:59:59.7870000Z\",\\n    \"price_open\": 609.260000000,\\n    \"price_high\": 609.260000000,\\n    \"price_low\": 530.000000000,\\n    \"price_close\": 542.660000000,\\n    \"volume_traded\": 26509.731884610,\\n    \"trades_count\": 12654\\n  },\\n  {\\n    \"time_period_start\": \"2021-09-19T00:00:00.0000000Z\",\\n    \"time_period_end\": \"2021-09-20T00:00:00.0000000Z\",\\n    \"time_open\": \"2021-09-19T00:00:19.5400000Z\",\\n    \"time_close\": \"2021-09-19T23:59:48.3740000Z\",\\n    \"price_open\": 630.760000000,\\n    \"price_high\": 647.550000000,\\n    \"price_low\": 602.370000000,\\n    \"price_close\": 609.040000000,\\n    \"volume_traded\": 10178.562767990,\\n    \"trades_count\": 5965\\n  },\\n  {\\n    \"time_period_start\": \"2021-09-18T00:00:00.0000000Z\",\\n    \"time_period_end\": \"2021-09-19T00:00:00.0000000Z\",\\n    \"time_open\": \"2021-09-18T00:00:19.4230000Z\",\\n    \"time_close\": \"2021-09-18T23:59:14.8820000Z\",\\n    \"price_open\": 621.290000000,\\n    \"price_high\": 638.540000000,\\n    \"price_low\": 614.750000000,\\n    \"price_close\": 631.480000000,\\n    \"volume_traded\": 12627.351860860,\\n    \"trades_count\": 7832\\n  },\\n  {\\n    \"time_period_start\": \"2021-09-17T00:00:00.0000000Z\",\\n    \"time_period_end\": \"2021-09-18T00:00:00.0000000Z\",\\n    \"time_open\": \"2021-09-17T00:00:11.3300000Z\",\\n    \"time_close\": \"2021-09-17T23:59:56.0530000Z\",\\n    \"price_open\": 639.210000000,\\n    \"price_high\": 647.740000000,\\n    \"price_low\": 613.330000000,\\n    \"price_close\": 621.430000000,\\n    \"volume_traded\": 14069.213807950,\\n    \"trades_count\": 8608\\n  },\\n  {\\n    \"time_period_start\": \"2021-09-16T00:00:00.0000000Z\",\\n    \"time_period_end\": \"2021-09-17T00:00:00.0000000Z\",\\n    \"time_open\": \"2021-09-16T00:00:12.5640000Z\",\\n    \"time_close\": \"2021-09-16T23:59:59.6800000Z\",\\n    \"price_open\": 653.270000000,\\n    \"price_high\": 655.430000000,\\n    \"price_low\": 626.330000000,\\n    \"price_close\": 639.210000000,\\n    \"volume_traded\": 14652.392499180,\\n    \"trades_count\": 9022\\n  },\\n  {\\n    \"time_period_start\": \"2021-09-15T00:00:00.0000000Z\",\\n    \"time_period_end\": \"2021-09-16T00:00:00.0000000Z\",\\n    \"time_open\": \"2021-09-15T00:00:02.6950000Z\",\\n    \"time_close\": \"2021-09-15T23:59:40.4890000Z\",\\n    \"price_open\": 640.940000000,\\n    \"price_high\": 657.180000000,\\n    \"price_low\": 632.280000000,\\n    \"price_close\": 652.690000000,\\n    \"volume_traded\": 8439.992985820,\\n    \"trades_count\": 5686\\n  },\\n  {\\n    \"time_period_start\": \"2021-09-14T00:00:00.0000000Z\",\\n    \"time_period_end\": \"2021-09-15T00:00:00.0000000Z\",\\n    \"time_open\": \"2021-09-14T00:00:10.7150000Z\",\\n    \"time_close\": \"2021-09-14T23:59:37.4900000Z\",\\n    \"price_open\": 614.500000000,\\n    \"price_high\": 642.910000000,\\n    \"price_low\": 608.850000000,\\n    \"price_close\": 640.320000000,\\n    \"volume_traded\": 9051.680447190,\\n    \"trades_count\": 5546\\n  },\\n  {\\n    \"time_period_start\": \"2021-09-13T00:00:00.0000000Z\",\\n    \"time_period_end\": \"2021-09-14T00:00:00.0000000Z\",\\n    \"time_open\": \"2021-09-13T00:01:49.1240000Z\",\\n    \"time_close\": \"2021-09-13T23:58:12.5490000Z\",\\n    \"price_open\": 647.320000000,\\n    \"price_high\": 661.250000000,\\n    \"price_low\": 590.770000000,\\n    \"price_close\": 614.400000000,\\n    \"volume_traded\": 19211.244056680,\\n    \"trades_count\": 7936\\n  },\\n  {\\n    \"time_period_start\": \"2021-09-12T00:00:00.0000000Z\",\\n    \"time_period_end\": \"2021-09-13T00:00:00.0000000Z\",\\n    \"time_open\": \"2021-09-12T00:00:17.5510000Z\",\\n    \"time_close\": \"2021-09-12T23:58:07.8730000Z\",\\n    \"price_open\": 636.230000000,\\n    \"price_high\": 655.330000000,\\n    \"price_low\": 623.420000000,\\n    \"price_close\": 647.120000000,\\n    \"volume_traded\": 9187.561419840,\\n    \"trades_count\": 4741\\n  },\\n  {\\n    \"time_period_start\": \"2021-09-11T00:00:00.0000000Z\",\\n    \"time_period_end\": \"2021-09-12T00:00:00.0000000Z\",\\n    \"time_open\": \"2021-09-11T00:00:10.4760000Z\",\\n    \"time_close\": \"2021-09-11T23:58:25.2110000Z\",\\n    \"price_open\": 628.660000000,\\n    \"price_high\": 648.070000000,\\n    \"price_low\": 625.910000000,\\n    \"price_close\": 636.370000000,\\n    \"volume_traded\": 7361.014133670,\\n    \"trades_count\": 4516\\n  },\\n  {\\n    \"time_period_start\": \"2021-09-10T00:00:00.0000000Z\",\\n    \"time_period_end\": \"2021-09-11T00:00:00.0000000Z\",\\n    \"time_open\": \"2021-09-10T00:00:17.1390000Z\",\\n    \"time_close\": \"2021-09-10T23:59:47.0910000Z\",\\n    \"price_open\": 661.030000000,\\n    \"price_high\": 674.070000000,\\n    \"price_low\": 618.100000000,\\n    \"price_close\": 628.590000000,\\n    \"volume_traded\": 16749.738554760,\\n    \"trades_count\": 7185\\n  },\\n  {\\n    \"time_period_start\": \"2021-09-09T00:00:00.0000000Z\",\\n    \"time_period_end\": \"2021-09-10T00:00:00.0000000Z\",\\n    \"time_open\": \"2021-09-09T00:00:33.7090000Z\",\\n    \"time_close\": \"2021-09-09T23:55:35.3530000Z\",\\n    \"price_open\": 662.460000000,\\n    \"price_high\": 673.400000000,\\n    \"price_low\": 655.870000000,\\n    \"price_close\": 660.440000000,\\n    \"volume_traded\": 14802.948002580,\\n    \"trades_count\": 7322\\n  },\\n  {\\n    \"time_period_start\": \"2021-09-08T00:00:00.0000000Z\",\\n    \"time_period_end\": \"2021-09-09T00:00:00.0000000Z\",\\n    \"time_open\": \"2021-09-08T00:01:00.1480000Z\",\\n    \"time_close\": \"2021-09-08T23:57:40.0450000Z\",\\n    \"price_open\": 675.170000000,\\n    \"price_high\": 680.000000000,\\n    \"price_low\": 644.550000000,\\n    \"price_close\": 661.190000000,\\n    \"volume_traded\": 15063.899877280,\\n    \"trades_count\": 7565\\n  },\\n  {\\n    \"time_period_start\": \"2021-09-07T00:00:00.0000000Z\",\\n    \"time_period_end\": \"2021-09-08T00:00:00.0000000Z\",\\n    \"time_open\": \"2021-09-07T00:01:19.5830000Z\",\\n    \"time_close\": \"2021-09-07T23:59:27.5570000Z\",\\n    \"price_open\": 784.690000000,\\n    \"price_high\": 788.130000000,\\n    \"price_low\": 586.000000000,\\n    \"price_close\": 672.450000000,\\n    \"volume_traded\": 37206.734180260,\\n    \"trades_count\": 14290\\n  },\\n  {\\n    \"time_period_start\": \"2021-09-06T00:00:00.0000000Z\",\\n    \"time_period_end\": \"2021-09-07T00:00:00.0000000Z\",\\n    \"time_open\": \"2021-09-06T00:00:30.6780000Z\",\\n    \"time_close\": \"2021-09-06T23:57:24.7930000Z\",\\n    \"price_open\": 765.040000000,\\n    \"price_high\": 803.780000000,\\n    \"price_low\": 742.110000000,\\n    \"price_close\": 785.000000000,\\n    \"volume_traded\": 13385.858289280,\\n    \"trades_count\": 6564\\n  },\\n  {\\n    \"time_period_start\": \"2021-09-05T00:00:00.0000000Z\",\\n    \"time_period_end\": \"2021-09-06T00:00:00.0000000Z\",\\n    \"time_open\": \"2021-09-05T00:00:22.0410000Z\",\\n    \"time_close\": \"2021-09-05T23:58:46.2040000Z\",\\n    \"price_open\": 709.990000000,\\n    \"price_high\": 767.300000000,\\n    \"price_low\": 698.780000000,\\n    \"price_close\": 764.120000000,\\n    \"volume_traded\": 10632.209915740,\\n    \"trades_count\": 4880\\n  },\\n  {\\n    \"time_period_start\": \"2021-09-04T00:00:00.0000000Z\",\\n    \"time_period_end\": \"2021-09-05T00:00:00.0000000Z\",\\n    \"time_open\": \"2021-09-04T00:00:17.6270000Z\",\\n    \"time_close\": \"2021-09-04T23:59:32.8880000Z\",\\n    \"price_open\": 713.520000000,\\n    \"price_high\": 734.670000000,\\n    \"price_low\": 697.410000000,\\n    \"price_close\": 709.150000000,\\n    \"volume_traded\": 10129.466941180,\\n    \"trades_count\": 5915\\n  },\\n  {\\n    \"time_period_start\": \"2021-09-03T00:00:00.0000000Z\",\\n    \"time_period_end\": \"2021-09-04T00:00:00.0000000Z\",\\n    \"time_open\": \"2021-09-03T00:00:28.0150000Z\",\\n    \"time_close\": \"2021-09-03T23:58:56.6480000Z\",\\n    \"price_open\": 664.940000000,\\n    \"price_high\": 721.140000000,\\n    \"price_low\": 651.340000000,\\n    \"price_close\": 713.340000000,\\n    \"volume_traded\": 13264.999688390,\\n    \"trades_count\": 7151\\n  },\\n  {\\n    \"time_period_start\": \"2021-09-02T00:00:00.0000000Z\",\\n    \"time_period_end\": \"2021-09-03T00:00:00.0000000Z\",\\n    \"time_open\": \"2021-09-02T00:00:56.9070000Z\",\\n    \"time_close\": \"2021-09-02T23:58:32.6900000Z\",\\n    \"price_open\": 656.170000000,\\n    \"price_high\": 674.150000000,\\n    \"price_low\": 653.190000000,\\n    \"price_close\": 664.870000000,\\n    \"volume_traded\": 8482.546965750,\\n    \"trades_count\": 4595\\n  },\\n  {\\n    \"time_period_start\": \"2021-09-01T00:00:00.0000000Z\",\\n    \"time_period_end\": \"2021-09-02T00:00:00.0000000Z\",\\n    \"time_open\": \"2021-09-01T00:00:01.8050000Z\",\\n    \"time_close\": \"2021-09-01T23:59:43.2650000Z\",\\n    \"price_open\": 636.770000000,\\n    \"price_high\": 657.290000000,\\n    \"price_low\": 625.600000000,\\n    \"price_close\": 656.500000000,\\n    \"volume_traded\": 9549.243239760,\\n    \"trades_count\": 5964\\n  },\\n  {\\n    \"time_period_start\": \"2021-08-31T00:00:00.0000000Z\",\\n    \"time_period_end\": \"2021-09-01T00:00:00.0000000Z\",\\n    \"time_open\": \"2021-08-31T00:00:05.4420000Z\",\\n    \"time_close\": \"2021-08-31T23:56:54.7730000Z\",\\n    \"price_open\": 632.820000000,\\n    \"price_high\": 651.470000000,\\n    \"price_low\": 624.620000000,\\n    \"price_close\": 637.110000000,\\n    \"volume_traded\": 9572.242598850,\\n    \"trades_count\": 6234\\n  },\\n  {\\n    \"time_period_start\": \"2021-08-30T00:00:00.0000000Z\",\\n    \"time_period_end\": \"2021-08-31T00:00:00.0000000Z\",\\n    \"time_open\": \"2021-08-30T00:00:13.5230000Z\",\\n    \"time_close\": \"2021-08-30T23:59:28.8690000Z\",\\n    \"price_open\": 659.840000000,\\n    \"price_high\": 665.120000000,\\n    \"price_low\": 630.390000000,\\n    \"price_close\": 632.220000000,\\n    \"volume_traded\": 11698.504537950,\\n    \"trades_count\": 7371\\n  },\\n  {\\n    \"time_period_start\": \"2021-08-29T00:00:00.0000000Z\",\\n    \"time_period_end\": \"2021-08-30T00:00:00.0000000Z\",\\n    \"time_open\": \"2021-08-29T00:00:03.6090000Z\",\\n    \"time_close\": \"2021-08-29T23:59:44.4940000Z\",\\n    \"price_open\": 647.220000000,\\n    \"price_high\": 692.570000000,\\n    \"price_low\": 647.220000000,\\n    \"price_close\": 659.560000000,\\n    \"volume_traded\": 14255.160242930,\\n    \"trades_count\": 8521\\n  },\\n  {\\n    \"time_period_start\": \"2021-08-28T00:00:00.0000000Z\",\\n    \"time_period_end\": \"2021-08-29T00:00:00.0000000Z\",\\n    \"time_open\": \"2021-08-28T00:01:01.7070000Z\",\\n    \"time_close\": \"2021-08-28T23:57:45.4500000Z\",\\n    \"price_open\": 635.270000000,\\n    \"price_high\": 647.130000000,\\n    \"price_low\": 622.940000000,\\n    \"price_close\": 646.210000000,\\n    \"volume_traded\": 6872.144900280,\\n    \"trades_count\": 5142\\n  },\\n  {\\n    \"time_period_start\": \"2021-08-27T00:00:00.0000000Z\",\\n    \"time_period_end\": \"2021-08-28T00:00:00.0000000Z\",\\n    \"time_open\": \"2021-08-27T00:00:10.3420000Z\",\\n    \"time_close\": \"2021-08-27T23:59:35.9640000Z\",\\n    \"price_open\": 606.480000000,\\n    \"price_high\": 637.070000000,\\n    \"price_low\": 596.820000000,\\n    \"price_close\": 636.240000000,\\n    \"volume_traded\": 13759.494654150,\\n    \"trades_count\": 8707\\n  },\\n  {\\n    \"time_period_start\": \"2021-08-26T00:00:00.0000000Z\",\\n    \"time_period_end\": \"2021-08-27T00:00:00.0000000Z\",\\n    \"time_open\": \"2021-08-26T00:00:03.6140000Z\",\\n    \"time_close\": \"2021-08-26T23:59:53.0650000Z\",\\n    \"price_open\": 650.860000000,\\n    \"price_high\": 656.670000000,\\n    \"price_low\": 605.000000000,\\n    \"price_close\": 606.850000000,\\n    \"volume_traded\": 12295.402898570,\\n    \"trades_count\": 5033\\n  },\\n  {\\n    \"time_period_start\": \"2021-08-25T00:00:00.0000000Z\",\\n    \"time_period_end\": \"2021-08-26T00:00:00.0000000Z\",\\n    \"time_open\": \"2021-08-25T00:00:08.8690000Z\",\\n    \"time_close\": \"2021-08-25T23:59:45.0910000Z\",\\n    \"price_open\": 636.220000000,\\n    \"price_high\": 659.230000000,\\n    \"price_low\": 626.840000000,\\n    \"price_close\": 651.020000000,\\n    \"volume_traded\": 15118.228532330,\\n    \"trades_count\": 6191\\n  },\\n  {\\n    \"time_period_start\": \"2021-08-24T00:00:00.0000000Z\",\\n    \"time_period_end\": \"2021-08-25T00:00:00.0000000Z\",\\n    \"time_open\": \"2021-08-24T00:01:49.0590000Z\",\\n    \"time_close\": \"2021-08-24T23:57:56.6370000Z\",\\n    \"price_open\": 678.320000000,\\n    \"price_high\": 682.840000000,\\n    \"price_low\": 633.440000000,\\n    \"price_close\": 637.790000000,\\n    \"volume_traded\": 10336.388321350,\\n    \"trades_count\": 4940\\n  },\\n  {\\n    \"time_period_start\": \"2021-08-23T00:00:00.0000000Z\",\\n    \"time_period_end\": \"2021-08-24T00:00:00.0000000Z\",\\n    \"time_open\": \"2021-08-23T00:00:02.7320000Z\",\\n    \"time_close\": \"2021-08-23T23:59:38.7790000Z\",\\n    \"price_open\": 672.980000000,\\n    \"price_high\": 695.000000000,\\n    \"price_low\": 664.650000000,\\n    \"price_close\": 678.920000000,\\n    \"volume_traded\": 10742.017175420,\\n    \"trades_count\": 5296\\n  },\\n  {\\n    \"time_period_start\": \"2021-08-22T00:00:00.0000000Z\",\\n    \"time_period_end\": \"2021-08-23T00:00:00.0000000Z\",\\n    \"time_open\": \"2021-08-22T00:00:18.6360000Z\",\\n    \"time_close\": \"2021-08-22T23:59:58.5770000Z\",\\n    \"price_open\": 676.600000000,\\n    \"price_high\": 690.080000000,\\n    \"price_low\": 653.140000000,\\n    \"price_close\": 672.560000000,\\n    \"volume_traded\": 8572.351581960,\\n    \"trades_count\": 4535\\n  },\\n  {\\n    \"time_period_start\": \"2021-08-21T00:00:00.0000000Z\",\\n    \"time_period_end\": \"2021-08-22T00:00:00.0000000Z\",\\n    \"time_open\": \"2021-08-21T00:00:59.0730000Z\",\\n    \"time_close\": \"2021-08-21T23:59:55.2760000Z\",\\n    \"price_open\": 693.260000000,\\n    \"price_high\": 700.380000000,\\n    \"price_low\": 672.490000000,\\n    \"price_close\": 676.380000000,\\n    \"volume_traded\": 9566.742873270,\\n    \"trades_count\": 4596\\n  },\\n  {\\n    \"time_period_start\": \"2021-08-20T00:00:00.0000000Z\",\\n    \"time_period_end\": \"2021-08-21T00:00:00.0000000Z\",\\n    \"time_open\": \"2021-08-20T00:01:01.7180000Z\",\\n    \"time_close\": \"2021-08-20T23:56:50.3030000Z\",\\n    \"price_open\": 659.760000000,\\n    \"price_high\": 700.770000000,\\n    \"price_low\": 653.230000000,\\n    \"price_close\": 693.400000000,\\n    \"volume_traded\": 10088.577517760,\\n    \"trades_count\": 5054\\n  },\\n  {\\n    \"time_period_start\": \"2021-08-19T00:00:00.0000000Z\",\\n    \"time_period_end\": \"2021-08-20T00:00:00.0000000Z\",\\n    \"time_open\": \"2021-08-19T00:01:56.4400000Z\",\\n    \"time_close\": \"2021-08-19T23:59:12.7760000Z\",\\n    \"price_open\": 633.950000000,\\n    \"price_high\": 660.720000000,\\n    \"price_low\": 619.620000000,\\n    \"price_close\": 660.720000000,\\n    \"volume_traded\": 8142.973314040,\\n    \"trades_count\": 3996\\n  },\\n  {\\n    \"time_period_start\": \"2021-08-18T00:00:00.0000000Z\",\\n    \"time_period_end\": \"2021-08-19T00:00:00.0000000Z\",\\n    \"time_open\": \"2021-08-18T00:00:16.2010000Z\",\\n    \"time_close\": \"2021-08-18T23:59:27.6050000Z\",\\n    \"price_open\": 638.410000000,\\n    \"price_high\": 655.000000000,\\n    \"price_low\": 620.430000000,\\n    \"price_close\": 633.180000000,\\n    \"volume_traded\": 11163.866534200,\\n    \"trades_count\": 4341\\n  },\\n  {\\n    \"time_period_start\": \"2021-08-17T00:00:00.0000000Z\",\\n    \"time_period_end\": \"2021-08-18T00:00:00.0000000Z\",\\n    \"time_open\": \"2021-08-17T00:00:34.5440000Z\",\\n    \"time_close\": \"2021-08-17T23:59:59.7590000Z\",\\n    \"price_open\": 673.550000000,\\n    \"price_high\": 691.510000000,\\n    \"price_low\": 637.840000000,\\n    \"price_close\": 638.600000000,\\n    \"volume_traded\": 13080.191170420,\\n    \"trades_count\": 4614\\n  }\\n]'"
      ]
     },
     "execution_count": 14,
     "metadata": {},
     "output_type": "execute_result"
    }
   ],
   "source": [
    "response.text"
   ]
  },
  {
   "cell_type": "code",
   "execution_count": 15,
   "metadata": {},
   "outputs": [
    {
     "data": {
      "text/plain": [
       "[{'time_period_start': '2021-11-24T00:00:00.0000000Z',\n",
       "  'time_period_end': '2021-11-25T00:00:00.0000000Z',\n",
       "  'time_open': '2021-11-24T00:01:51.9720000Z',\n",
       "  'time_close': '2021-11-24T08:00:31.7440000Z',\n",
       "  'price_open': 571.94,\n",
       "  'price_high': 585.81,\n",
       "  'price_low': 559.01,\n",
       "  'price_close': 580.14,\n",
       "  'volume_traded': 1068.89472639,\n",
       "  'trades_count': 745},\n",
       " {'time_period_start': '2021-11-23T00:00:00.0000000Z',\n",
       "  'time_period_end': '2021-11-24T00:00:00.0000000Z',\n",
       "  'time_open': '2021-11-23T00:04:40.7570000Z',\n",
       "  'time_close': '2021-11-23T23:59:20.7720000Z',\n",
       "  'price_open': 557.13,\n",
       "  'price_high': 575.62,\n",
       "  'price_low': 546.42,\n",
       "  'price_close': 571.26,\n",
       "  'volume_traded': 2731.49316744,\n",
       "  'trades_count': 1788},\n",
       " {'time_period_start': '2021-11-22T00:00:00.0000000Z',\n",
       "  'time_period_end': '2021-11-23T00:00:00.0000000Z',\n",
       "  'time_open': '2021-11-22T00:04:18.7320000Z',\n",
       "  'time_close': '2021-11-22T23:55:36.7250000Z',\n",
       "  'price_open': 574.35,\n",
       "  'price_high': 578.36,\n",
       "  'price_low': 547.44,\n",
       "  'price_close': 558.64,\n",
       "  'volume_traded': 4880.96877623,\n",
       "  'trades_count': 3065},\n",
       " {'time_period_start': '2021-11-21T00:00:00.0000000Z',\n",
       "  'time_period_end': '2021-11-22T00:00:00.0000000Z',\n",
       "  'time_open': '2021-11-21T00:00:41.7210000Z',\n",
       "  'time_close': '2021-11-21T23:58:45.3310000Z',\n",
       "  'price_open': 585.26,\n",
       "  'price_high': 585.71,\n",
       "  'price_low': 568.94,\n",
       "  'price_close': 575.85,\n",
       "  'volume_traded': 6451.8758189,\n",
       "  'trades_count': 2666},\n",
       " {'time_period_start': '2021-11-20T00:00:00.0000000Z',\n",
       "  'time_period_end': '2021-11-21T00:00:00.0000000Z',\n",
       "  'time_open': '2021-11-20T00:00:54.2470000Z',\n",
       "  'time_close': '2021-11-20T23:56:23.3950000Z',\n",
       "  'price_open': 575.56,\n",
       "  'price_high': 588.62,\n",
       "  'price_low': 565.56,\n",
       "  'price_close': 584.77,\n",
       "  'volume_traded': 1438.31569009,\n",
       "  'trades_count': 1312},\n",
       " {'time_period_start': '2021-11-19T00:00:00.0000000Z',\n",
       "  'time_period_end': '2021-11-20T00:00:00.0000000Z',\n",
       "  'time_open': '2021-11-19T00:02:48.1610000Z',\n",
       "  'time_close': '2021-11-19T23:56:18.1060000Z',\n",
       "  'price_open': 553.9,\n",
       "  'price_high': 578.0,\n",
       "  'price_low': 548.9,\n",
       "  'price_close': 575.04,\n",
       "  'volume_traded': 3183.30838775,\n",
       "  'trades_count': 3195},\n",
       " {'time_period_start': '2021-11-18T00:00:00.0000000Z',\n",
       "  'time_period_end': '2021-11-19T00:00:00.0000000Z',\n",
       "  'time_open': '2021-11-18T00:00:23.4560000Z',\n",
       "  'time_close': '2021-11-18T23:59:52.7130000Z',\n",
       "  'price_open': 595.79,\n",
       "  'price_high': 601.19,\n",
       "  'price_low': 543.56,\n",
       "  'price_close': 554.38,\n",
       "  'volume_traded': 6104.56835805,\n",
       "  'trades_count': 3650},\n",
       " {'time_period_start': '2021-11-17T00:00:00.0000000Z',\n",
       "  'time_period_end': '2021-11-18T00:00:00.0000000Z',\n",
       "  'time_open': '2021-11-17T00:00:41.5720000Z',\n",
       "  'time_close': '2021-11-17T23:59:22.7980000Z',\n",
       "  'price_open': 599.29,\n",
       "  'price_high': 603.42,\n",
       "  'price_low': 578.81,\n",
       "  'price_close': 596.3,\n",
       "  'volume_traded': 8527.90072981,\n",
       "  'trades_count': 3797},\n",
       " {'time_period_start': '2021-11-16T00:00:00.0000000Z',\n",
       "  'time_period_end': '2021-11-17T00:00:00.0000000Z',\n",
       "  'time_open': '2021-11-16T00:01:43.3340000Z',\n",
       "  'time_close': '2021-11-16T23:59:14.3370000Z',\n",
       "  'price_open': 664.15,\n",
       "  'price_high': 664.15,\n",
       "  'price_low': 572.18,\n",
       "  'price_close': 598.68,\n",
       "  'volume_traded': 7493.00435533,\n",
       "  'trades_count': 4054},\n",
       " {'time_period_start': '2021-11-15T00:00:00.0000000Z',\n",
       "  'time_period_end': '2021-11-16T00:00:00.0000000Z',\n",
       "  'time_open': '2021-11-15T00:00:11.6450000Z',\n",
       "  'time_close': '2021-11-15T23:58:42.0030000Z',\n",
       "  'price_open': 679.26,\n",
       "  'price_high': 685.6,\n",
       "  'price_low': 664.88,\n",
       "  'price_close': 665.54,\n",
       "  'volume_traded': 6061.43584439,\n",
       "  'trades_count': 2084},\n",
       " {'time_period_start': '2021-11-14T00:00:00.0000000Z',\n",
       "  'time_period_end': '2021-11-15T00:00:00.0000000Z',\n",
       "  'time_open': '2021-11-14T00:00:52.3040000Z',\n",
       "  'time_close': '2021-11-14T23:59:28.6600000Z',\n",
       "  'price_open': 666.61,\n",
       "  'price_high': 678.82,\n",
       "  'price_low': 658.0,\n",
       "  'price_close': 678.4,\n",
       "  'volume_traded': 2856.79082279,\n",
       "  'trades_count': 1383},\n",
       " {'time_period_start': '2021-11-13T00:00:00.0000000Z',\n",
       "  'time_period_end': '2021-11-14T00:00:00.0000000Z',\n",
       "  'time_open': '2021-11-13T00:02:40.0100000Z',\n",
       "  'time_close': '2021-11-13T23:58:56.4920000Z',\n",
       "  'price_open': 669.75,\n",
       "  'price_high': 670.09,\n",
       "  'price_low': 655.77,\n",
       "  'price_close': 666.18,\n",
       "  'volume_traded': 2347.48973276,\n",
       "  'trades_count': 1567},\n",
       " {'time_period_start': '2021-11-12T00:00:00.0000000Z',\n",
       "  'time_period_end': '2021-11-13T00:00:00.0000000Z',\n",
       "  'time_open': '2021-11-12T00:01:54.1190000Z',\n",
       "  'time_close': '2021-11-12T23:58:11.9620000Z',\n",
       "  'price_open': 676.44,\n",
       "  'price_high': 684.16,\n",
       "  'price_low': 647.21,\n",
       "  'price_close': 669.52,\n",
       "  'volume_traded': 6078.22532013,\n",
       "  'trades_count': 2825},\n",
       " {'time_period_start': '2021-11-11T00:00:00.0000000Z',\n",
       "  'time_period_end': '2021-11-12T00:00:00.0000000Z',\n",
       "  'time_open': '2021-11-11T00:02:07.8000000Z',\n",
       "  'time_close': '2021-11-11T23:58:13.3190000Z',\n",
       "  'price_open': 661.07,\n",
       "  'price_high': 680.8,\n",
       "  'price_low': 659.0,\n",
       "  'price_close': 676.33,\n",
       "  'volume_traded': 4494.52557837,\n",
       "  'trades_count': 2226},\n",
       " {'time_period_start': '2021-11-10T00:00:00.0000000Z',\n",
       "  'time_period_end': '2021-11-11T00:00:00.0000000Z',\n",
       "  'time_open': '2021-11-10T00:04:03.7810000Z',\n",
       "  'time_close': '2021-11-10T23:59:24.4500000Z',\n",
       "  'price_open': 718.18,\n",
       "  'price_high': 728.79,\n",
       "  'price_low': 644.99,\n",
       "  'price_close': 664.47,\n",
       "  'volume_traded': 12108.635176,\n",
       "  'trades_count': 5566},\n",
       " {'time_period_start': '2021-11-09T00:00:00.0000000Z',\n",
       "  'time_period_end': '2021-11-10T00:00:00.0000000Z',\n",
       "  'time_open': '2021-11-09T00:00:08.1210000Z',\n",
       "  'time_close': '2021-11-09T23:58:37.5180000Z',\n",
       "  'price_open': 638.93,\n",
       "  'price_high': 731.49,\n",
       "  'price_low': 637.18,\n",
       "  'price_close': 716.99,\n",
       "  'volume_traded': 13098.90467583,\n",
       "  'trades_count': 6834},\n",
       " {'time_period_start': '2021-11-08T00:00:00.0000000Z',\n",
       "  'time_period_end': '2021-11-09T00:00:00.0000000Z',\n",
       "  'time_open': '2021-11-08T00:03:15.7640000Z',\n",
       "  'time_close': '2021-11-08T23:58:34.5530000Z',\n",
       "  'price_open': 602.68,\n",
       "  'price_high': 643.0,\n",
       "  'price_low': 599.72,\n",
       "  'price_close': 638.26,\n",
       "  'volume_traded': 4755.39962481,\n",
       "  'trades_count': 2923},\n",
       " {'time_period_start': '2021-11-07T00:00:00.0000000Z',\n",
       "  'time_period_end': '2021-11-08T00:00:00.0000000Z',\n",
       "  'time_open': '2021-11-07T00:03:14.2940000Z',\n",
       "  'time_close': '2021-11-07T23:59:17.1820000Z',\n",
       "  'price_open': 587.91,\n",
       "  'price_high': 600.41,\n",
       "  'price_low': 586.73,\n",
       "  'price_close': 600.41,\n",
       "  'volume_traded': 1539.25676313,\n",
       "  'trades_count': 1042},\n",
       " {'time_period_start': '2021-11-06T00:00:00.0000000Z',\n",
       "  'time_period_end': '2021-11-07T00:00:00.0000000Z',\n",
       "  'time_open': '2021-11-06T00:02:06.2170000Z',\n",
       "  'time_close': '2021-11-06T23:59:20.1540000Z',\n",
       "  'price_open': 598.01,\n",
       "  'price_high': 603.13,\n",
       "  'price_low': 577.29,\n",
       "  'price_close': 587.88,\n",
       "  'volume_traded': 2762.24970432,\n",
       "  'trades_count': 1691},\n",
       " {'time_period_start': '2021-11-05T00:00:00.0000000Z',\n",
       "  'time_period_end': '2021-11-06T00:00:00.0000000Z',\n",
       "  'time_open': '2021-11-05T00:00:11.4210000Z',\n",
       "  'time_close': '2021-11-05T23:57:53.5030000Z',\n",
       "  'price_open': 596.05,\n",
       "  'price_high': 633.0,\n",
       "  'price_low': 592.46,\n",
       "  'price_close': 598.68,\n",
       "  'volume_traded': 6758.02343626,\n",
       "  'trades_count': 3640},\n",
       " {'time_period_start': '2021-11-04T00:00:00.0000000Z',\n",
       "  'time_period_end': '2021-11-05T00:00:00.0000000Z',\n",
       "  'time_open': '2021-11-04T00:03:08.9370000Z',\n",
       "  'time_close': '2021-11-04T23:59:57.9700000Z',\n",
       "  'price_open': 611.93,\n",
       "  'price_high': 613.28,\n",
       "  'price_low': 587.34,\n",
       "  'price_close': 596.05,\n",
       "  'volume_traded': 3235.51378902,\n",
       "  'trades_count': 1979},\n",
       " {'time_period_start': '2021-11-03T00:00:00.0000000Z',\n",
       "  'time_period_end': '2021-11-04T00:00:00.0000000Z',\n",
       "  'time_open': '2021-11-03T00:00:22.5020000Z',\n",
       "  'time_close': '2021-11-03T23:58:03.9320000Z',\n",
       "  'price_open': 599.61,\n",
       "  'price_high': 619.5,\n",
       "  'price_low': 589.33,\n",
       "  'price_close': 610.87,\n",
       "  'volume_traded': 4734.66541821,\n",
       "  'trades_count': 2505},\n",
       " {'time_period_start': '2021-11-02T00:00:00.0000000Z',\n",
       "  'time_period_end': '2021-11-03T00:00:00.0000000Z',\n",
       "  'time_open': '2021-11-02T00:00:04.3780000Z',\n",
       "  'time_close': '2021-11-02T23:59:57.0300000Z',\n",
       "  'price_open': 587.59,\n",
       "  'price_high': 608.39,\n",
       "  'price_low': 582.81,\n",
       "  'price_close': 598.66,\n",
       "  'volume_traded': 4773.35703911,\n",
       "  'trades_count': 1989},\n",
       " {'time_period_start': '2021-11-01T00:00:00.0000000Z',\n",
       "  'time_period_end': '2021-11-02T00:00:00.0000000Z',\n",
       "  'time_open': '2021-11-01T00:02:37.0010000Z',\n",
       "  'time_close': '2021-11-01T23:59:13.5020000Z',\n",
       "  'price_open': 596.13,\n",
       "  'price_high': 600.0,\n",
       "  'price_low': 579.93,\n",
       "  'price_close': 587.47,\n",
       "  'volume_traded': 5770.79856733,\n",
       "  'trades_count': 2250},\n",
       " {'time_period_start': '2021-10-31T00:00:00.0000000Z',\n",
       "  'time_period_end': '2021-11-01T00:00:00.0000000Z',\n",
       "  'time_open': '2021-10-31T00:00:14.0500000Z',\n",
       "  'time_close': '2021-10-31T23:57:26.2050000Z',\n",
       "  'price_open': 585.71,\n",
       "  'price_high': 604.57,\n",
       "  'price_low': 574.2,\n",
       "  'price_close': 596.78,\n",
       "  'volume_traded': 5965.10040365,\n",
       "  'trades_count': 2213},\n",
       " {'time_period_start': '2021-10-30T00:00:00.0000000Z',\n",
       "  'time_period_end': '2021-10-31T00:00:00.0000000Z',\n",
       "  'time_open': '2021-10-30T00:00:45.1370000Z',\n",
       "  'time_close': '2021-10-30T23:59:52.9660000Z',\n",
       "  'price_open': 595.54,\n",
       "  'price_high': 601.4,\n",
       "  'price_low': 576.52,\n",
       "  'price_close': 585.45,\n",
       "  'volume_traded': 4054.29579861,\n",
       "  'trades_count': 1955},\n",
       " {'time_period_start': '2021-10-29T00:00:00.0000000Z',\n",
       "  'time_period_end': '2021-10-30T00:00:00.0000000Z',\n",
       "  'time_open': '2021-10-29T00:03:07.9920000Z',\n",
       "  'time_close': '2021-10-29T23:56:11.2840000Z',\n",
       "  'price_open': 579.95,\n",
       "  'price_high': 596.8,\n",
       "  'price_low': 573.9,\n",
       "  'price_close': 593.27,\n",
       "  'volume_traded': 4281.17522592,\n",
       "  'trades_count': 2174},\n",
       " {'time_period_start': '2021-10-28T00:00:00.0000000Z',\n",
       "  'time_period_end': '2021-10-29T00:00:00.0000000Z',\n",
       "  'time_open': '2021-10-28T00:00:16.6230000Z',\n",
       "  'time_close': '2021-10-28T23:53:32.1630000Z',\n",
       "  'price_open': 548.92,\n",
       "  'price_high': 591.97,\n",
       "  'price_low': 544.95,\n",
       "  'price_close': 578.84,\n",
       "  'volume_traded': 9357.24913952,\n",
       "  'trades_count': 3399},\n",
       " {'time_period_start': '2021-10-27T00:00:00.0000000Z',\n",
       "  'time_period_end': '2021-10-28T00:00:00.0000000Z',\n",
       "  'time_open': '2021-10-27T00:01:34.0120000Z',\n",
       "  'time_close': '2021-10-27T23:59:58.5380000Z',\n",
       "  'price_open': 611.99,\n",
       "  'price_high': 619.08,\n",
       "  'price_low': 533.8,\n",
       "  'price_close': 548.6,\n",
       "  'volume_traded': 11143.45245124,\n",
       "  'trades_count': 5066},\n",
       " {'time_period_start': '2021-10-26T00:00:00.0000000Z',\n",
       "  'time_period_end': '2021-10-27T00:00:00.0000000Z',\n",
       "  'time_open': '2021-10-26T00:00:22.9380000Z',\n",
       "  'time_close': '2021-10-26T23:59:02.7990000Z',\n",
       "  'price_open': 621.69,\n",
       "  'price_high': 633.07,\n",
       "  'price_low': 599.45,\n",
       "  'price_close': 611.29,\n",
       "  'volume_traded': 6656.05514264,\n",
       "  'trades_count': 3050},\n",
       " {'time_period_start': '2021-10-25T00:00:00.0000000Z',\n",
       "  'time_period_end': '2021-10-26T00:00:00.0000000Z',\n",
       "  'time_open': '2021-10-25T00:00:16.9930000Z',\n",
       "  'time_close': '2021-10-25T23:59:44.5120000Z',\n",
       "  'price_open': 617.33,\n",
       "  'price_high': 628.35,\n",
       "  'price_low': 614.77,\n",
       "  'price_close': 621.36,\n",
       "  'volume_traded': 4835.91310431,\n",
       "  'trades_count': 2470},\n",
       " {'time_period_start': '2021-10-24T00:00:00.0000000Z',\n",
       "  'time_period_end': '2021-10-25T00:00:00.0000000Z',\n",
       "  'time_open': '2021-10-24T00:00:05.7650000Z',\n",
       "  'time_close': '2021-10-24T23:58:09.1890000Z',\n",
       "  'price_open': 629.36,\n",
       "  'price_high': 633.22,\n",
       "  'price_low': 605.77,\n",
       "  'price_close': 617.51,\n",
       "  'volume_traded': 3283.47008373,\n",
       "  'trades_count': 2019},\n",
       " {'time_period_start': '2021-10-23T00:00:00.0000000Z',\n",
       "  'time_period_end': '2021-10-24T00:00:00.0000000Z',\n",
       "  'time_open': '2021-10-23T00:01:11.6920000Z',\n",
       "  'time_close': '2021-10-23T23:58:21.3840000Z',\n",
       "  'price_open': 624.13,\n",
       "  'price_high': 638.18,\n",
       "  'price_low': 614.25,\n",
       "  'price_close': 629.21,\n",
       "  'volume_traded': 5473.03682517,\n",
       "  'trades_count': 2946},\n",
       " {'time_period_start': '2021-10-22T00:00:00.0000000Z',\n",
       "  'time_period_end': '2021-10-23T00:00:00.0000000Z',\n",
       "  'time_open': '2021-10-22T00:01:35.9030000Z',\n",
       "  'time_close': '2021-10-22T23:58:12.6590000Z',\n",
       "  'price_open': 623.03,\n",
       "  'price_high': 636.96,\n",
       "  'price_low': 612.18,\n",
       "  'price_close': 624.17,\n",
       "  'volume_traded': 6294.70147721,\n",
       "  'trades_count': 3533},\n",
       " {'time_period_start': '2021-10-21T00:00:00.0000000Z',\n",
       "  'time_period_end': '2021-10-22T00:00:00.0000000Z',\n",
       "  'time_open': '2021-10-21T00:00:17.9680000Z',\n",
       "  'time_close': '2021-10-21T23:53:58.8200000Z',\n",
       "  'price_open': 644.88,\n",
       "  'price_high': 655.88,\n",
       "  'price_low': 621.44,\n",
       "  'price_close': 625.39,\n",
       "  'volume_traded': 11049.27857603,\n",
       "  'trades_count': 5280},\n",
       " {'time_period_start': '2021-10-20T00:00:00.0000000Z',\n",
       "  'time_period_end': '2021-10-21T00:00:00.0000000Z',\n",
       "  'time_open': '2021-10-20T00:01:11.5510000Z',\n",
       "  'time_close': '2021-10-20T23:59:57.0890000Z',\n",
       "  'price_open': 618.7,\n",
       "  'price_high': 648.9,\n",
       "  'price_low': 605.0,\n",
       "  'price_close': 644.72,\n",
       "  'volume_traded': 8103.78680159,\n",
       "  'trades_count': 4070},\n",
       " {'time_period_start': '2021-10-19T00:00:00.0000000Z',\n",
       "  'time_period_end': '2021-10-20T00:00:00.0000000Z',\n",
       "  'time_open': '2021-10-19T00:02:56.3640000Z',\n",
       "  'time_close': '2021-10-19T23:59:20.5930000Z',\n",
       "  'price_open': 611.28,\n",
       "  'price_high': 624.81,\n",
       "  'price_low': 599.81,\n",
       "  'price_close': 618.35,\n",
       "  'volume_traded': 4366.56176818,\n",
       "  'trades_count': 2653},\n",
       " {'time_period_start': '2021-10-18T00:00:00.0000000Z',\n",
       "  'time_period_end': '2021-10-19T00:00:00.0000000Z',\n",
       "  'time_open': '2021-10-18T00:01:37.3870000Z',\n",
       "  'time_close': '2021-10-18T23:58:30.9980000Z',\n",
       "  'price_open': 611.44,\n",
       "  'price_high': 619.02,\n",
       "  'price_low': 598.3,\n",
       "  'price_close': 610.8,\n",
       "  'volume_traded': 4428.42823043,\n",
       "  'trades_count': 3106},\n",
       " {'time_period_start': '2021-10-17T00:00:00.0000000Z',\n",
       "  'time_period_end': '2021-10-18T00:00:00.0000000Z',\n",
       "  'time_open': '2021-10-17T00:02:25.2840000Z',\n",
       "  'time_close': '2021-10-17T23:59:53.3750000Z',\n",
       "  'price_open': 624.23,\n",
       "  'price_high': 628.38,\n",
       "  'price_low': 589.52,\n",
       "  'price_close': 612.04,\n",
       "  'volume_traded': 8184.32787298,\n",
       "  'trades_count': 3862},\n",
       " {'time_period_start': '2021-10-16T00:00:00.0000000Z',\n",
       "  'time_period_end': '2021-10-17T00:00:00.0000000Z',\n",
       "  'time_open': '2021-10-16T00:00:01.3420000Z',\n",
       "  'time_close': '2021-10-16T23:59:58.2690000Z',\n",
       "  'price_open': 625.23,\n",
       "  'price_high': 648.9,\n",
       "  'price_low': 623.39,\n",
       "  'price_close': 626.04,\n",
       "  'volume_traded': 4637.33528566,\n",
       "  'trades_count': 3174},\n",
       " {'time_period_start': '2021-10-15T00:00:00.0000000Z',\n",
       "  'time_period_end': '2021-10-16T00:00:00.0000000Z',\n",
       "  'time_open': '2021-10-15T00:01:40.6340000Z',\n",
       "  'time_close': '2021-10-15T23:57:04.9070000Z',\n",
       "  'price_open': 598.17,\n",
       "  'price_high': 636.72,\n",
       "  'price_low': 585.7,\n",
       "  'price_close': 625.21,\n",
       "  'volume_traded': 15303.18293789,\n",
       "  'trades_count': 6764},\n",
       " {'time_period_start': '2021-10-14T00:00:00.0000000Z',\n",
       "  'time_period_end': '2021-10-15T00:00:00.0000000Z',\n",
       "  'time_open': '2021-10-14T00:00:32.8910000Z',\n",
       "  'time_close': '2021-10-14T23:59:37.7330000Z',\n",
       "  'price_open': 594.06,\n",
       "  'price_high': 608.51,\n",
       "  'price_low': 590.88,\n",
       "  'price_close': 598.7,\n",
       "  'volume_traded': 4924.92484056,\n",
       "  'trades_count': 3446},\n",
       " {'time_period_start': '2021-10-13T00:00:00.0000000Z',\n",
       "  'time_period_end': '2021-10-14T00:00:00.0000000Z',\n",
       "  'time_open': '2021-10-13T00:01:14.5410000Z',\n",
       "  'time_close': '2021-10-13T23:59:59.9350000Z',\n",
       "  'price_open': 587.55,\n",
       "  'price_high': 594.67,\n",
       "  'price_low': 571.66,\n",
       "  'price_close': 593.41,\n",
       "  'volume_traded': 5457.86301666,\n",
       "  'trades_count': 3376},\n",
       " {'time_period_start': '2021-10-12T00:00:00.0000000Z',\n",
       "  'time_period_end': '2021-10-13T00:00:00.0000000Z',\n",
       "  'time_open': '2021-10-12T00:03:06.0230000Z',\n",
       "  'time_close': '2021-10-12T23:57:30.0660000Z',\n",
       "  'price_open': 598.71,\n",
       "  'price_high': 600.88,\n",
       "  'price_low': 568.12,\n",
       "  'price_close': 586.47,\n",
       "  'volume_traded': 8277.14344115,\n",
       "  'trades_count': 4244},\n",
       " {'time_period_start': '2021-10-11T00:00:00.0000000Z',\n",
       "  'time_period_end': '2021-10-12T00:00:00.0000000Z',\n",
       "  'time_open': '2021-10-11T00:00:02.6390000Z',\n",
       "  'time_close': '2021-10-11T23:59:10.7930000Z',\n",
       "  'price_open': 584.96,\n",
       "  'price_high': 618.44,\n",
       "  'price_low': 578.0,\n",
       "  'price_close': 601.44,\n",
       "  'volume_traded': 5730.33282658,\n",
       "  'trades_count': 3406},\n",
       " {'time_period_start': '2021-10-10T00:00:00.0000000Z',\n",
       "  'time_period_end': '2021-10-11T00:00:00.0000000Z',\n",
       "  'time_open': '2021-10-10T00:00:01.3710000Z',\n",
       "  'time_close': '2021-10-10T23:57:21.1130000Z',\n",
       "  'price_open': 615.06,\n",
       "  'price_high': 622.92,\n",
       "  'price_low': 583.1,\n",
       "  'price_close': 586.02,\n",
       "  'volume_traded': 7157.96828804,\n",
       "  'trades_count': 3700},\n",
       " {'time_period_start': '2021-10-09T00:00:00.0000000Z',\n",
       "  'time_period_end': '2021-10-10T00:00:00.0000000Z',\n",
       "  'time_open': '2021-10-09T00:00:11.7700000Z',\n",
       "  'time_close': '2021-10-09T23:55:09.3520000Z',\n",
       "  'price_open': 596.6,\n",
       "  'price_high': 624.17,\n",
       "  'price_low': 592.35,\n",
       "  'price_close': 615.2,\n",
       "  'volume_traded': 5558.53617698,\n",
       "  'trades_count': 2955},\n",
       " {'time_period_start': '2021-10-08T00:00:00.0000000Z',\n",
       "  'time_period_end': '2021-10-09T00:00:00.0000000Z',\n",
       "  'time_open': '2021-10-08T00:00:09.8440000Z',\n",
       "  'time_close': '2021-10-08T23:59:09.2970000Z',\n",
       "  'price_open': 611.98,\n",
       "  'price_high': 617.5,\n",
       "  'price_low': 588.22,\n",
       "  'price_close': 596.26,\n",
       "  'volume_traded': 8822.29682969,\n",
       "  'trades_count': 3995},\n",
       " {'time_period_start': '2021-10-07T00:00:00.0000000Z',\n",
       "  'time_period_end': '2021-10-08T00:00:00.0000000Z',\n",
       "  'time_open': '2021-10-07T00:02:03.9200000Z',\n",
       "  'time_close': '2021-10-07T23:58:14.7960000Z',\n",
       "  'price_open': 617.08,\n",
       "  'price_high': 635.73,\n",
       "  'price_low': 598.1,\n",
       "  'price_close': 612.09,\n",
       "  'volume_traded': 9339.97327458,\n",
       "  'trades_count': 4404},\n",
       " {'time_period_start': '2021-10-06T00:00:00.0000000Z',\n",
       "  'time_period_end': '2021-10-07T00:00:00.0000000Z',\n",
       "  'time_open': '2021-10-06T00:00:45.5890000Z',\n",
       "  'time_close': '2021-10-06T23:59:37.4030000Z',\n",
       "  'price_open': 594.94,\n",
       "  'price_high': 625.4,\n",
       "  'price_low': 562.23,\n",
       "  'price_close': 617.22,\n",
       "  'volume_traded': 12206.46519721,\n",
       "  'trades_count': 6286},\n",
       " {'time_period_start': '2021-10-05T00:00:00.0000000Z',\n",
       "  'time_period_end': '2021-10-06T00:00:00.0000000Z',\n",
       "  'time_open': '2021-10-05T00:00:07.1060000Z',\n",
       "  'time_close': '2021-10-05T23:58:33.5060000Z',\n",
       "  'price_open': 551.17,\n",
       "  'price_high': 600.03,\n",
       "  'price_low': 548.99,\n",
       "  'price_close': 593.52,\n",
       "  'volume_traded': 7315.17364937,\n",
       "  'trades_count': 3566},\n",
       " {'time_period_start': '2021-10-04T00:00:00.0000000Z',\n",
       "  'time_period_end': '2021-10-05T00:00:00.0000000Z',\n",
       "  'time_open': '2021-10-04T00:00:14.6510000Z',\n",
       "  'time_close': '2021-10-04T23:59:33.8880000Z',\n",
       "  'price_open': 571.24,\n",
       "  'price_high': 571.24,\n",
       "  'price_low': 531.22,\n",
       "  'price_close': 550.93,\n",
       "  'volume_traded': 7946.75625473,\n",
       "  'trades_count': 3794},\n",
       " {'time_period_start': '2021-10-03T00:00:00.0000000Z',\n",
       "  'time_period_end': '2021-10-04T00:00:00.0000000Z',\n",
       "  'time_open': '2021-10-03T00:00:09.2770000Z',\n",
       "  'time_close': '2021-10-03T23:59:47.9580000Z',\n",
       "  'price_open': 552.08,\n",
       "  'price_high': 579.0,\n",
       "  'price_low': 545.85,\n",
       "  'price_close': 571.69,\n",
       "  'volume_traded': 5532.49640698,\n",
       "  'trades_count': 2898},\n",
       " {'time_period_start': '2021-10-02T00:00:00.0000000Z',\n",
       "  'time_period_end': '2021-10-03T00:00:00.0000000Z',\n",
       "  'time_open': '2021-10-02T00:00:14.5040000Z',\n",
       "  'time_close': '2021-10-02T23:59:47.8880000Z',\n",
       "  'price_open': 543.92,\n",
       "  'price_high': 560.32,\n",
       "  'price_low': 536.64,\n",
       "  'price_close': 552.3,\n",
       "  'volume_traded': 3540.61126581,\n",
       "  'trades_count': 2267},\n",
       " {'time_period_start': '2021-10-01T00:00:00.0000000Z',\n",
       "  'time_period_end': '2021-10-02T00:00:00.0000000Z',\n",
       "  'time_open': '2021-10-01T00:01:38.2660000Z',\n",
       "  'time_close': '2021-10-01T23:59:44.0600000Z',\n",
       "  'price_open': 502.15,\n",
       "  'price_high': 544.69,\n",
       "  'price_low': 500.66,\n",
       "  'price_close': 543.74,\n",
       "  'volume_traded': 9375.23288727,\n",
       "  'trades_count': 4367},\n",
       " {'time_period_start': '2021-09-30T00:00:00.0000000Z',\n",
       "  'time_period_end': '2021-10-01T00:00:00.0000000Z',\n",
       "  'time_open': '2021-09-30T00:00:12.5820000Z',\n",
       "  'time_close': '2021-09-30T23:59:49.4610000Z',\n",
       "  'price_open': 484.96,\n",
       "  'price_high': 506.09,\n",
       "  'price_low': 482.15,\n",
       "  'price_close': 502.83,\n",
       "  'volume_traded': 8863.50004978,\n",
       "  'trades_count': 4174},\n",
       " {'time_period_start': '2021-09-29T00:00:00.0000000Z',\n",
       "  'time_period_end': '2021-09-30T00:00:00.0000000Z',\n",
       "  'time_open': '2021-09-29T00:00:10.0960000Z',\n",
       "  'time_close': '2021-09-29T23:59:09.3970000Z',\n",
       "  'price_open': 474.0,\n",
       "  'price_high': 498.18,\n",
       "  'price_low': 471.38,\n",
       "  'price_close': 485.38,\n",
       "  'volume_traded': 13860.80835358,\n",
       "  'trades_count': 8091},\n",
       " {'time_period_start': '2021-09-28T00:00:00.0000000Z',\n",
       "  'time_period_end': '2021-09-29T00:00:00.0000000Z',\n",
       "  'time_open': '2021-09-28T00:00:42.6240000Z',\n",
       "  'time_close': '2021-09-28T23:59:53.5620000Z',\n",
       "  'price_open': 487.78,\n",
       "  'price_high': 499.06,\n",
       "  'price_low': 472.76,\n",
       "  'price_close': 474.44,\n",
       "  'volume_traded': 15361.87859894,\n",
       "  'trades_count': 10076},\n",
       " {'time_period_start': '2021-09-27T00:00:00.0000000Z',\n",
       "  'time_period_end': '2021-09-28T00:00:00.0000000Z',\n",
       "  'time_open': '2021-09-27T00:00:11.9460000Z',\n",
       "  'time_close': '2021-09-27T23:59:18.8860000Z',\n",
       "  'price_open': 503.61,\n",
       "  'price_high': 515.62,\n",
       "  'price_low': 487.87,\n",
       "  'price_close': 488.26,\n",
       "  'volume_traded': 12815.05505975,\n",
       "  'trades_count': 8150},\n",
       " {'time_period_start': '2021-09-26T00:00:00.0000000Z',\n",
       "  'time_period_end': '2021-09-27T00:00:00.0000000Z',\n",
       "  'time_open': '2021-09-26T00:01:24.4150000Z',\n",
       "  'time_close': '2021-09-26T23:59:48.3370000Z',\n",
       "  'price_open': 516.54,\n",
       "  'price_high': 520.41,\n",
       "  'price_low': 480.96,\n",
       "  'price_close': 504.03,\n",
       "  'volume_traded': 9685.422644,\n",
       "  'trades_count': 6687},\n",
       " {'time_period_start': '2021-09-25T00:00:00.0000000Z',\n",
       "  'time_period_end': '2021-09-26T00:00:00.0000000Z',\n",
       "  'time_open': '2021-09-25T00:00:29.4810000Z',\n",
       "  'time_close': '2021-09-25T23:57:46.2600000Z',\n",
       "  'price_open': 513.93,\n",
       "  'price_high': 523.03,\n",
       "  'price_low': 502.16,\n",
       "  'price_close': 517.2,\n",
       "  'volume_traded': 14243.92427719,\n",
       "  'trades_count': 9277},\n",
       " {'time_period_start': '2021-09-24T00:00:00.0000000Z',\n",
       "  'time_period_end': '2021-09-25T00:00:00.0000000Z',\n",
       "  'time_open': '2021-09-24T00:00:04.7910000Z',\n",
       "  'time_close': '2021-09-24T23:59:59.5770000Z',\n",
       "  'price_open': 552.78,\n",
       "  'price_high': 556.53,\n",
       "  'price_low': 479.51,\n",
       "  'price_close': 513.51,\n",
       "  'volume_traded': 20862.62693701,\n",
       "  'trades_count': 10376},\n",
       " {'time_period_start': '2021-09-23T00:00:00.0000000Z',\n",
       "  'time_period_end': '2021-09-24T00:00:00.0000000Z',\n",
       "  'time_open': '2021-09-23T00:00:57.3650000Z',\n",
       "  'time_close': '2021-09-23T23:59:21.9720000Z',\n",
       "  'price_open': 547.55,\n",
       "  'price_high': 553.97,\n",
       "  'price_low': 532.46,\n",
       "  'price_close': 552.72,\n",
       "  'volume_traded': 12100.12279078,\n",
       "  'trades_count': 7703},\n",
       " {'time_period_start': '2021-09-22T00:00:00.0000000Z',\n",
       "  'time_period_end': '2021-09-23T00:00:00.0000000Z',\n",
       "  'time_open': '2021-09-22T00:00:01.4220000Z',\n",
       "  'time_close': '2021-09-22T23:59:51.8360000Z',\n",
       "  'price_open': 504.91,\n",
       "  'price_high': 548.25,\n",
       "  'price_low': 496.42,\n",
       "  'price_close': 547.91,\n",
       "  'volume_traded': 18201.26212362,\n",
       "  'trades_count': 9527},\n",
       " {'time_period_start': '2021-09-21T00:00:00.0000000Z',\n",
       "  'time_period_end': '2021-09-22T00:00:00.0000000Z',\n",
       "  'time_open': '2021-09-21T00:00:08.0360000Z',\n",
       "  'time_close': '2021-09-21T23:59:56.4010000Z',\n",
       "  'price_open': 542.48,\n",
       "  'price_high': 552.4,\n",
       "  'price_low': 497.33,\n",
       "  'price_close': 504.72,\n",
       "  'volume_traded': 24597.57668246,\n",
       "  'trades_count': 13183},\n",
       " {'time_period_start': '2021-09-20T00:00:00.0000000Z',\n",
       "  'time_period_end': '2021-09-21T00:00:00.0000000Z',\n",
       "  'time_open': '2021-09-20T00:00:16.9940000Z',\n",
       "  'time_close': '2021-09-20T23:59:59.7870000Z',\n",
       "  'price_open': 609.26,\n",
       "  'price_high': 609.26,\n",
       "  'price_low': 530.0,\n",
       "  'price_close': 542.66,\n",
       "  'volume_traded': 26509.73188461,\n",
       "  'trades_count': 12654},\n",
       " {'time_period_start': '2021-09-19T00:00:00.0000000Z',\n",
       "  'time_period_end': '2021-09-20T00:00:00.0000000Z',\n",
       "  'time_open': '2021-09-19T00:00:19.5400000Z',\n",
       "  'time_close': '2021-09-19T23:59:48.3740000Z',\n",
       "  'price_open': 630.76,\n",
       "  'price_high': 647.55,\n",
       "  'price_low': 602.37,\n",
       "  'price_close': 609.04,\n",
       "  'volume_traded': 10178.56276799,\n",
       "  'trades_count': 5965},\n",
       " {'time_period_start': '2021-09-18T00:00:00.0000000Z',\n",
       "  'time_period_end': '2021-09-19T00:00:00.0000000Z',\n",
       "  'time_open': '2021-09-18T00:00:19.4230000Z',\n",
       "  'time_close': '2021-09-18T23:59:14.8820000Z',\n",
       "  'price_open': 621.29,\n",
       "  'price_high': 638.54,\n",
       "  'price_low': 614.75,\n",
       "  'price_close': 631.48,\n",
       "  'volume_traded': 12627.35186086,\n",
       "  'trades_count': 7832},\n",
       " {'time_period_start': '2021-09-17T00:00:00.0000000Z',\n",
       "  'time_period_end': '2021-09-18T00:00:00.0000000Z',\n",
       "  'time_open': '2021-09-17T00:00:11.3300000Z',\n",
       "  'time_close': '2021-09-17T23:59:56.0530000Z',\n",
       "  'price_open': 639.21,\n",
       "  'price_high': 647.74,\n",
       "  'price_low': 613.33,\n",
       "  'price_close': 621.43,\n",
       "  'volume_traded': 14069.21380795,\n",
       "  'trades_count': 8608},\n",
       " {'time_period_start': '2021-09-16T00:00:00.0000000Z',\n",
       "  'time_period_end': '2021-09-17T00:00:00.0000000Z',\n",
       "  'time_open': '2021-09-16T00:00:12.5640000Z',\n",
       "  'time_close': '2021-09-16T23:59:59.6800000Z',\n",
       "  'price_open': 653.27,\n",
       "  'price_high': 655.43,\n",
       "  'price_low': 626.33,\n",
       "  'price_close': 639.21,\n",
       "  'volume_traded': 14652.39249918,\n",
       "  'trades_count': 9022},\n",
       " {'time_period_start': '2021-09-15T00:00:00.0000000Z',\n",
       "  'time_period_end': '2021-09-16T00:00:00.0000000Z',\n",
       "  'time_open': '2021-09-15T00:00:02.6950000Z',\n",
       "  'time_close': '2021-09-15T23:59:40.4890000Z',\n",
       "  'price_open': 640.94,\n",
       "  'price_high': 657.18,\n",
       "  'price_low': 632.28,\n",
       "  'price_close': 652.69,\n",
       "  'volume_traded': 8439.99298582,\n",
       "  'trades_count': 5686},\n",
       " {'time_period_start': '2021-09-14T00:00:00.0000000Z',\n",
       "  'time_period_end': '2021-09-15T00:00:00.0000000Z',\n",
       "  'time_open': '2021-09-14T00:00:10.7150000Z',\n",
       "  'time_close': '2021-09-14T23:59:37.4900000Z',\n",
       "  'price_open': 614.5,\n",
       "  'price_high': 642.91,\n",
       "  'price_low': 608.85,\n",
       "  'price_close': 640.32,\n",
       "  'volume_traded': 9051.68044719,\n",
       "  'trades_count': 5546},\n",
       " {'time_period_start': '2021-09-13T00:00:00.0000000Z',\n",
       "  'time_period_end': '2021-09-14T00:00:00.0000000Z',\n",
       "  'time_open': '2021-09-13T00:01:49.1240000Z',\n",
       "  'time_close': '2021-09-13T23:58:12.5490000Z',\n",
       "  'price_open': 647.32,\n",
       "  'price_high': 661.25,\n",
       "  'price_low': 590.77,\n",
       "  'price_close': 614.4,\n",
       "  'volume_traded': 19211.24405668,\n",
       "  'trades_count': 7936},\n",
       " {'time_period_start': '2021-09-12T00:00:00.0000000Z',\n",
       "  'time_period_end': '2021-09-13T00:00:00.0000000Z',\n",
       "  'time_open': '2021-09-12T00:00:17.5510000Z',\n",
       "  'time_close': '2021-09-12T23:58:07.8730000Z',\n",
       "  'price_open': 636.23,\n",
       "  'price_high': 655.33,\n",
       "  'price_low': 623.42,\n",
       "  'price_close': 647.12,\n",
       "  'volume_traded': 9187.56141984,\n",
       "  'trades_count': 4741},\n",
       " {'time_period_start': '2021-09-11T00:00:00.0000000Z',\n",
       "  'time_period_end': '2021-09-12T00:00:00.0000000Z',\n",
       "  'time_open': '2021-09-11T00:00:10.4760000Z',\n",
       "  'time_close': '2021-09-11T23:58:25.2110000Z',\n",
       "  'price_open': 628.66,\n",
       "  'price_high': 648.07,\n",
       "  'price_low': 625.91,\n",
       "  'price_close': 636.37,\n",
       "  'volume_traded': 7361.01413367,\n",
       "  'trades_count': 4516},\n",
       " {'time_period_start': '2021-09-10T00:00:00.0000000Z',\n",
       "  'time_period_end': '2021-09-11T00:00:00.0000000Z',\n",
       "  'time_open': '2021-09-10T00:00:17.1390000Z',\n",
       "  'time_close': '2021-09-10T23:59:47.0910000Z',\n",
       "  'price_open': 661.03,\n",
       "  'price_high': 674.07,\n",
       "  'price_low': 618.1,\n",
       "  'price_close': 628.59,\n",
       "  'volume_traded': 16749.73855476,\n",
       "  'trades_count': 7185},\n",
       " {'time_period_start': '2021-09-09T00:00:00.0000000Z',\n",
       "  'time_period_end': '2021-09-10T00:00:00.0000000Z',\n",
       "  'time_open': '2021-09-09T00:00:33.7090000Z',\n",
       "  'time_close': '2021-09-09T23:55:35.3530000Z',\n",
       "  'price_open': 662.46,\n",
       "  'price_high': 673.4,\n",
       "  'price_low': 655.87,\n",
       "  'price_close': 660.44,\n",
       "  'volume_traded': 14802.94800258,\n",
       "  'trades_count': 7322},\n",
       " {'time_period_start': '2021-09-08T00:00:00.0000000Z',\n",
       "  'time_period_end': '2021-09-09T00:00:00.0000000Z',\n",
       "  'time_open': '2021-09-08T00:01:00.1480000Z',\n",
       "  'time_close': '2021-09-08T23:57:40.0450000Z',\n",
       "  'price_open': 675.17,\n",
       "  'price_high': 680.0,\n",
       "  'price_low': 644.55,\n",
       "  'price_close': 661.19,\n",
       "  'volume_traded': 15063.89987728,\n",
       "  'trades_count': 7565},\n",
       " {'time_period_start': '2021-09-07T00:00:00.0000000Z',\n",
       "  'time_period_end': '2021-09-08T00:00:00.0000000Z',\n",
       "  'time_open': '2021-09-07T00:01:19.5830000Z',\n",
       "  'time_close': '2021-09-07T23:59:27.5570000Z',\n",
       "  'price_open': 784.69,\n",
       "  'price_high': 788.13,\n",
       "  'price_low': 586.0,\n",
       "  'price_close': 672.45,\n",
       "  'volume_traded': 37206.73418026,\n",
       "  'trades_count': 14290},\n",
       " {'time_period_start': '2021-09-06T00:00:00.0000000Z',\n",
       "  'time_period_end': '2021-09-07T00:00:00.0000000Z',\n",
       "  'time_open': '2021-09-06T00:00:30.6780000Z',\n",
       "  'time_close': '2021-09-06T23:57:24.7930000Z',\n",
       "  'price_open': 765.04,\n",
       "  'price_high': 803.78,\n",
       "  'price_low': 742.11,\n",
       "  'price_close': 785.0,\n",
       "  'volume_traded': 13385.85828928,\n",
       "  'trades_count': 6564},\n",
       " {'time_period_start': '2021-09-05T00:00:00.0000000Z',\n",
       "  'time_period_end': '2021-09-06T00:00:00.0000000Z',\n",
       "  'time_open': '2021-09-05T00:00:22.0410000Z',\n",
       "  'time_close': '2021-09-05T23:58:46.2040000Z',\n",
       "  'price_open': 709.99,\n",
       "  'price_high': 767.3,\n",
       "  'price_low': 698.78,\n",
       "  'price_close': 764.12,\n",
       "  'volume_traded': 10632.20991574,\n",
       "  'trades_count': 4880},\n",
       " {'time_period_start': '2021-09-04T00:00:00.0000000Z',\n",
       "  'time_period_end': '2021-09-05T00:00:00.0000000Z',\n",
       "  'time_open': '2021-09-04T00:00:17.6270000Z',\n",
       "  'time_close': '2021-09-04T23:59:32.8880000Z',\n",
       "  'price_open': 713.52,\n",
       "  'price_high': 734.67,\n",
       "  'price_low': 697.41,\n",
       "  'price_close': 709.15,\n",
       "  'volume_traded': 10129.46694118,\n",
       "  'trades_count': 5915},\n",
       " {'time_period_start': '2021-09-03T00:00:00.0000000Z',\n",
       "  'time_period_end': '2021-09-04T00:00:00.0000000Z',\n",
       "  'time_open': '2021-09-03T00:00:28.0150000Z',\n",
       "  'time_close': '2021-09-03T23:58:56.6480000Z',\n",
       "  'price_open': 664.94,\n",
       "  'price_high': 721.14,\n",
       "  'price_low': 651.34,\n",
       "  'price_close': 713.34,\n",
       "  'volume_traded': 13264.99968839,\n",
       "  'trades_count': 7151},\n",
       " {'time_period_start': '2021-09-02T00:00:00.0000000Z',\n",
       "  'time_period_end': '2021-09-03T00:00:00.0000000Z',\n",
       "  'time_open': '2021-09-02T00:00:56.9070000Z',\n",
       "  'time_close': '2021-09-02T23:58:32.6900000Z',\n",
       "  'price_open': 656.17,\n",
       "  'price_high': 674.15,\n",
       "  'price_low': 653.19,\n",
       "  'price_close': 664.87,\n",
       "  'volume_traded': 8482.54696575,\n",
       "  'trades_count': 4595},\n",
       " {'time_period_start': '2021-09-01T00:00:00.0000000Z',\n",
       "  'time_period_end': '2021-09-02T00:00:00.0000000Z',\n",
       "  'time_open': '2021-09-01T00:00:01.8050000Z',\n",
       "  'time_close': '2021-09-01T23:59:43.2650000Z',\n",
       "  'price_open': 636.77,\n",
       "  'price_high': 657.29,\n",
       "  'price_low': 625.6,\n",
       "  'price_close': 656.5,\n",
       "  'volume_traded': 9549.24323976,\n",
       "  'trades_count': 5964},\n",
       " {'time_period_start': '2021-08-31T00:00:00.0000000Z',\n",
       "  'time_period_end': '2021-09-01T00:00:00.0000000Z',\n",
       "  'time_open': '2021-08-31T00:00:05.4420000Z',\n",
       "  'time_close': '2021-08-31T23:56:54.7730000Z',\n",
       "  'price_open': 632.82,\n",
       "  'price_high': 651.47,\n",
       "  'price_low': 624.62,\n",
       "  'price_close': 637.11,\n",
       "  'volume_traded': 9572.24259885,\n",
       "  'trades_count': 6234},\n",
       " {'time_period_start': '2021-08-30T00:00:00.0000000Z',\n",
       "  'time_period_end': '2021-08-31T00:00:00.0000000Z',\n",
       "  'time_open': '2021-08-30T00:00:13.5230000Z',\n",
       "  'time_close': '2021-08-30T23:59:28.8690000Z',\n",
       "  'price_open': 659.84,\n",
       "  'price_high': 665.12,\n",
       "  'price_low': 630.39,\n",
       "  'price_close': 632.22,\n",
       "  'volume_traded': 11698.50453795,\n",
       "  'trades_count': 7371},\n",
       " {'time_period_start': '2021-08-29T00:00:00.0000000Z',\n",
       "  'time_period_end': '2021-08-30T00:00:00.0000000Z',\n",
       "  'time_open': '2021-08-29T00:00:03.6090000Z',\n",
       "  'time_close': '2021-08-29T23:59:44.4940000Z',\n",
       "  'price_open': 647.22,\n",
       "  'price_high': 692.57,\n",
       "  'price_low': 647.22,\n",
       "  'price_close': 659.56,\n",
       "  'volume_traded': 14255.16024293,\n",
       "  'trades_count': 8521},\n",
       " {'time_period_start': '2021-08-28T00:00:00.0000000Z',\n",
       "  'time_period_end': '2021-08-29T00:00:00.0000000Z',\n",
       "  'time_open': '2021-08-28T00:01:01.7070000Z',\n",
       "  'time_close': '2021-08-28T23:57:45.4500000Z',\n",
       "  'price_open': 635.27,\n",
       "  'price_high': 647.13,\n",
       "  'price_low': 622.94,\n",
       "  'price_close': 646.21,\n",
       "  'volume_traded': 6872.14490028,\n",
       "  'trades_count': 5142},\n",
       " {'time_period_start': '2021-08-27T00:00:00.0000000Z',\n",
       "  'time_period_end': '2021-08-28T00:00:00.0000000Z',\n",
       "  'time_open': '2021-08-27T00:00:10.3420000Z',\n",
       "  'time_close': '2021-08-27T23:59:35.9640000Z',\n",
       "  'price_open': 606.48,\n",
       "  'price_high': 637.07,\n",
       "  'price_low': 596.82,\n",
       "  'price_close': 636.24,\n",
       "  'volume_traded': 13759.49465415,\n",
       "  'trades_count': 8707},\n",
       " {'time_period_start': '2021-08-26T00:00:00.0000000Z',\n",
       "  'time_period_end': '2021-08-27T00:00:00.0000000Z',\n",
       "  'time_open': '2021-08-26T00:00:03.6140000Z',\n",
       "  'time_close': '2021-08-26T23:59:53.0650000Z',\n",
       "  'price_open': 650.86,\n",
       "  'price_high': 656.67,\n",
       "  'price_low': 605.0,\n",
       "  'price_close': 606.85,\n",
       "  'volume_traded': 12295.40289857,\n",
       "  'trades_count': 5033},\n",
       " {'time_period_start': '2021-08-25T00:00:00.0000000Z',\n",
       "  'time_period_end': '2021-08-26T00:00:00.0000000Z',\n",
       "  'time_open': '2021-08-25T00:00:08.8690000Z',\n",
       "  'time_close': '2021-08-25T23:59:45.0910000Z',\n",
       "  'price_open': 636.22,\n",
       "  'price_high': 659.23,\n",
       "  'price_low': 626.84,\n",
       "  'price_close': 651.02,\n",
       "  'volume_traded': 15118.22853233,\n",
       "  'trades_count': 6191},\n",
       " {'time_period_start': '2021-08-24T00:00:00.0000000Z',\n",
       "  'time_period_end': '2021-08-25T00:00:00.0000000Z',\n",
       "  'time_open': '2021-08-24T00:01:49.0590000Z',\n",
       "  'time_close': '2021-08-24T23:57:56.6370000Z',\n",
       "  'price_open': 678.32,\n",
       "  'price_high': 682.84,\n",
       "  'price_low': 633.44,\n",
       "  'price_close': 637.79,\n",
       "  'volume_traded': 10336.38832135,\n",
       "  'trades_count': 4940},\n",
       " {'time_period_start': '2021-08-23T00:00:00.0000000Z',\n",
       "  'time_period_end': '2021-08-24T00:00:00.0000000Z',\n",
       "  'time_open': '2021-08-23T00:00:02.7320000Z',\n",
       "  'time_close': '2021-08-23T23:59:38.7790000Z',\n",
       "  'price_open': 672.98,\n",
       "  'price_high': 695.0,\n",
       "  'price_low': 664.65,\n",
       "  'price_close': 678.92,\n",
       "  'volume_traded': 10742.01717542,\n",
       "  'trades_count': 5296},\n",
       " {'time_period_start': '2021-08-22T00:00:00.0000000Z',\n",
       "  'time_period_end': '2021-08-23T00:00:00.0000000Z',\n",
       "  'time_open': '2021-08-22T00:00:18.6360000Z',\n",
       "  'time_close': '2021-08-22T23:59:58.5770000Z',\n",
       "  'price_open': 676.6,\n",
       "  'price_high': 690.08,\n",
       "  'price_low': 653.14,\n",
       "  'price_close': 672.56,\n",
       "  'volume_traded': 8572.35158196,\n",
       "  'trades_count': 4535},\n",
       " {'time_period_start': '2021-08-21T00:00:00.0000000Z',\n",
       "  'time_period_end': '2021-08-22T00:00:00.0000000Z',\n",
       "  'time_open': '2021-08-21T00:00:59.0730000Z',\n",
       "  'time_close': '2021-08-21T23:59:55.2760000Z',\n",
       "  'price_open': 693.26,\n",
       "  'price_high': 700.38,\n",
       "  'price_low': 672.49,\n",
       "  'price_close': 676.38,\n",
       "  'volume_traded': 9566.74287327,\n",
       "  'trades_count': 4596},\n",
       " {'time_period_start': '2021-08-20T00:00:00.0000000Z',\n",
       "  'time_period_end': '2021-08-21T00:00:00.0000000Z',\n",
       "  'time_open': '2021-08-20T00:01:01.7180000Z',\n",
       "  'time_close': '2021-08-20T23:56:50.3030000Z',\n",
       "  'price_open': 659.76,\n",
       "  'price_high': 700.77,\n",
       "  'price_low': 653.23,\n",
       "  'price_close': 693.4,\n",
       "  'volume_traded': 10088.57751776,\n",
       "  'trades_count': 5054},\n",
       " {'time_period_start': '2021-08-19T00:00:00.0000000Z',\n",
       "  'time_period_end': '2021-08-20T00:00:00.0000000Z',\n",
       "  'time_open': '2021-08-19T00:01:56.4400000Z',\n",
       "  'time_close': '2021-08-19T23:59:12.7760000Z',\n",
       "  'price_open': 633.95,\n",
       "  'price_high': 660.72,\n",
       "  'price_low': 619.62,\n",
       "  'price_close': 660.72,\n",
       "  'volume_traded': 8142.97331404,\n",
       "  'trades_count': 3996},\n",
       " {'time_period_start': '2021-08-18T00:00:00.0000000Z',\n",
       "  'time_period_end': '2021-08-19T00:00:00.0000000Z',\n",
       "  'time_open': '2021-08-18T00:00:16.2010000Z',\n",
       "  'time_close': '2021-08-18T23:59:27.6050000Z',\n",
       "  'price_open': 638.41,\n",
       "  'price_high': 655.0,\n",
       "  'price_low': 620.43,\n",
       "  'price_close': 633.18,\n",
       "  'volume_traded': 11163.8665342,\n",
       "  'trades_count': 4341},\n",
       " {'time_period_start': '2021-08-17T00:00:00.0000000Z',\n",
       "  'time_period_end': '2021-08-18T00:00:00.0000000Z',\n",
       "  'time_open': '2021-08-17T00:00:34.5440000Z',\n",
       "  'time_close': '2021-08-17T23:59:59.7590000Z',\n",
       "  'price_open': 673.55,\n",
       "  'price_high': 691.51,\n",
       "  'price_low': 637.84,\n",
       "  'price_close': 638.6,\n",
       "  'volume_traded': 13080.19117042,\n",
       "  'trades_count': 4614}]"
      ]
     },
     "execution_count": 15,
     "metadata": {},
     "output_type": "execute_result"
    }
   ],
   "source": [
    "data = json.loads(response.text)\n",
    "data"
   ]
  },
  {
   "cell_type": "code",
   "execution_count": 16,
   "metadata": {},
   "outputs": [
    {
     "data": {
      "text/html": [
       "<div>\n",
       "<style scoped>\n",
       "    .dataframe tbody tr th:only-of-type {\n",
       "        vertical-align: middle;\n",
       "    }\n",
       "\n",
       "    .dataframe tbody tr th {\n",
       "        vertical-align: top;\n",
       "    }\n",
       "\n",
       "    .dataframe thead th {\n",
       "        text-align: right;\n",
       "    }\n",
       "</style>\n",
       "<table border=\"1\" class=\"dataframe\">\n",
       "  <thead>\n",
       "    <tr style=\"text-align: right;\">\n",
       "      <th></th>\n",
       "      <th>time_period_start</th>\n",
       "      <th>time_period_end</th>\n",
       "      <th>time_open</th>\n",
       "      <th>time_close</th>\n",
       "      <th>price_open</th>\n",
       "      <th>price_high</th>\n",
       "      <th>price_low</th>\n",
       "      <th>price_close</th>\n",
       "      <th>volume_traded</th>\n",
       "      <th>trades_count</th>\n",
       "    </tr>\n",
       "  </thead>\n",
       "  <tbody>\n",
       "    <tr>\n",
       "      <th>0</th>\n",
       "      <td>2021-11-24T00:00:00.0000000Z</td>\n",
       "      <td>2021-11-25T00:00:00.0000000Z</td>\n",
       "      <td>2021-11-24T00:01:51.9720000Z</td>\n",
       "      <td>2021-11-24T08:00:31.7440000Z</td>\n",
       "      <td>571.94</td>\n",
       "      <td>585.81</td>\n",
       "      <td>559.01</td>\n",
       "      <td>580.14</td>\n",
       "      <td>1068.894726</td>\n",
       "      <td>745</td>\n",
       "    </tr>\n",
       "    <tr>\n",
       "      <th>1</th>\n",
       "      <td>2021-11-23T00:00:00.0000000Z</td>\n",
       "      <td>2021-11-24T00:00:00.0000000Z</td>\n",
       "      <td>2021-11-23T00:04:40.7570000Z</td>\n",
       "      <td>2021-11-23T23:59:20.7720000Z</td>\n",
       "      <td>557.13</td>\n",
       "      <td>575.62</td>\n",
       "      <td>546.42</td>\n",
       "      <td>571.26</td>\n",
       "      <td>2731.493167</td>\n",
       "      <td>1788</td>\n",
       "    </tr>\n",
       "    <tr>\n",
       "      <th>2</th>\n",
       "      <td>2021-11-22T00:00:00.0000000Z</td>\n",
       "      <td>2021-11-23T00:00:00.0000000Z</td>\n",
       "      <td>2021-11-22T00:04:18.7320000Z</td>\n",
       "      <td>2021-11-22T23:55:36.7250000Z</td>\n",
       "      <td>574.35</td>\n",
       "      <td>578.36</td>\n",
       "      <td>547.44</td>\n",
       "      <td>558.64</td>\n",
       "      <td>4880.968776</td>\n",
       "      <td>3065</td>\n",
       "    </tr>\n",
       "    <tr>\n",
       "      <th>3</th>\n",
       "      <td>2021-11-21T00:00:00.0000000Z</td>\n",
       "      <td>2021-11-22T00:00:00.0000000Z</td>\n",
       "      <td>2021-11-21T00:00:41.7210000Z</td>\n",
       "      <td>2021-11-21T23:58:45.3310000Z</td>\n",
       "      <td>585.26</td>\n",
       "      <td>585.71</td>\n",
       "      <td>568.94</td>\n",
       "      <td>575.85</td>\n",
       "      <td>6451.875819</td>\n",
       "      <td>2666</td>\n",
       "    </tr>\n",
       "    <tr>\n",
       "      <th>4</th>\n",
       "      <td>2021-11-20T00:00:00.0000000Z</td>\n",
       "      <td>2021-11-21T00:00:00.0000000Z</td>\n",
       "      <td>2021-11-20T00:00:54.2470000Z</td>\n",
       "      <td>2021-11-20T23:56:23.3950000Z</td>\n",
       "      <td>575.56</td>\n",
       "      <td>588.62</td>\n",
       "      <td>565.56</td>\n",
       "      <td>584.77</td>\n",
       "      <td>1438.315690</td>\n",
       "      <td>1312</td>\n",
       "    </tr>\n",
       "  </tbody>\n",
       "</table>\n",
       "</div>"
      ],
      "text/plain": [
       "              time_period_start               time_period_end  \\\n",
       "0  2021-11-24T00:00:00.0000000Z  2021-11-25T00:00:00.0000000Z   \n",
       "1  2021-11-23T00:00:00.0000000Z  2021-11-24T00:00:00.0000000Z   \n",
       "2  2021-11-22T00:00:00.0000000Z  2021-11-23T00:00:00.0000000Z   \n",
       "3  2021-11-21T00:00:00.0000000Z  2021-11-22T00:00:00.0000000Z   \n",
       "4  2021-11-20T00:00:00.0000000Z  2021-11-21T00:00:00.0000000Z   \n",
       "\n",
       "                      time_open                    time_close  price_open  \\\n",
       "0  2021-11-24T00:01:51.9720000Z  2021-11-24T08:00:31.7440000Z      571.94   \n",
       "1  2021-11-23T00:04:40.7570000Z  2021-11-23T23:59:20.7720000Z      557.13   \n",
       "2  2021-11-22T00:04:18.7320000Z  2021-11-22T23:55:36.7250000Z      574.35   \n",
       "3  2021-11-21T00:00:41.7210000Z  2021-11-21T23:58:45.3310000Z      585.26   \n",
       "4  2021-11-20T00:00:54.2470000Z  2021-11-20T23:56:23.3950000Z      575.56   \n",
       "\n",
       "   price_high  price_low  price_close  volume_traded  trades_count  \n",
       "0      585.81     559.01       580.14    1068.894726           745  \n",
       "1      575.62     546.42       571.26    2731.493167          1788  \n",
       "2      578.36     547.44       558.64    4880.968776          3065  \n",
       "3      585.71     568.94       575.85    6451.875819          2666  \n",
       "4      588.62     565.56       584.77    1438.315690          1312  "
      ]
     },
     "execution_count": 16,
     "metadata": {},
     "output_type": "execute_result"
    }
   ],
   "source": [
    "df = pd.DataFrame(data)\n",
    "df.head()"
   ]
  },
  {
   "cell_type": "markdown",
   "metadata": {},
   "source": [
    "# Price open"
   ]
  },
  {
   "cell_type": "code",
   "execution_count": 17,
   "metadata": {},
   "outputs": [
    {
     "data": {
      "text/plain": [
       "571.94"
      ]
     },
     "execution_count": 17,
     "metadata": {},
     "output_type": "execute_result"
    }
   ],
   "source": [
    "df['price_open'][0]"
   ]
  },
  {
   "cell_type": "markdown",
   "metadata": {},
   "source": [
    "# Price close "
   ]
  },
  {
   "cell_type": "code",
   "execution_count": 18,
   "metadata": {},
   "outputs": [
    {
     "data": {
      "text/plain": [
       "580.14"
      ]
     },
     "execution_count": 18,
     "metadata": {},
     "output_type": "execute_result"
    }
   ],
   "source": [
    "df['price_close'][0]"
   ]
  },
  {
   "cell_type": "markdown",
   "metadata": {},
   "source": [
    "# Price_High"
   ]
  },
  {
   "cell_type": "code",
   "execution_count": 19,
   "metadata": {},
   "outputs": [
    {
     "data": {
      "text/plain": [
       "585.81"
      ]
     },
     "execution_count": 19,
     "metadata": {},
     "output_type": "execute_result"
    }
   ],
   "source": [
    "df['price_high'][0]"
   ]
  },
  {
   "cell_type": "markdown",
   "metadata": {},
   "source": [
    "# volume_traded"
   ]
  },
  {
   "cell_type": "code",
   "execution_count": 20,
   "metadata": {},
   "outputs": [
    {
     "data": {
      "text/plain": [
       "1068.89472639"
      ]
     },
     "execution_count": 20,
     "metadata": {},
     "output_type": "execute_result"
    }
   ],
   "source": [
    "df['volume_traded'][0]"
   ]
  },
  {
   "cell_type": "code",
   "execution_count": null,
   "metadata": {},
   "outputs": [],
   "source": []
  },
  {
   "cell_type": "markdown",
   "metadata": {},
   "source": [
    "# Candlestick Charts in Python"
   ]
  },
  {
   "cell_type": "code",
   "execution_count": 21,
   "metadata": {},
   "outputs": [
    {
     "data": {
      "application/vnd.plotly.v1+json": {
       "config": {
        "plotlyServerURL": "https://plot.ly"
       },
       "data": [
        {
         "close": [
          580.14,
          571.26,
          558.64,
          575.85,
          584.77,
          575.04,
          554.38,
          596.3,
          598.68,
          665.54,
          678.4,
          666.18,
          669.52,
          676.33,
          664.47,
          716.99,
          638.26,
          600.41,
          587.88,
          598.68,
          596.05,
          610.87,
          598.66,
          587.47,
          596.78,
          585.45,
          593.27,
          578.84,
          548.6,
          611.29,
          621.36,
          617.51,
          629.21,
          624.17,
          625.39,
          644.72,
          618.35,
          610.8,
          612.04,
          626.04,
          625.21,
          598.7,
          593.41,
          586.47,
          601.44,
          586.02,
          615.2,
          596.26,
          612.09,
          617.22,
          593.52,
          550.93,
          571.69,
          552.3,
          543.74,
          502.83,
          485.38,
          474.44,
          488.26,
          504.03,
          517.2,
          513.51,
          552.72,
          547.91,
          504.72,
          542.66,
          609.04,
          631.48,
          621.43,
          639.21,
          652.69,
          640.32,
          614.4,
          647.12,
          636.37,
          628.59,
          660.44,
          661.19,
          672.45,
          785,
          764.12,
          709.15,
          713.34,
          664.87,
          656.5,
          637.11,
          632.22,
          659.56,
          646.21,
          636.24,
          606.85,
          651.02,
          637.79,
          678.92,
          672.56,
          676.38,
          693.4,
          660.72,
          633.18,
          638.6
         ],
         "high": [
          585.81,
          575.62,
          578.36,
          585.71,
          588.62,
          578,
          601.19,
          603.42,
          664.15,
          685.6,
          678.82,
          670.09,
          684.16,
          680.8,
          728.79,
          731.49,
          643,
          600.41,
          603.13,
          633,
          613.28,
          619.5,
          608.39,
          600,
          604.57,
          601.4,
          596.8,
          591.97,
          619.08,
          633.07,
          628.35,
          633.22,
          638.18,
          636.96,
          655.88,
          648.9,
          624.81,
          619.02,
          628.38,
          648.9,
          636.72,
          608.51,
          594.67,
          600.88,
          618.44,
          622.92,
          624.17,
          617.5,
          635.73,
          625.4,
          600.03,
          571.24,
          579,
          560.32,
          544.69,
          506.09,
          498.18,
          499.06,
          515.62,
          520.41,
          523.03,
          556.53,
          553.97,
          548.25,
          552.4,
          609.26,
          647.55,
          638.54,
          647.74,
          655.43,
          657.18,
          642.91,
          661.25,
          655.33,
          648.07,
          674.07,
          673.4,
          680,
          788.13,
          803.78,
          767.3,
          734.67,
          721.14,
          674.15,
          657.29,
          651.47,
          665.12,
          692.57,
          647.13,
          637.07,
          656.67,
          659.23,
          682.84,
          695,
          690.08,
          700.38,
          700.77,
          660.72,
          655,
          691.51
         ],
         "low": [
          559.01,
          546.42,
          547.44,
          568.94,
          565.56,
          548.9,
          543.56,
          578.81,
          572.18,
          664.88,
          658,
          655.77,
          647.21,
          659,
          644.99,
          637.18,
          599.72,
          586.73,
          577.29,
          592.46,
          587.34,
          589.33,
          582.81,
          579.93,
          574.2,
          576.52,
          573.9,
          544.95,
          533.8,
          599.45,
          614.77,
          605.77,
          614.25,
          612.18,
          621.44,
          605,
          599.81,
          598.3,
          589.52,
          623.39,
          585.7,
          590.88,
          571.66,
          568.12,
          578,
          583.1,
          592.35,
          588.22,
          598.1,
          562.23,
          548.99,
          531.22,
          545.85,
          536.64,
          500.66,
          482.15,
          471.38,
          472.76,
          487.87,
          480.96,
          502.16,
          479.51,
          532.46,
          496.42,
          497.33,
          530,
          602.37,
          614.75,
          613.33,
          626.33,
          632.28,
          608.85,
          590.77,
          623.42,
          625.91,
          618.1,
          655.87,
          644.55,
          586,
          742.11,
          698.78,
          697.41,
          651.34,
          653.19,
          625.6,
          624.62,
          630.39,
          647.22,
          622.94,
          596.82,
          605,
          626.84,
          633.44,
          664.65,
          653.14,
          672.49,
          653.23,
          619.62,
          620.43,
          637.84
         ],
         "open": [
          571.94,
          557.13,
          574.35,
          585.26,
          575.56,
          553.9,
          595.79,
          599.29,
          664.15,
          679.26,
          666.61,
          669.75,
          676.44,
          661.07,
          718.18,
          638.93,
          602.68,
          587.91,
          598.01,
          596.05,
          611.93,
          599.61,
          587.59,
          596.13,
          585.71,
          595.54,
          579.95,
          548.92,
          611.99,
          621.69,
          617.33,
          629.36,
          624.13,
          623.03,
          644.88,
          618.7,
          611.28,
          611.44,
          624.23,
          625.23,
          598.17,
          594.06,
          587.55,
          598.71,
          584.96,
          615.06,
          596.6,
          611.98,
          617.08,
          594.94,
          551.17,
          571.24,
          552.08,
          543.92,
          502.15,
          484.96,
          474,
          487.78,
          503.61,
          516.54,
          513.93,
          552.78,
          547.55,
          504.91,
          542.48,
          609.26,
          630.76,
          621.29,
          639.21,
          653.27,
          640.94,
          614.5,
          647.32,
          636.23,
          628.66,
          661.03,
          662.46,
          675.17,
          784.69,
          765.04,
          709.99,
          713.52,
          664.94,
          656.17,
          636.77,
          632.82,
          659.84,
          647.22,
          635.27,
          606.48,
          650.86,
          636.22,
          678.32,
          672.98,
          676.6,
          693.26,
          659.76,
          633.95,
          638.41,
          673.55
         ],
         "type": "candlestick",
         "x": [
          "2021-11-24T00:00:00.0000000Z",
          "2021-11-23T00:00:00.0000000Z",
          "2021-11-22T00:00:00.0000000Z",
          "2021-11-21T00:00:00.0000000Z",
          "2021-11-20T00:00:00.0000000Z",
          "2021-11-19T00:00:00.0000000Z",
          "2021-11-18T00:00:00.0000000Z",
          "2021-11-17T00:00:00.0000000Z",
          "2021-11-16T00:00:00.0000000Z",
          "2021-11-15T00:00:00.0000000Z",
          "2021-11-14T00:00:00.0000000Z",
          "2021-11-13T00:00:00.0000000Z",
          "2021-11-12T00:00:00.0000000Z",
          "2021-11-11T00:00:00.0000000Z",
          "2021-11-10T00:00:00.0000000Z",
          "2021-11-09T00:00:00.0000000Z",
          "2021-11-08T00:00:00.0000000Z",
          "2021-11-07T00:00:00.0000000Z",
          "2021-11-06T00:00:00.0000000Z",
          "2021-11-05T00:00:00.0000000Z",
          "2021-11-04T00:00:00.0000000Z",
          "2021-11-03T00:00:00.0000000Z",
          "2021-11-02T00:00:00.0000000Z",
          "2021-11-01T00:00:00.0000000Z",
          "2021-10-31T00:00:00.0000000Z",
          "2021-10-30T00:00:00.0000000Z",
          "2021-10-29T00:00:00.0000000Z",
          "2021-10-28T00:00:00.0000000Z",
          "2021-10-27T00:00:00.0000000Z",
          "2021-10-26T00:00:00.0000000Z",
          "2021-10-25T00:00:00.0000000Z",
          "2021-10-24T00:00:00.0000000Z",
          "2021-10-23T00:00:00.0000000Z",
          "2021-10-22T00:00:00.0000000Z",
          "2021-10-21T00:00:00.0000000Z",
          "2021-10-20T00:00:00.0000000Z",
          "2021-10-19T00:00:00.0000000Z",
          "2021-10-18T00:00:00.0000000Z",
          "2021-10-17T00:00:00.0000000Z",
          "2021-10-16T00:00:00.0000000Z",
          "2021-10-15T00:00:00.0000000Z",
          "2021-10-14T00:00:00.0000000Z",
          "2021-10-13T00:00:00.0000000Z",
          "2021-10-12T00:00:00.0000000Z",
          "2021-10-11T00:00:00.0000000Z",
          "2021-10-10T00:00:00.0000000Z",
          "2021-10-09T00:00:00.0000000Z",
          "2021-10-08T00:00:00.0000000Z",
          "2021-10-07T00:00:00.0000000Z",
          "2021-10-06T00:00:00.0000000Z",
          "2021-10-05T00:00:00.0000000Z",
          "2021-10-04T00:00:00.0000000Z",
          "2021-10-03T00:00:00.0000000Z",
          "2021-10-02T00:00:00.0000000Z",
          "2021-10-01T00:00:00.0000000Z",
          "2021-09-30T00:00:00.0000000Z",
          "2021-09-29T00:00:00.0000000Z",
          "2021-09-28T00:00:00.0000000Z",
          "2021-09-27T00:00:00.0000000Z",
          "2021-09-26T00:00:00.0000000Z",
          "2021-09-25T00:00:00.0000000Z",
          "2021-09-24T00:00:00.0000000Z",
          "2021-09-23T00:00:00.0000000Z",
          "2021-09-22T00:00:00.0000000Z",
          "2021-09-21T00:00:00.0000000Z",
          "2021-09-20T00:00:00.0000000Z",
          "2021-09-19T00:00:00.0000000Z",
          "2021-09-18T00:00:00.0000000Z",
          "2021-09-17T00:00:00.0000000Z",
          "2021-09-16T00:00:00.0000000Z",
          "2021-09-15T00:00:00.0000000Z",
          "2021-09-14T00:00:00.0000000Z",
          "2021-09-13T00:00:00.0000000Z",
          "2021-09-12T00:00:00.0000000Z",
          "2021-09-11T00:00:00.0000000Z",
          "2021-09-10T00:00:00.0000000Z",
          "2021-09-09T00:00:00.0000000Z",
          "2021-09-08T00:00:00.0000000Z",
          "2021-09-07T00:00:00.0000000Z",
          "2021-09-06T00:00:00.0000000Z",
          "2021-09-05T00:00:00.0000000Z",
          "2021-09-04T00:00:00.0000000Z",
          "2021-09-03T00:00:00.0000000Z",
          "2021-09-02T00:00:00.0000000Z",
          "2021-09-01T00:00:00.0000000Z",
          "2021-08-31T00:00:00.0000000Z",
          "2021-08-30T00:00:00.0000000Z",
          "2021-08-29T00:00:00.0000000Z",
          "2021-08-28T00:00:00.0000000Z",
          "2021-08-27T00:00:00.0000000Z",
          "2021-08-26T00:00:00.0000000Z",
          "2021-08-25T00:00:00.0000000Z",
          "2021-08-24T00:00:00.0000000Z",
          "2021-08-23T00:00:00.0000000Z",
          "2021-08-22T00:00:00.0000000Z",
          "2021-08-21T00:00:00.0000000Z",
          "2021-08-20T00:00:00.0000000Z",
          "2021-08-19T00:00:00.0000000Z",
          "2021-08-18T00:00:00.0000000Z",
          "2021-08-17T00:00:00.0000000Z"
         ]
        }
       ],
       "layout": {
        "autosize": true,
        "colorway": [
         "#5E0DAC",
         "#FF4F00",
         "#375CB1",
         "#FF7400",
         "#FFF400",
         "#FF0056"
        ],
        "hovermode": "x",
        "margin": {
         "b": 15
        },
        "paper_bgcolor": "rgba(0, 0, 0, 0)",
        "plot_bgcolor": "rgba(0, 0, 0, 0)",
        "template": {
         "data": {
          "bar": [
           {
            "error_x": {
             "color": "#f2f5fa"
            },
            "error_y": {
             "color": "#f2f5fa"
            },
            "marker": {
             "line": {
              "color": "rgb(17,17,17)",
              "width": 0.5
             },
             "pattern": {
              "fillmode": "overlay",
              "size": 10,
              "solidity": 0.2
             }
            },
            "type": "bar"
           }
          ],
          "barpolar": [
           {
            "marker": {
             "line": {
              "color": "rgb(17,17,17)",
              "width": 0.5
             },
             "pattern": {
              "fillmode": "overlay",
              "size": 10,
              "solidity": 0.2
             }
            },
            "type": "barpolar"
           }
          ],
          "carpet": [
           {
            "aaxis": {
             "endlinecolor": "#A2B1C6",
             "gridcolor": "#506784",
             "linecolor": "#506784",
             "minorgridcolor": "#506784",
             "startlinecolor": "#A2B1C6"
            },
            "baxis": {
             "endlinecolor": "#A2B1C6",
             "gridcolor": "#506784",
             "linecolor": "#506784",
             "minorgridcolor": "#506784",
             "startlinecolor": "#A2B1C6"
            },
            "type": "carpet"
           }
          ],
          "choropleth": [
           {
            "colorbar": {
             "outlinewidth": 0,
             "ticks": ""
            },
            "type": "choropleth"
           }
          ],
          "contour": [
           {
            "colorbar": {
             "outlinewidth": 0,
             "ticks": ""
            },
            "colorscale": [
             [
              0,
              "#0d0887"
             ],
             [
              0.1111111111111111,
              "#46039f"
             ],
             [
              0.2222222222222222,
              "#7201a8"
             ],
             [
              0.3333333333333333,
              "#9c179e"
             ],
             [
              0.4444444444444444,
              "#bd3786"
             ],
             [
              0.5555555555555556,
              "#d8576b"
             ],
             [
              0.6666666666666666,
              "#ed7953"
             ],
             [
              0.7777777777777778,
              "#fb9f3a"
             ],
             [
              0.8888888888888888,
              "#fdca26"
             ],
             [
              1,
              "#f0f921"
             ]
            ],
            "type": "contour"
           }
          ],
          "contourcarpet": [
           {
            "colorbar": {
             "outlinewidth": 0,
             "ticks": ""
            },
            "type": "contourcarpet"
           }
          ],
          "heatmap": [
           {
            "colorbar": {
             "outlinewidth": 0,
             "ticks": ""
            },
            "colorscale": [
             [
              0,
              "#0d0887"
             ],
             [
              0.1111111111111111,
              "#46039f"
             ],
             [
              0.2222222222222222,
              "#7201a8"
             ],
             [
              0.3333333333333333,
              "#9c179e"
             ],
             [
              0.4444444444444444,
              "#bd3786"
             ],
             [
              0.5555555555555556,
              "#d8576b"
             ],
             [
              0.6666666666666666,
              "#ed7953"
             ],
             [
              0.7777777777777778,
              "#fb9f3a"
             ],
             [
              0.8888888888888888,
              "#fdca26"
             ],
             [
              1,
              "#f0f921"
             ]
            ],
            "type": "heatmap"
           }
          ],
          "heatmapgl": [
           {
            "colorbar": {
             "outlinewidth": 0,
             "ticks": ""
            },
            "colorscale": [
             [
              0,
              "#0d0887"
             ],
             [
              0.1111111111111111,
              "#46039f"
             ],
             [
              0.2222222222222222,
              "#7201a8"
             ],
             [
              0.3333333333333333,
              "#9c179e"
             ],
             [
              0.4444444444444444,
              "#bd3786"
             ],
             [
              0.5555555555555556,
              "#d8576b"
             ],
             [
              0.6666666666666666,
              "#ed7953"
             ],
             [
              0.7777777777777778,
              "#fb9f3a"
             ],
             [
              0.8888888888888888,
              "#fdca26"
             ],
             [
              1,
              "#f0f921"
             ]
            ],
            "type": "heatmapgl"
           }
          ],
          "histogram": [
           {
            "marker": {
             "pattern": {
              "fillmode": "overlay",
              "size": 10,
              "solidity": 0.2
             }
            },
            "type": "histogram"
           }
          ],
          "histogram2d": [
           {
            "colorbar": {
             "outlinewidth": 0,
             "ticks": ""
            },
            "colorscale": [
             [
              0,
              "#0d0887"
             ],
             [
              0.1111111111111111,
              "#46039f"
             ],
             [
              0.2222222222222222,
              "#7201a8"
             ],
             [
              0.3333333333333333,
              "#9c179e"
             ],
             [
              0.4444444444444444,
              "#bd3786"
             ],
             [
              0.5555555555555556,
              "#d8576b"
             ],
             [
              0.6666666666666666,
              "#ed7953"
             ],
             [
              0.7777777777777778,
              "#fb9f3a"
             ],
             [
              0.8888888888888888,
              "#fdca26"
             ],
             [
              1,
              "#f0f921"
             ]
            ],
            "type": "histogram2d"
           }
          ],
          "histogram2dcontour": [
           {
            "colorbar": {
             "outlinewidth": 0,
             "ticks": ""
            },
            "colorscale": [
             [
              0,
              "#0d0887"
             ],
             [
              0.1111111111111111,
              "#46039f"
             ],
             [
              0.2222222222222222,
              "#7201a8"
             ],
             [
              0.3333333333333333,
              "#9c179e"
             ],
             [
              0.4444444444444444,
              "#bd3786"
             ],
             [
              0.5555555555555556,
              "#d8576b"
             ],
             [
              0.6666666666666666,
              "#ed7953"
             ],
             [
              0.7777777777777778,
              "#fb9f3a"
             ],
             [
              0.8888888888888888,
              "#fdca26"
             ],
             [
              1,
              "#f0f921"
             ]
            ],
            "type": "histogram2dcontour"
           }
          ],
          "mesh3d": [
           {
            "colorbar": {
             "outlinewidth": 0,
             "ticks": ""
            },
            "type": "mesh3d"
           }
          ],
          "parcoords": [
           {
            "line": {
             "colorbar": {
              "outlinewidth": 0,
              "ticks": ""
             }
            },
            "type": "parcoords"
           }
          ],
          "pie": [
           {
            "automargin": true,
            "type": "pie"
           }
          ],
          "scatter": [
           {
            "marker": {
             "line": {
              "color": "#283442"
             }
            },
            "type": "scatter"
           }
          ],
          "scatter3d": [
           {
            "line": {
             "colorbar": {
              "outlinewidth": 0,
              "ticks": ""
             }
            },
            "marker": {
             "colorbar": {
              "outlinewidth": 0,
              "ticks": ""
             }
            },
            "type": "scatter3d"
           }
          ],
          "scattercarpet": [
           {
            "marker": {
             "colorbar": {
              "outlinewidth": 0,
              "ticks": ""
             }
            },
            "type": "scattercarpet"
           }
          ],
          "scattergeo": [
           {
            "marker": {
             "colorbar": {
              "outlinewidth": 0,
              "ticks": ""
             }
            },
            "type": "scattergeo"
           }
          ],
          "scattergl": [
           {
            "marker": {
             "line": {
              "color": "#283442"
             }
            },
            "type": "scattergl"
           }
          ],
          "scattermapbox": [
           {
            "marker": {
             "colorbar": {
              "outlinewidth": 0,
              "ticks": ""
             }
            },
            "type": "scattermapbox"
           }
          ],
          "scatterpolar": [
           {
            "marker": {
             "colorbar": {
              "outlinewidth": 0,
              "ticks": ""
             }
            },
            "type": "scatterpolar"
           }
          ],
          "scatterpolargl": [
           {
            "marker": {
             "colorbar": {
              "outlinewidth": 0,
              "ticks": ""
             }
            },
            "type": "scatterpolargl"
           }
          ],
          "scatterternary": [
           {
            "marker": {
             "colorbar": {
              "outlinewidth": 0,
              "ticks": ""
             }
            },
            "type": "scatterternary"
           }
          ],
          "surface": [
           {
            "colorbar": {
             "outlinewidth": 0,
             "ticks": ""
            },
            "colorscale": [
             [
              0,
              "#0d0887"
             ],
             [
              0.1111111111111111,
              "#46039f"
             ],
             [
              0.2222222222222222,
              "#7201a8"
             ],
             [
              0.3333333333333333,
              "#9c179e"
             ],
             [
              0.4444444444444444,
              "#bd3786"
             ],
             [
              0.5555555555555556,
              "#d8576b"
             ],
             [
              0.6666666666666666,
              "#ed7953"
             ],
             [
              0.7777777777777778,
              "#fb9f3a"
             ],
             [
              0.8888888888888888,
              "#fdca26"
             ],
             [
              1,
              "#f0f921"
             ]
            ],
            "type": "surface"
           }
          ],
          "table": [
           {
            "cells": {
             "fill": {
              "color": "#506784"
             },
             "line": {
              "color": "rgb(17,17,17)"
             }
            },
            "header": {
             "fill": {
              "color": "#2a3f5f"
             },
             "line": {
              "color": "rgb(17,17,17)"
             }
            },
            "type": "table"
           }
          ]
         },
         "layout": {
          "annotationdefaults": {
           "arrowcolor": "#f2f5fa",
           "arrowhead": 0,
           "arrowwidth": 1
          },
          "autotypenumbers": "strict",
          "coloraxis": {
           "colorbar": {
            "outlinewidth": 0,
            "ticks": ""
           }
          },
          "colorscale": {
           "diverging": [
            [
             0,
             "#8e0152"
            ],
            [
             0.1,
             "#c51b7d"
            ],
            [
             0.2,
             "#de77ae"
            ],
            [
             0.3,
             "#f1b6da"
            ],
            [
             0.4,
             "#fde0ef"
            ],
            [
             0.5,
             "#f7f7f7"
            ],
            [
             0.6,
             "#e6f5d0"
            ],
            [
             0.7,
             "#b8e186"
            ],
            [
             0.8,
             "#7fbc41"
            ],
            [
             0.9,
             "#4d9221"
            ],
            [
             1,
             "#276419"
            ]
           ],
           "sequential": [
            [
             0,
             "#0d0887"
            ],
            [
             0.1111111111111111,
             "#46039f"
            ],
            [
             0.2222222222222222,
             "#7201a8"
            ],
            [
             0.3333333333333333,
             "#9c179e"
            ],
            [
             0.4444444444444444,
             "#bd3786"
            ],
            [
             0.5555555555555556,
             "#d8576b"
            ],
            [
             0.6666666666666666,
             "#ed7953"
            ],
            [
             0.7777777777777778,
             "#fb9f3a"
            ],
            [
             0.8888888888888888,
             "#fdca26"
            ],
            [
             1,
             "#f0f921"
            ]
           ],
           "sequentialminus": [
            [
             0,
             "#0d0887"
            ],
            [
             0.1111111111111111,
             "#46039f"
            ],
            [
             0.2222222222222222,
             "#7201a8"
            ],
            [
             0.3333333333333333,
             "#9c179e"
            ],
            [
             0.4444444444444444,
             "#bd3786"
            ],
            [
             0.5555555555555556,
             "#d8576b"
            ],
            [
             0.6666666666666666,
             "#ed7953"
            ],
            [
             0.7777777777777778,
             "#fb9f3a"
            ],
            [
             0.8888888888888888,
             "#fdca26"
            ],
            [
             1,
             "#f0f921"
            ]
           ]
          },
          "colorway": [
           "#636efa",
           "#EF553B",
           "#00cc96",
           "#ab63fa",
           "#FFA15A",
           "#19d3f3",
           "#FF6692",
           "#B6E880",
           "#FF97FF",
           "#FECB52"
          ],
          "font": {
           "color": "#f2f5fa"
          },
          "geo": {
           "bgcolor": "rgb(17,17,17)",
           "lakecolor": "rgb(17,17,17)",
           "landcolor": "rgb(17,17,17)",
           "showlakes": true,
           "showland": true,
           "subunitcolor": "#506784"
          },
          "hoverlabel": {
           "align": "left"
          },
          "hovermode": "closest",
          "mapbox": {
           "style": "dark"
          },
          "paper_bgcolor": "rgb(17,17,17)",
          "plot_bgcolor": "rgb(17,17,17)",
          "polar": {
           "angularaxis": {
            "gridcolor": "#506784",
            "linecolor": "#506784",
            "ticks": ""
           },
           "bgcolor": "rgb(17,17,17)",
           "radialaxis": {
            "gridcolor": "#506784",
            "linecolor": "#506784",
            "ticks": ""
           }
          },
          "scene": {
           "xaxis": {
            "backgroundcolor": "rgb(17,17,17)",
            "gridcolor": "#506784",
            "gridwidth": 2,
            "linecolor": "#506784",
            "showbackground": true,
            "ticks": "",
            "zerolinecolor": "#C8D4E3"
           },
           "yaxis": {
            "backgroundcolor": "rgb(17,17,17)",
            "gridcolor": "#506784",
            "gridwidth": 2,
            "linecolor": "#506784",
            "showbackground": true,
            "ticks": "",
            "zerolinecolor": "#C8D4E3"
           },
           "zaxis": {
            "backgroundcolor": "rgb(17,17,17)",
            "gridcolor": "#506784",
            "gridwidth": 2,
            "linecolor": "#506784",
            "showbackground": true,
            "ticks": "",
            "zerolinecolor": "#C8D4E3"
           }
          },
          "shapedefaults": {
           "line": {
            "color": "#f2f5fa"
           }
          },
          "sliderdefaults": {
           "bgcolor": "#C8D4E3",
           "bordercolor": "rgb(17,17,17)",
           "borderwidth": 1,
           "tickwidth": 0
          },
          "ternary": {
           "aaxis": {
            "gridcolor": "#506784",
            "linecolor": "#506784",
            "ticks": ""
           },
           "baxis": {
            "gridcolor": "#506784",
            "linecolor": "#506784",
            "ticks": ""
           },
           "bgcolor": "rgb(17,17,17)",
           "caxis": {
            "gridcolor": "#506784",
            "linecolor": "#506784",
            "ticks": ""
           }
          },
          "title": {
           "x": 0.05
          },
          "updatemenudefaults": {
           "bgcolor": "#506784",
           "borderwidth": 0
          },
          "xaxis": {
           "automargin": true,
           "gridcolor": "#283442",
           "linecolor": "#506784",
           "ticks": "",
           "title": {
            "standoff": 15
           },
           "zerolinecolor": "#283442",
           "zerolinewidth": 2
          },
          "yaxis": {
           "automargin": true,
           "gridcolor": "#283442",
           "linecolor": "#506784",
           "ticks": "",
           "title": {
            "standoff": 15
           },
           "zerolinecolor": "#283442",
           "zerolinewidth": 2
          }
         }
        },
        "title": {
         "font": {
          "color": "white"
         },
         "text": "Cryptocurrency Prices",
         "x": 0.5
        }
       }
      },
      "text/html": [
       "<div>                            <div id=\"c2c8c9f4-40d3-4489-8878-1943d7fd60b2\" class=\"plotly-graph-div\" style=\"height:525px; width:100%;\"></div>            <script type=\"text/javascript\">                require([\"plotly\"], function(Plotly) {                    window.PLOTLYENV=window.PLOTLYENV || {};                                    if (document.getElementById(\"c2c8c9f4-40d3-4489-8878-1943d7fd60b2\")) {                    Plotly.newPlot(                        \"c2c8c9f4-40d3-4489-8878-1943d7fd60b2\",                        [{\"close\":[580.14,571.26,558.64,575.85,584.77,575.04,554.38,596.3,598.68,665.54,678.4,666.18,669.52,676.33,664.47,716.99,638.26,600.41,587.88,598.68,596.05,610.87,598.66,587.47,596.78,585.45,593.27,578.84,548.6,611.29,621.36,617.51,629.21,624.17,625.39,644.72,618.35,610.8,612.04,626.04,625.21,598.7,593.41,586.47,601.44,586.02,615.2,596.26,612.09,617.22,593.52,550.93,571.69,552.3,543.74,502.83,485.38,474.44,488.26,504.03,517.2,513.51,552.72,547.91,504.72,542.66,609.04,631.48,621.43,639.21,652.69,640.32,614.4,647.12,636.37,628.59,660.44,661.19,672.45,785.0,764.12,709.15,713.34,664.87,656.5,637.11,632.22,659.56,646.21,636.24,606.85,651.02,637.79,678.92,672.56,676.38,693.4,660.72,633.18,638.6],\"high\":[585.81,575.62,578.36,585.71,588.62,578.0,601.19,603.42,664.15,685.6,678.82,670.09,684.16,680.8,728.79,731.49,643.0,600.41,603.13,633.0,613.28,619.5,608.39,600.0,604.57,601.4,596.8,591.97,619.08,633.07,628.35,633.22,638.18,636.96,655.88,648.9,624.81,619.02,628.38,648.9,636.72,608.51,594.67,600.88,618.44,622.92,624.17,617.5,635.73,625.4,600.03,571.24,579.0,560.32,544.69,506.09,498.18,499.06,515.62,520.41,523.03,556.53,553.97,548.25,552.4,609.26,647.55,638.54,647.74,655.43,657.18,642.91,661.25,655.33,648.07,674.07,673.4,680.0,788.13,803.78,767.3,734.67,721.14,674.15,657.29,651.47,665.12,692.57,647.13,637.07,656.67,659.23,682.84,695.0,690.08,700.38,700.77,660.72,655.0,691.51],\"low\":[559.01,546.42,547.44,568.94,565.56,548.9,543.56,578.81,572.18,664.88,658.0,655.77,647.21,659.0,644.99,637.18,599.72,586.73,577.29,592.46,587.34,589.33,582.81,579.93,574.2,576.52,573.9,544.95,533.8,599.45,614.77,605.77,614.25,612.18,621.44,605.0,599.81,598.3,589.52,623.39,585.7,590.88,571.66,568.12,578.0,583.1,592.35,588.22,598.1,562.23,548.99,531.22,545.85,536.64,500.66,482.15,471.38,472.76,487.87,480.96,502.16,479.51,532.46,496.42,497.33,530.0,602.37,614.75,613.33,626.33,632.28,608.85,590.77,623.42,625.91,618.1,655.87,644.55,586.0,742.11,698.78,697.41,651.34,653.19,625.6,624.62,630.39,647.22,622.94,596.82,605.0,626.84,633.44,664.65,653.14,672.49,653.23,619.62,620.43,637.84],\"open\":[571.94,557.13,574.35,585.26,575.56,553.9,595.79,599.29,664.15,679.26,666.61,669.75,676.44,661.07,718.18,638.93,602.68,587.91,598.01,596.05,611.93,599.61,587.59,596.13,585.71,595.54,579.95,548.92,611.99,621.69,617.33,629.36,624.13,623.03,644.88,618.7,611.28,611.44,624.23,625.23,598.17,594.06,587.55,598.71,584.96,615.06,596.6,611.98,617.08,594.94,551.17,571.24,552.08,543.92,502.15,484.96,474.0,487.78,503.61,516.54,513.93,552.78,547.55,504.91,542.48,609.26,630.76,621.29,639.21,653.27,640.94,614.5,647.32,636.23,628.66,661.03,662.46,675.17,784.69,765.04,709.99,713.52,664.94,656.17,636.77,632.82,659.84,647.22,635.27,606.48,650.86,636.22,678.32,672.98,676.6,693.26,659.76,633.95,638.41,673.55],\"type\":\"candlestick\",\"x\":[\"2021-11-24T00:00:00.0000000Z\",\"2021-11-23T00:00:00.0000000Z\",\"2021-11-22T00:00:00.0000000Z\",\"2021-11-21T00:00:00.0000000Z\",\"2021-11-20T00:00:00.0000000Z\",\"2021-11-19T00:00:00.0000000Z\",\"2021-11-18T00:00:00.0000000Z\",\"2021-11-17T00:00:00.0000000Z\",\"2021-11-16T00:00:00.0000000Z\",\"2021-11-15T00:00:00.0000000Z\",\"2021-11-14T00:00:00.0000000Z\",\"2021-11-13T00:00:00.0000000Z\",\"2021-11-12T00:00:00.0000000Z\",\"2021-11-11T00:00:00.0000000Z\",\"2021-11-10T00:00:00.0000000Z\",\"2021-11-09T00:00:00.0000000Z\",\"2021-11-08T00:00:00.0000000Z\",\"2021-11-07T00:00:00.0000000Z\",\"2021-11-06T00:00:00.0000000Z\",\"2021-11-05T00:00:00.0000000Z\",\"2021-11-04T00:00:00.0000000Z\",\"2021-11-03T00:00:00.0000000Z\",\"2021-11-02T00:00:00.0000000Z\",\"2021-11-01T00:00:00.0000000Z\",\"2021-10-31T00:00:00.0000000Z\",\"2021-10-30T00:00:00.0000000Z\",\"2021-10-29T00:00:00.0000000Z\",\"2021-10-28T00:00:00.0000000Z\",\"2021-10-27T00:00:00.0000000Z\",\"2021-10-26T00:00:00.0000000Z\",\"2021-10-25T00:00:00.0000000Z\",\"2021-10-24T00:00:00.0000000Z\",\"2021-10-23T00:00:00.0000000Z\",\"2021-10-22T00:00:00.0000000Z\",\"2021-10-21T00:00:00.0000000Z\",\"2021-10-20T00:00:00.0000000Z\",\"2021-10-19T00:00:00.0000000Z\",\"2021-10-18T00:00:00.0000000Z\",\"2021-10-17T00:00:00.0000000Z\",\"2021-10-16T00:00:00.0000000Z\",\"2021-10-15T00:00:00.0000000Z\",\"2021-10-14T00:00:00.0000000Z\",\"2021-10-13T00:00:00.0000000Z\",\"2021-10-12T00:00:00.0000000Z\",\"2021-10-11T00:00:00.0000000Z\",\"2021-10-10T00:00:00.0000000Z\",\"2021-10-09T00:00:00.0000000Z\",\"2021-10-08T00:00:00.0000000Z\",\"2021-10-07T00:00:00.0000000Z\",\"2021-10-06T00:00:00.0000000Z\",\"2021-10-05T00:00:00.0000000Z\",\"2021-10-04T00:00:00.0000000Z\",\"2021-10-03T00:00:00.0000000Z\",\"2021-10-02T00:00:00.0000000Z\",\"2021-10-01T00:00:00.0000000Z\",\"2021-09-30T00:00:00.0000000Z\",\"2021-09-29T00:00:00.0000000Z\",\"2021-09-28T00:00:00.0000000Z\",\"2021-09-27T00:00:00.0000000Z\",\"2021-09-26T00:00:00.0000000Z\",\"2021-09-25T00:00:00.0000000Z\",\"2021-09-24T00:00:00.0000000Z\",\"2021-09-23T00:00:00.0000000Z\",\"2021-09-22T00:00:00.0000000Z\",\"2021-09-21T00:00:00.0000000Z\",\"2021-09-20T00:00:00.0000000Z\",\"2021-09-19T00:00:00.0000000Z\",\"2021-09-18T00:00:00.0000000Z\",\"2021-09-17T00:00:00.0000000Z\",\"2021-09-16T00:00:00.0000000Z\",\"2021-09-15T00:00:00.0000000Z\",\"2021-09-14T00:00:00.0000000Z\",\"2021-09-13T00:00:00.0000000Z\",\"2021-09-12T00:00:00.0000000Z\",\"2021-09-11T00:00:00.0000000Z\",\"2021-09-10T00:00:00.0000000Z\",\"2021-09-09T00:00:00.0000000Z\",\"2021-09-08T00:00:00.0000000Z\",\"2021-09-07T00:00:00.0000000Z\",\"2021-09-06T00:00:00.0000000Z\",\"2021-09-05T00:00:00.0000000Z\",\"2021-09-04T00:00:00.0000000Z\",\"2021-09-03T00:00:00.0000000Z\",\"2021-09-02T00:00:00.0000000Z\",\"2021-09-01T00:00:00.0000000Z\",\"2021-08-31T00:00:00.0000000Z\",\"2021-08-30T00:00:00.0000000Z\",\"2021-08-29T00:00:00.0000000Z\",\"2021-08-28T00:00:00.0000000Z\",\"2021-08-27T00:00:00.0000000Z\",\"2021-08-26T00:00:00.0000000Z\",\"2021-08-25T00:00:00.0000000Z\",\"2021-08-24T00:00:00.0000000Z\",\"2021-08-23T00:00:00.0000000Z\",\"2021-08-22T00:00:00.0000000Z\",\"2021-08-21T00:00:00.0000000Z\",\"2021-08-20T00:00:00.0000000Z\",\"2021-08-19T00:00:00.0000000Z\",\"2021-08-18T00:00:00.0000000Z\",\"2021-08-17T00:00:00.0000000Z\"]}],                        {\"autosize\":true,\"colorway\":[\"#5E0DAC\",\"#FF4F00\",\"#375CB1\",\"#FF7400\",\"#FFF400\",\"#FF0056\"],\"hovermode\":\"x\",\"margin\":{\"b\":15},\"paper_bgcolor\":\"rgba(0, 0, 0, 0)\",\"plot_bgcolor\":\"rgba(0, 0, 0, 0)\",\"template\":{\"data\":{\"bar\":[{\"error_x\":{\"color\":\"#f2f5fa\"},\"error_y\":{\"color\":\"#f2f5fa\"},\"marker\":{\"line\":{\"color\":\"rgb(17,17,17)\",\"width\":0.5},\"pattern\":{\"fillmode\":\"overlay\",\"size\":10,\"solidity\":0.2}},\"type\":\"bar\"}],\"barpolar\":[{\"marker\":{\"line\":{\"color\":\"rgb(17,17,17)\",\"width\":0.5},\"pattern\":{\"fillmode\":\"overlay\",\"size\":10,\"solidity\":0.2}},\"type\":\"barpolar\"}],\"carpet\":[{\"aaxis\":{\"endlinecolor\":\"#A2B1C6\",\"gridcolor\":\"#506784\",\"linecolor\":\"#506784\",\"minorgridcolor\":\"#506784\",\"startlinecolor\":\"#A2B1C6\"},\"baxis\":{\"endlinecolor\":\"#A2B1C6\",\"gridcolor\":\"#506784\",\"linecolor\":\"#506784\",\"minorgridcolor\":\"#506784\",\"startlinecolor\":\"#A2B1C6\"},\"type\":\"carpet\"}],\"choropleth\":[{\"colorbar\":{\"outlinewidth\":0,\"ticks\":\"\"},\"type\":\"choropleth\"}],\"contour\":[{\"colorbar\":{\"outlinewidth\":0,\"ticks\":\"\"},\"colorscale\":[[0.0,\"#0d0887\"],[0.1111111111111111,\"#46039f\"],[0.2222222222222222,\"#7201a8\"],[0.3333333333333333,\"#9c179e\"],[0.4444444444444444,\"#bd3786\"],[0.5555555555555556,\"#d8576b\"],[0.6666666666666666,\"#ed7953\"],[0.7777777777777778,\"#fb9f3a\"],[0.8888888888888888,\"#fdca26\"],[1.0,\"#f0f921\"]],\"type\":\"contour\"}],\"contourcarpet\":[{\"colorbar\":{\"outlinewidth\":0,\"ticks\":\"\"},\"type\":\"contourcarpet\"}],\"heatmap\":[{\"colorbar\":{\"outlinewidth\":0,\"ticks\":\"\"},\"colorscale\":[[0.0,\"#0d0887\"],[0.1111111111111111,\"#46039f\"],[0.2222222222222222,\"#7201a8\"],[0.3333333333333333,\"#9c179e\"],[0.4444444444444444,\"#bd3786\"],[0.5555555555555556,\"#d8576b\"],[0.6666666666666666,\"#ed7953\"],[0.7777777777777778,\"#fb9f3a\"],[0.8888888888888888,\"#fdca26\"],[1.0,\"#f0f921\"]],\"type\":\"heatmap\"}],\"heatmapgl\":[{\"colorbar\":{\"outlinewidth\":0,\"ticks\":\"\"},\"colorscale\":[[0.0,\"#0d0887\"],[0.1111111111111111,\"#46039f\"],[0.2222222222222222,\"#7201a8\"],[0.3333333333333333,\"#9c179e\"],[0.4444444444444444,\"#bd3786\"],[0.5555555555555556,\"#d8576b\"],[0.6666666666666666,\"#ed7953\"],[0.7777777777777778,\"#fb9f3a\"],[0.8888888888888888,\"#fdca26\"],[1.0,\"#f0f921\"]],\"type\":\"heatmapgl\"}],\"histogram\":[{\"marker\":{\"pattern\":{\"fillmode\":\"overlay\",\"size\":10,\"solidity\":0.2}},\"type\":\"histogram\"}],\"histogram2d\":[{\"colorbar\":{\"outlinewidth\":0,\"ticks\":\"\"},\"colorscale\":[[0.0,\"#0d0887\"],[0.1111111111111111,\"#46039f\"],[0.2222222222222222,\"#7201a8\"],[0.3333333333333333,\"#9c179e\"],[0.4444444444444444,\"#bd3786\"],[0.5555555555555556,\"#d8576b\"],[0.6666666666666666,\"#ed7953\"],[0.7777777777777778,\"#fb9f3a\"],[0.8888888888888888,\"#fdca26\"],[1.0,\"#f0f921\"]],\"type\":\"histogram2d\"}],\"histogram2dcontour\":[{\"colorbar\":{\"outlinewidth\":0,\"ticks\":\"\"},\"colorscale\":[[0.0,\"#0d0887\"],[0.1111111111111111,\"#46039f\"],[0.2222222222222222,\"#7201a8\"],[0.3333333333333333,\"#9c179e\"],[0.4444444444444444,\"#bd3786\"],[0.5555555555555556,\"#d8576b\"],[0.6666666666666666,\"#ed7953\"],[0.7777777777777778,\"#fb9f3a\"],[0.8888888888888888,\"#fdca26\"],[1.0,\"#f0f921\"]],\"type\":\"histogram2dcontour\"}],\"mesh3d\":[{\"colorbar\":{\"outlinewidth\":0,\"ticks\":\"\"},\"type\":\"mesh3d\"}],\"parcoords\":[{\"line\":{\"colorbar\":{\"outlinewidth\":0,\"ticks\":\"\"}},\"type\":\"parcoords\"}],\"pie\":[{\"automargin\":true,\"type\":\"pie\"}],\"scatter\":[{\"marker\":{\"line\":{\"color\":\"#283442\"}},\"type\":\"scatter\"}],\"scatter3d\":[{\"line\":{\"colorbar\":{\"outlinewidth\":0,\"ticks\":\"\"}},\"marker\":{\"colorbar\":{\"outlinewidth\":0,\"ticks\":\"\"}},\"type\":\"scatter3d\"}],\"scattercarpet\":[{\"marker\":{\"colorbar\":{\"outlinewidth\":0,\"ticks\":\"\"}},\"type\":\"scattercarpet\"}],\"scattergeo\":[{\"marker\":{\"colorbar\":{\"outlinewidth\":0,\"ticks\":\"\"}},\"type\":\"scattergeo\"}],\"scattergl\":[{\"marker\":{\"line\":{\"color\":\"#283442\"}},\"type\":\"scattergl\"}],\"scattermapbox\":[{\"marker\":{\"colorbar\":{\"outlinewidth\":0,\"ticks\":\"\"}},\"type\":\"scattermapbox\"}],\"scatterpolar\":[{\"marker\":{\"colorbar\":{\"outlinewidth\":0,\"ticks\":\"\"}},\"type\":\"scatterpolar\"}],\"scatterpolargl\":[{\"marker\":{\"colorbar\":{\"outlinewidth\":0,\"ticks\":\"\"}},\"type\":\"scatterpolargl\"}],\"scatterternary\":[{\"marker\":{\"colorbar\":{\"outlinewidth\":0,\"ticks\":\"\"}},\"type\":\"scatterternary\"}],\"surface\":[{\"colorbar\":{\"outlinewidth\":0,\"ticks\":\"\"},\"colorscale\":[[0.0,\"#0d0887\"],[0.1111111111111111,\"#46039f\"],[0.2222222222222222,\"#7201a8\"],[0.3333333333333333,\"#9c179e\"],[0.4444444444444444,\"#bd3786\"],[0.5555555555555556,\"#d8576b\"],[0.6666666666666666,\"#ed7953\"],[0.7777777777777778,\"#fb9f3a\"],[0.8888888888888888,\"#fdca26\"],[1.0,\"#f0f921\"]],\"type\":\"surface\"}],\"table\":[{\"cells\":{\"fill\":{\"color\":\"#506784\"},\"line\":{\"color\":\"rgb(17,17,17)\"}},\"header\":{\"fill\":{\"color\":\"#2a3f5f\"},\"line\":{\"color\":\"rgb(17,17,17)\"}},\"type\":\"table\"}]},\"layout\":{\"annotationdefaults\":{\"arrowcolor\":\"#f2f5fa\",\"arrowhead\":0,\"arrowwidth\":1},\"autotypenumbers\":\"strict\",\"coloraxis\":{\"colorbar\":{\"outlinewidth\":0,\"ticks\":\"\"}},\"colorscale\":{\"diverging\":[[0,\"#8e0152\"],[0.1,\"#c51b7d\"],[0.2,\"#de77ae\"],[0.3,\"#f1b6da\"],[0.4,\"#fde0ef\"],[0.5,\"#f7f7f7\"],[0.6,\"#e6f5d0\"],[0.7,\"#b8e186\"],[0.8,\"#7fbc41\"],[0.9,\"#4d9221\"],[1,\"#276419\"]],\"sequential\":[[0.0,\"#0d0887\"],[0.1111111111111111,\"#46039f\"],[0.2222222222222222,\"#7201a8\"],[0.3333333333333333,\"#9c179e\"],[0.4444444444444444,\"#bd3786\"],[0.5555555555555556,\"#d8576b\"],[0.6666666666666666,\"#ed7953\"],[0.7777777777777778,\"#fb9f3a\"],[0.8888888888888888,\"#fdca26\"],[1.0,\"#f0f921\"]],\"sequentialminus\":[[0.0,\"#0d0887\"],[0.1111111111111111,\"#46039f\"],[0.2222222222222222,\"#7201a8\"],[0.3333333333333333,\"#9c179e\"],[0.4444444444444444,\"#bd3786\"],[0.5555555555555556,\"#d8576b\"],[0.6666666666666666,\"#ed7953\"],[0.7777777777777778,\"#fb9f3a\"],[0.8888888888888888,\"#fdca26\"],[1.0,\"#f0f921\"]]},\"colorway\":[\"#636efa\",\"#EF553B\",\"#00cc96\",\"#ab63fa\",\"#FFA15A\",\"#19d3f3\",\"#FF6692\",\"#B6E880\",\"#FF97FF\",\"#FECB52\"],\"font\":{\"color\":\"#f2f5fa\"},\"geo\":{\"bgcolor\":\"rgb(17,17,17)\",\"lakecolor\":\"rgb(17,17,17)\",\"landcolor\":\"rgb(17,17,17)\",\"showlakes\":true,\"showland\":true,\"subunitcolor\":\"#506784\"},\"hoverlabel\":{\"align\":\"left\"},\"hovermode\":\"closest\",\"mapbox\":{\"style\":\"dark\"},\"paper_bgcolor\":\"rgb(17,17,17)\",\"plot_bgcolor\":\"rgb(17,17,17)\",\"polar\":{\"angularaxis\":{\"gridcolor\":\"#506784\",\"linecolor\":\"#506784\",\"ticks\":\"\"},\"bgcolor\":\"rgb(17,17,17)\",\"radialaxis\":{\"gridcolor\":\"#506784\",\"linecolor\":\"#506784\",\"ticks\":\"\"}},\"scene\":{\"xaxis\":{\"backgroundcolor\":\"rgb(17,17,17)\",\"gridcolor\":\"#506784\",\"gridwidth\":2,\"linecolor\":\"#506784\",\"showbackground\":true,\"ticks\":\"\",\"zerolinecolor\":\"#C8D4E3\"},\"yaxis\":{\"backgroundcolor\":\"rgb(17,17,17)\",\"gridcolor\":\"#506784\",\"gridwidth\":2,\"linecolor\":\"#506784\",\"showbackground\":true,\"ticks\":\"\",\"zerolinecolor\":\"#C8D4E3\"},\"zaxis\":{\"backgroundcolor\":\"rgb(17,17,17)\",\"gridcolor\":\"#506784\",\"gridwidth\":2,\"linecolor\":\"#506784\",\"showbackground\":true,\"ticks\":\"\",\"zerolinecolor\":\"#C8D4E3\"}},\"shapedefaults\":{\"line\":{\"color\":\"#f2f5fa\"}},\"sliderdefaults\":{\"bgcolor\":\"#C8D4E3\",\"bordercolor\":\"rgb(17,17,17)\",\"borderwidth\":1,\"tickwidth\":0},\"ternary\":{\"aaxis\":{\"gridcolor\":\"#506784\",\"linecolor\":\"#506784\",\"ticks\":\"\"},\"baxis\":{\"gridcolor\":\"#506784\",\"linecolor\":\"#506784\",\"ticks\":\"\"},\"bgcolor\":\"rgb(17,17,17)\",\"caxis\":{\"gridcolor\":\"#506784\",\"linecolor\":\"#506784\",\"ticks\":\"\"}},\"title\":{\"x\":0.05},\"updatemenudefaults\":{\"bgcolor\":\"#506784\",\"borderwidth\":0},\"xaxis\":{\"automargin\":true,\"gridcolor\":\"#283442\",\"linecolor\":\"#506784\",\"ticks\":\"\",\"title\":{\"standoff\":15},\"zerolinecolor\":\"#283442\",\"zerolinewidth\":2},\"yaxis\":{\"automargin\":true,\"gridcolor\":\"#283442\",\"linecolor\":\"#506784\",\"ticks\":\"\",\"title\":{\"standoff\":15},\"zerolinecolor\":\"#283442\",\"zerolinewidth\":2}}},\"title\":{\"font\":{\"color\":\"white\"},\"text\":\"Cryptocurrency Prices\",\"x\":0.5}},                        {\"responsive\": true}                    ).then(function(){\n",
       "                            \n",
       "var gd = document.getElementById('c2c8c9f4-40d3-4489-8878-1943d7fd60b2');\n",
       "var x = new MutationObserver(function (mutations, observer) {{\n",
       "        var display = window.getComputedStyle(gd).display;\n",
       "        if (!display || display === 'none') {{\n",
       "            console.log([gd, 'removed!']);\n",
       "            Plotly.purge(gd);\n",
       "            observer.disconnect();\n",
       "        }}\n",
       "}});\n",
       "\n",
       "// Listen for the removal of the full notebook cells\n",
       "var notebookContainer = gd.closest('#notebook-container');\n",
       "if (notebookContainer) {{\n",
       "    x.observe(notebookContainer, {childList: true});\n",
       "}}\n",
       "\n",
       "// Listen for the clearing of the current output cell\n",
       "var outputEl = gd.closest('.output');\n",
       "if (outputEl) {{\n",
       "    x.observe(outputEl, {childList: true});\n",
       "}}\n",
       "\n",
       "                        })                };                });            </script>        </div>"
      ]
     },
     "metadata": {},
     "output_type": "display_data"
    }
   ],
   "source": [
    "fig = go.Figure(data=[go.Candlestick(x=df.time_period_start,\n",
    "                                         open=df.price_open,\n",
    "                                         high=df.price_high,\n",
    "                                         low=df.price_low,\n",
    "                                         close=df.price_close, )]\n",
    "\n",
    "                    )\n",
    "\n",
    "fig.update_layout( colorway=[\"#5E0DAC\", '#FF4F00', '#375CB1', '#FF7400', '#FFF400', '#FF0056'],\n",
    "                  template='plotly_dark',\n",
    "                  paper_bgcolor='rgba(0, 0, 0, 0)',\n",
    "                  plot_bgcolor='rgba(0, 0, 0, 0)',\n",
    "                  margin={'b': 15},\n",
    "                  hovermode='x',\n",
    "                  autosize=True,\n",
    "                  title={'text': 'Cryptocurrency Prices', 'font': {'color': 'white'}, 'x': 0.5},)\n",
    "\n",
    "\n",
    "fig.show()\n"
   ]
  },
  {
   "cell_type": "code",
   "execution_count": null,
   "metadata": {},
   "outputs": [],
   "source": []
  },
  {
   "cell_type": "raw",
   "metadata": {},
   "source": [
    " # currency=value\n",
    "    url = f'https://rest.coinapi.io/v1/ohlcv/{currency}/USD/latest?period_id={time_change}'\n",
    "    #apikey = '6B081E29-633F-4CDD-9743-9219FBE0709B'\n",
    "    apikey='60F4A03A-174B-4FC1-973D-D05364E6AEEB'\n",
    "    #60F4A03A-174B-4FC1-973D-D05364E6AEEB\n",
    "    headers = {'X-CoinAPI-Key': apikey}\n",
    "    response = requests.get(url, headers=headers)\n",
    "    data = json.loads(response.text)\n",
    "    df = pd.DataFrame(data)"
   ]
  },
  {
   "cell_type": "code",
   "execution_count": null,
   "metadata": {},
   "outputs": [],
   "source": []
  }
 ],
 "metadata": {
  "kernelspec": {
   "display_name": "Python 3",
   "language": "python",
   "name": "python3"
  },
  "language_info": {
   "codemirror_mode": {
    "name": "ipython",
    "version": 3
   },
   "file_extension": ".py",
   "mimetype": "text/x-python",
   "name": "python",
   "nbconvert_exporter": "python",
   "pygments_lexer": "ipython3",
   "version": "3.8.8"
  }
 },
 "nbformat": 4,
 "nbformat_minor": 4
}
